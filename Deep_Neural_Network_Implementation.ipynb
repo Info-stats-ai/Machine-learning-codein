{
 "cells": [
  {
   "cell_type": "markdown",
   "id": "e8a37f27-0768-4c60-9bd2-356425689536",
   "metadata": {},
   "source": [
    "### Deep_Neural_Network_Implementation\n",
    "- Two layers 1 hidden + 1 output\n"
   ]
  },
  {
   "cell_type": "code",
   "execution_count": 1,
   "id": "9da8c9fa-dbe3-4206-bcd0-75bc6c6317cf",
   "metadata": {},
   "outputs": [],
   "source": [
    "# Model Parameters\n",
    "input_size = 2 # no. of features\n",
    "layers = [4,3] # no. of neurons in 1st and 2nd layer\n",
    "output_size = 2"
   ]
  },
  {
   "cell_type": "code",
   "execution_count": 12,
   "id": "7d99d935-822f-44af-b4d3-860dc807f4cb",
   "metadata": {},
   "outputs": [
    {
     "name": "stdout",
     "output_type": "stream",
     "text": [
      "[[0.5 0.5]]\n"
     ]
    }
   ],
   "source": [
    "def softmax(a):\n",
    "    e_power_a = np.exp(a) # Vector\n",
    "    ans = e_power_a/np.sum(e_power_a, axis = 1, keepdims = True)\n",
    "    \n",
    "    return ans\n",
    "\n",
    "a = np.array([[10,10]])\n",
    "a_ = softmax(a)\n",
    "print(a_)\n",
    "\n",
    "\n",
    "    "
   ]
  },
  {
   "cell_type": "code",
   "execution_count": 14,
   "id": "a34ddf4c-7539-4023-a065-5ca8b7f43207",
   "metadata": {},
   "outputs": [
    {
     "name": "stdout",
     "output_type": "stream",
     "text": [
      "[[0.5 0.5]\n",
      " [0.5 0.5]]\n"
     ]
    }
   ],
   "source": [
    "b = np.array([[10,10], [20, 20]])\n",
    "b_ = softmax(b)\n",
    "print(b_)\n"
   ]
  },
  {
   "cell_type": "code",
   "execution_count": 5,
   "id": "e560958a-7380-44d7-a9b9-fcab97a14fa0",
   "metadata": {},
   "outputs": [
    {
     "data": {
      "text/plain": [
       "array([ 2.71828183,  7.3890561 , 20.08553692])"
      ]
     },
     "execution_count": 5,
     "metadata": {},
     "output_type": "execute_result"
    }
   ],
   "source": [
    "a = np.array([1,2,3])\n",
    "np.exp(a)"
   ]
  },
  {
   "cell_type": "code",
   "execution_count": 6,
   "id": "20cc2bcb-611a-44da-b89f-89faf7c2d6ba",
   "metadata": {},
   "outputs": [
    {
     "data": {
      "text/plain": [
       "array([8, 9])"
      ]
     },
     "execution_count": 6,
     "metadata": {},
     "output_type": "execute_result"
    }
   ],
   "source": [
    "a = np.array([[5, 1, 2], [6, 1, 2]])\n",
    "np.sum(a,axis = 1) # 1 d array"
   ]
  },
  {
   "cell_type": "code",
   "execution_count": 7,
   "id": "d3c1a73f-f91e-41a5-b948-3f20a564dc48",
   "metadata": {},
   "outputs": [
    {
     "data": {
      "text/plain": [
       "array([[8],\n",
       "       [9]])"
      ]
     },
     "execution_count": 7,
     "metadata": {},
     "output_type": "execute_result"
    }
   ],
   "source": [
    "a = np.array([[5, 1, 2], [6, 1, 2]])\n",
    "np.sum(a,axis = 1, keepdims = True) # 2d array"
   ]
  },
  {
   "cell_type": "code",
   "execution_count": 3,
   "id": "0918a094-9c52-48c6-a6ae-060a0bb378e4",
   "metadata": {},
   "outputs": [],
   "source": [
    "import  numpy as np "
   ]
  },
  {
   "cell_type": "markdown",
   "id": "5301d5ea-8d44-4140-a18e-f7d950aa01bb",
   "metadata": {},
   "source": [
    "# Neural Network Architecture:"
   ]
  },
  {
   "cell_type": "code",
   "execution_count": 13,
   "id": "72cff9b2-12ab-4efc-9cfb-6aecfb1964ff",
   "metadata": {},
   "outputs": [],
   "source": [
    "class NeuralNetwork :\n",
    "    def __init__(self, input_size, layers, output_size):# a constructor\n",
    "        np.random.seed(0)\n",
    "#crearting weight matrix for the first hidden layer\n",
    "        w1 = np.random.randn(input_size, layers[0]) # randn provide normal\n",
    "        # distribution\n",
    "        # incantiation of b1\n",
    "        b1 = np.zeros((1, layers[0]))\n",
    "        # to access out model later on\n",
    "        model[\"w1\"] = np.random.randn(input_size, layers[0])\n",
    "        model['b1'] = np.zeors((1, layers[0]))\n",
    "# Second Layer\n",
    "        \n",
    "        model[\"w2\"] = np.random.randn(layers[0], layers[1])\n",
    "        model['b2'] = np.zeors((1, layers[1]))\n",
    "        \n",
    "# Third Layer/ Output layer\n",
    "        model[\"w3\"] = np.random.randn(layers[1], output_size)\n",
    "        model['b3'] = np.zeors((1, output_size))\n",
    "\n",
    "        self.model = model\n",
    "    # use for loops for n layered \n",
    "        "
   ]
  },
  {
   "cell_type": "code",
   "execution_count": 12,
   "id": "2f1cbc7a-5e8f-46c8-952e-6658f120c7bc",
   "metadata": {},
   "outputs": [
    {
     "name": "stdout",
     "output_type": "stream",
     "text": [
      "[[ 0.71659594 -1.69813832 -0.42092309  0.43824262]\n",
      " [-1.1863239   2.07209538  0.20123847  0.88258102]] (2, 4)\n"
     ]
    }
   ],
   "source": [
    "w1 = np.random.randn(input_size, layers[0])\n",
    "print(w1, w1.shape)"
   ]
  },
  {
   "cell_type": "markdown",
   "id": "2339bffc-fd51-4843-9b22-e9dcba79d2c3",
   "metadata": {},
   "source": [
    "### Understanding Forward propagation:\n",
    "- How to pass one example?\n",
    "- How to pass multiples examples(Vectorization)?\n",
    "- Writing the code."
   ]
  },
  {
   "cell_type": "code",
   "execution_count": 14,
   "id": "38abce55-e38e-48a4-b2f1-095842cc66e8",
   "metadata": {},
   "outputs": [],
   "source": [
    "import numpy as np"
   ]
  },
  {
   "cell_type": "code",
   "execution_count": null,
   "id": "5af60de6-acaa-4a38-8375-83c9c9428f87",
   "metadata": {},
   "outputs": [],
   "source": [
    "def forward(self, x):\n",
    "    w1, w2, w3 = self.model[\"w1\"],self.model[\"w2\"],self.model[\"w3\"],\n",
    "\n",
    "    b1, b2, b3 = self.model[\"b1\"], self.model[\"b2\"], self.model[\"b3\"]\n",
    "    \n",
    "    z1 = np.dot(x, w1) +  b1 # dot product of input layer and the weights\n",
    "    a1 = np.tanh(z1) # which produces output between -1 and 1 \n",
    "# tanh is our activation function right here\n",
    "    z2 = np.tanh(a1, w2) + b2\n",
    "    a2 = np.tanh(z2)\n",
    "\n",
    "    z3= np.tanh(a2, w3) + b3\n",
    "    y_ = softmax(z3)"
   ]
  }
 ],
 "metadata": {
  "kernelspec": {
   "display_name": "Python 3 (ipykernel)",
   "language": "python",
   "name": "python3"
  },
  "language_info": {
   "codemirror_mode": {
    "name": "ipython",
    "version": 3
   },
   "file_extension": ".py",
   "mimetype": "text/x-python",
   "name": "python",
   "nbconvert_exporter": "python",
   "pygments_lexer": "ipython3",
   "version": "3.11.7"
  }
 },
 "nbformat": 4,
 "nbformat_minor": 5
}
