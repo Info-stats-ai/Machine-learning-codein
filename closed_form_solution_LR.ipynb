{
 "cells": [
  {
   "cell_type": "markdown",
   "id": "a7d9bd07-a412-4d4e-b140-b41610349e08",
   "metadata": {},
   "source": [
    "### Closed Form Solution :"
   ]
  },
  {
   "cell_type": "code",
   "execution_count": 1,
   "id": "05a2b4b0-d59e-4d59-9859-dd039428f8eb",
   "metadata": {},
   "outputs": [],
   "source": [
    "import numpy as np\n",
    "import matplotlib.pyplot as plt\n",
    "import pandas as pd\n",
    "from sklearn.datasets import make_regression"
   ]
  },
  {
   "cell_type": "code",
   "execution_count": 2,
   "id": "2b4b930e-e050-43dd-99ac-71021c94d443",
   "metadata": {},
   "outputs": [],
   "source": [
    "X, Y = make_regression(n_samples= 400, n_features=1, n_informative=1, noise=1.8, random_state=11)"
   ]
  },
  {
   "cell_type": "code",
   "execution_count": 3,
   "id": "853ba8fb-fa32-4ea2-8d51-bd447ecd105f",
   "metadata": {},
   "outputs": [
    {
     "name": "stdout",
     "output_type": "stream",
     "text": [
      "(400,) <class 'numpy.ndarray'>\n"
     ]
    }
   ],
   "source": [
    "print(Y.shape,type(Y))\n"
   ]
  },
  {
   "cell_type": "code",
   "execution_count": 4,
   "id": "e6e294af-117a-4504-8803-f82f8dab8eb0",
   "metadata": {},
   "outputs": [
    {
     "name": "stdout",
     "output_type": "stream",
     "text": [
      "(400, 1)\n",
      "(400, 1)\n"
     ]
    }
   ],
   "source": [
    "Y = Y.reshape((-1,1)) #converting it into matrix , it is a vector\n",
    "print(X.shape)\n",
    "print(Y.shape)"
   ]
  },
  {
   "cell_type": "code",
   "execution_count": 123,
   "id": "7a9aa9b7-0353-4301-ba0f-5ab4cd20734e",
   "metadata": {},
   "outputs": [
    {
     "data": {
      "text/plain": [
       "numpy.ndarray"
      ]
     },
     "execution_count": 123,
     "metadata": {},
     "output_type": "execute_result"
    }
   ],
   "source": [
    "type(Y)"
   ]
  },
  {
   "cell_type": "code",
   "execution_count": 5,
   "id": "8272f3cd-2d57-483c-89ec-6ff75b551ab8",
   "metadata": {},
   "outputs": [],
   "source": [
    "X_normalised = (X- X.mean())/X.std()\n"
   ]
  },
  {
   "cell_type": "code",
   "execution_count": 6,
   "id": "abf6ad88-cdfe-41f4-84f2-803a2206ea31",
   "metadata": {},
   "outputs": [
    {
     "data": {
      "image/png": "[encoded data removed]",
      "text/plain": [
       "<Figure size 640x480 with 1 Axes>"
      ]
     },
     "metadata": {},
     "output_type": "display_data"
    }
   ],
   "source": [
    "plt.figure()\n",
    "plt.scatter(X_normalised, Y, color = \"orange\")\n",
    "plt.title(\"Normalised Data\")\n",
    "plt.grid()\n",
    "plt.show()"
   ]
  },
  {
   "cell_type": "markdown",
   "id": "2c166d60-4b10-4c6e-87d7-63f594362a3e",
   "metadata": {},
   "source": [
    "#### As my X matrix is single dimention \n",
    "#### and my theta are in 2 dimentions as theta nod and theta one\n",
    "#### I have to convert x matrix in 2 dimentions\n",
    "#### I have to add 1 in each row in X matrix.\n",
    "#### This case is true for any dimentions as there are (n+1) theta"
   ]
  },
  {
   "cell_type": "code",
   "execution_count": 7,
   "id": "15bbc5df-d029-4d3a-a16a-5bc1c14d24cf",
   "metadata": {},
   "outputs": [],
   "source": [
    "ones = np.ones((X_normalised.shape[0], 1))"
   ]
  },
  {
   "cell_type": "code",
   "execution_count": 8,
   "id": "1b684e7a-5014-4771-924e-c79f5a0c2799",
   "metadata": {},
   "outputs": [
    {
     "data": {
      "text/plain": [
       "array([[1.],\n",
       "       [1.],\n",
       "       [1.],\n",
       "       [1.],\n",
       "       [1.]])"
      ]
     },
     "execution_count": 8,
     "metadata": {},
     "output_type": "execute_result"
    }
   ],
   "source": [
    "ones[:5]"
   ]
  },
  {
   "cell_type": "code",
   "execution_count": 9,
   "id": "447f87e0-c81b-4a20-b141-69233bd91a82",
   "metadata": {},
   "outputs": [],
   "source": [
    "X_new = np.hstack((X_normalised, ones))"
   ]
  },
  {
   "cell_type": "code",
   "execution_count": 10,
   "id": "06e7e75e-d673-4d53-bf19-61b1e02f3e30",
   "metadata": {},
   "outputs": [
    {
     "name": "stdout",
     "output_type": "stream",
     "text": [
      "(400, 2)\n"
     ]
    }
   ],
   "source": [
    "print(X_new.shape)"
   ]
  },
  {
   "cell_type": "code",
   "execution_count": 11,
   "id": "63bcaa80-1e83-4de4-9256-9d143b02757f",
   "metadata": {},
   "outputs": [
    {
     "name": "stdout",
     "output_type": "stream",
     "text": [
      "[[-0.86881353  1.        ]\n",
      " [ 1.04796658  1.        ]\n",
      " [-0.2019676   1.        ]\n",
      " [-0.34017061  1.        ]\n",
      " [ 0.13317349  1.        ]]\n"
     ]
    }
   ],
   "source": [
    "print(X_new[:5, :])# two feature theta nod and theta 1 = so that theta_1*X + theta_nod"
   ]
  },
  {
   "cell_type": "code",
   "execution_count": 12,
   "id": "1463a212-1609-4235-a9e8-605a0edf200a",
   "metadata": {},
   "outputs": [],
   "source": [
    "def predict(X_normalised, theta):\n",
    "    return np.dot(X_normalised, theta)"
   ]
  },
  {
   "cell_type": "code",
   "execution_count": 13,
   "id": "a1a4af5d-3bff-4367-8113-d97b0c9d783e",
   "metadata": {},
   "outputs": [],
   "source": [
    " # converting Y to the matrix, but why ??"
   ]
  },
  {
   "cell_type": "code",
   "execution_count": 14,
   "id": "cd4bfa37-eaaf-4d42-8e07-00dbe5a38452",
   "metadata": {},
   "outputs": [],
   "source": [
    "def LR_in_closed_form(X_normalised, Y): # theta = {[X(T)X] ^-1}X(T)Y\n",
    "    Y = np.mat(Y)# converting Y to the matrix, but why ??\n",
    "    firstpart  = np.dot(X_normalised.T, X_normalised)\n",
    "    secondpart = np.dot(X_normalised.T, Y)\n",
    "    theta = np.linalg.pinv(firstpart)*(secondpart) # linearalgebra module\n",
    "    # se pesudo inverse of firstpart\n",
    "    return theta"
   ]
  },
  {
   "cell_type": "code",
   "execution_count": 15,
   "id": "8504e25f-d41c-47f1-aa87-d370791d7d38",
   "metadata": {},
   "outputs": [],
   "source": [
    "theta = LR_in_closed_form(X_new, Y)"
   ]
  },
  {
   "cell_type": "code",
   "execution_count": 16,
   "id": "a8059ed2-09c5-4749-b017-a9511e956521",
   "metadata": {},
   "outputs": [
    {
     "name": "stdout",
     "output_type": "stream",
     "text": [
      "[[19.45877082]\n",
      " [-0.29187892]]\n"
     ]
    }
   ],
   "source": [
    "print(theta)"
   ]
  },
  {
   "cell_type": "code",
   "execution_count": 136,
   "id": "839834a1-a5e0-4764-b008-0ed1472112c5",
   "metadata": {},
   "outputs": [],
   "source": [
    "## -0.29 is the bias # first value is for theta"
   ]
  },
  {
   "cell_type": "code",
   "execution_count": 17,
   "id": "c9d42a55-ab58-484d-bd75-15e5cd18ff10",
   "metadata": {},
   "outputs": [
    {
     "name": "stderr",
     "output_type": "stream",
     "text": [
      "No artists with labels found to put in legend.  Note that artists whose label start with an underscore are ignored when legend() is called with no argument.\n"
     ]
    },
    {
     "data": {
      "image/png": "[encoded data removed]",
      "text/plain": [
       "<Figure size 640x480 with 1 Axes>"
      ]
     },
     "metadata": {},
     "output_type": "display_data"
    }
   ],
   "source": [
    "plt.figure()\n",
    "plt.scatter(X_normalised, Y, color = \"orange\")\n",
    "plt.plot(X_normalised, predict(X_new, theta), color = \"red\")\n",
    "plt.legend()\n",
    "plt.grid()\n",
    "plt.show()"
   ]
  },
  {
   "cell_type": "code",
   "execution_count": 18,
   "id": "314ce958-b656-4704-8175-4b68924d82f3",
   "metadata": {},
   "outputs": [
    {
     "name": "stdout",
     "output_type": "stream",
     "text": [
      "(400, 1) (400, 1) (400, 2)\n"
     ]
    }
   ],
   "source": [
    "print(X.shape, Y.shape, X_new.shape)"
   ]
  },
  {
   "cell_type": "code",
   "execution_count": null,
   "id": "1e7ccf93-9107-4ffc-8e6b-d48364ff46b5",
   "metadata": {},
   "outputs": [],
   "source": []
  }
 ],
 "metadata": {
  "kernelspec": {
   "display_name": "Python 3 (ipykernel)",
   "language": "python",
   "name": "python3"
  },
  "language_info": {
   "codemirror_mode": {
    "name": "ipython",
    "version": 3
   },
   "file_extension": ".py",
   "mimetype": "text/x-python",
   "name": "python",
   "nbconvert_exporter": "python",
   "pygments_lexer": "ipython3",
   "version": "3.11.7"
  }
 },
 "nbformat": 4,
 "nbformat_minor": 5
}
