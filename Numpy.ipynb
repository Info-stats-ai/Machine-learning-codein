{
 "cells": [
  {
   "cell_type": "markdown",
   "id": "f63bd7f2-5306-43a4-9bfe-a94232f69ca7",
   "metadata": {},
   "source": [
    "### Working with Numpy- for mathematical operations"
   ]
  },
  {
   "cell_type": "code",
   "execution_count": 2,
   "id": "50fc816e-ecb6-41e9-b665-9edb52a189b5",
   "metadata": {},
   "outputs": [],
   "source": [
    "import numpy as np"
   ]
  },
  {
   "cell_type": "code",
   "execution_count": 3,
   "id": "8f94dd5d-4304-40d5-ba7c-1f28676157bf",
   "metadata": {},
   "outputs": [
    {
     "data": {
      "text/plain": [
       "array([  1,   2,   2, 344,   5])"
      ]
     },
     "execution_count": 3,
     "metadata": {},
     "output_type": "execute_result"
    }
   ],
   "source": [
    "a = np.array([1,2,2,344,5])\n",
    "a"
   ]
  },
  {
   "cell_type": "code",
   "execution_count": 4,
   "id": "41689b87-9334-488d-b9fb-499b8dfa0218",
   "metadata": {},
   "outputs": [
    {
     "data": {
      "text/plain": [
       "numpy.ndarray"
      ]
     },
     "execution_count": 4,
     "metadata": {},
     "output_type": "execute_result"
    }
   ],
   "source": [
    "type(a)"
   ]
  },
  {
   "cell_type": "code",
   "execution_count": 5,
   "id": "ee356439-485b-4483-8be2-09847bf5b7da",
   "metadata": {},
   "outputs": [
    {
     "data": {
      "text/plain": [
       "(5,)"
      ]
     },
     "execution_count": 5,
     "metadata": {},
     "output_type": "execute_result"
    }
   ],
   "source": [
    "a.shape #return a tuple"
   ]
  },
  {
   "cell_type": "code",
   "execution_count": 6,
   "id": "4c6d8d5e-7156-4014-a735-3e3af9710d68",
   "metadata": {},
   "outputs": [],
   "source": [
    "b = np.array([[1],[2],[3],[4],[5]])"
   ]
  },
  {
   "cell_type": "code",
   "execution_count": 7,
   "id": "dbebb1f9-003a-4076-bb62-4caa9c287fe7",
   "metadata": {},
   "outputs": [
    {
     "name": "stdout",
     "output_type": "stream",
     "text": [
      "(5, 1) 1\n"
     ]
    }
   ],
   "source": [
    "x = b.shape\n",
    "print(x,x[1])"
   ]
  },
  {
   "cell_type": "code",
   "execution_count": 8,
   "id": "0f5ffc0a-32f6-4040-8586-bdcca7471aa1",
   "metadata": {},
   "outputs": [
    {
     "data": {
      "text/plain": [
       "array([[1],\n",
       "       [2],\n",
       "       [3],\n",
       "       [4],\n",
       "       [5]])"
      ]
     },
     "execution_count": 8,
     "metadata": {},
     "output_type": "execute_result"
    }
   ],
   "source": [
    "b"
   ]
  },
  {
   "cell_type": "code",
   "execution_count": 9,
   "id": "4a34f388-be5e-44fa-a393-6e4675b83e10",
   "metadata": {},
   "outputs": [
    {
     "data": {
      "text/plain": [
       "1"
      ]
     },
     "execution_count": 9,
     "metadata": {},
     "output_type": "execute_result"
    }
   ],
   "source": [
    "b[0][0]"
   ]
  },
  {
   "cell_type": "code",
   "execution_count": 10,
   "id": "582142c9-c892-4c79-8557-b765a32ebedd",
   "metadata": {},
   "outputs": [],
   "source": [
    "c = np.array([[1,2,3],[4,5,6]])"
   ]
  },
  {
   "cell_type": "code",
   "execution_count": 11,
   "id": "49a91b12-0234-40f7-ac8a-7504e04f918b",
   "metadata": {},
   "outputs": [
    {
     "data": {
      "text/plain": [
       "array([[1, 2, 3],\n",
       "       [4, 5, 6]])"
      ]
     },
     "execution_count": 11,
     "metadata": {},
     "output_type": "execute_result"
    }
   ],
   "source": [
    "c"
   ]
  },
  {
   "cell_type": "code",
   "execution_count": 12,
   "id": "ff9356d4-1eaa-4bc9-a253-3d8e3556bbfa",
   "metadata": {},
   "outputs": [
    {
     "data": {
      "text/plain": [
       "(2, 3)"
      ]
     },
     "execution_count": 12,
     "metadata": {},
     "output_type": "execute_result"
    }
   ],
   "source": [
    "c.shape"
   ]
  },
  {
   "cell_type": "code",
   "execution_count": 13,
   "id": "72626a7c-db5b-43b5-8a66-4e1b60d92c5a",
   "metadata": {},
   "outputs": [
    {
     "data": {
      "text/plain": [
       "5"
      ]
     },
     "execution_count": 13,
     "metadata": {},
     "output_type": "execute_result"
    }
   ],
   "source": [
    "c[1][1]"
   ]
  },
  {
   "cell_type": "code",
   "execution_count": 14,
   "id": "43abd21f-0dba-4fdb-ac62-af287ab8d95b",
   "metadata": {},
   "outputs": [],
   "source": [
    "a = np.zeros((3,3))"
   ]
  },
  {
   "cell_type": "code",
   "execution_count": 15,
   "id": "16eee035-287b-4a7c-a20d-aebcf5318733",
   "metadata": {},
   "outputs": [
    {
     "data": {
      "text/plain": [
       "array([[0., 0., 0.],\n",
       "       [0., 0., 0.],\n",
       "       [0., 0., 0.]])"
      ]
     },
     "execution_count": 15,
     "metadata": {},
     "output_type": "execute_result"
    }
   ],
   "source": [
    "a"
   ]
  },
  {
   "cell_type": "code",
   "execution_count": 16,
   "id": "388e4918-2207-4173-b06c-321c7d40c269",
   "metadata": {},
   "outputs": [],
   "source": [
    "b = np.zeros((2,3))"
   ]
  },
  {
   "cell_type": "code",
   "execution_count": 17,
   "id": "782fb4fb-3072-45b0-879f-4388ff3d6227",
   "metadata": {},
   "outputs": [
    {
     "data": {
      "text/plain": [
       "array([[0., 0., 0.],\n",
       "       [0., 0., 0.]])"
      ]
     },
     "execution_count": 17,
     "metadata": {},
     "output_type": "execute_result"
    }
   ],
   "source": [
    "b"
   ]
  },
  {
   "cell_type": "code",
   "execution_count": 18,
   "id": "183db0f8-5939-4d54-8df8-3df6433d114a",
   "metadata": {},
   "outputs": [],
   "source": [
    "c = np.full((3,2),5) # array with all same elements"
   ]
  },
  {
   "cell_type": "code",
   "execution_count": 19,
   "id": "82298920-4649-4820-9d10-21d664ee6ee4",
   "metadata": {},
   "outputs": [
    {
     "data": {
      "text/plain": [
       "array([[5, 5],\n",
       "       [5, 5],\n",
       "       [5, 5]])"
      ]
     },
     "execution_count": 19,
     "metadata": {},
     "output_type": "execute_result"
    }
   ],
   "source": [
    "c"
   ]
  },
  {
   "cell_type": "code",
   "execution_count": 20,
   "id": "addac74f-89da-4f4b-be80-5314ff8f434f",
   "metadata": {},
   "outputs": [
    {
     "data": {
      "text/plain": [
       "array([[5, 5, 5],\n",
       "       [5, 5, 5]])"
      ]
     },
     "execution_count": 20,
     "metadata": {},
     "output_type": "execute_result"
    }
   ],
   "source": [
    "c.T"
   ]
  },
  {
   "cell_type": "code",
   "execution_count": 21,
   "id": "eb211d62-82e9-45e1-ad9d-d6301ca1d136",
   "metadata": {},
   "outputs": [],
   "source": [
    "d = np.eye(4) # identity matrix of 4,4"
   ]
  },
  {
   "cell_type": "code",
   "execution_count": 22,
   "id": "d420fb8b-8641-403b-b0fc-24ea46047624",
   "metadata": {},
   "outputs": [
    {
     "data": {
      "text/plain": [
       "array([[1., 0., 0., 0.],\n",
       "       [0., 1., 0., 0.],\n",
       "       [0., 0., 1., 0.],\n",
       "       [0., 0., 0., 1.]])"
      ]
     },
     "execution_count": 22,
     "metadata": {},
     "output_type": "execute_result"
    }
   ],
   "source": [
    "d"
   ]
  },
  {
   "cell_type": "code",
   "execution_count": 23,
   "id": "41863831-676f-4644-88c4-854f93f59b82",
   "metadata": {},
   "outputs": [],
   "source": [
    "d = np.eye(4,4)"
   ]
  },
  {
   "cell_type": "code",
   "execution_count": 24,
   "id": "f64ae3e6-b2c8-41d0-a3ac-9126bb02aa87",
   "metadata": {},
   "outputs": [
    {
     "data": {
      "text/plain": [
       "array([[1., 0., 0., 0.],\n",
       "       [0., 1., 0., 0.],\n",
       "       [0., 0., 1., 0.],\n",
       "       [0., 0., 0., 1.]])"
      ]
     },
     "execution_count": 24,
     "metadata": {},
     "output_type": "execute_result"
    }
   ],
   "source": [
    "d"
   ]
  },
  {
   "cell_type": "code",
   "execution_count": 25,
   "id": "d01d370f-c3d3-40d2-806c-5f827b1a4e76",
   "metadata": {},
   "outputs": [],
   "source": [
    "Matrix = np.random.random((2,3))"
   ]
  },
  {
   "cell_type": "code",
   "execution_count": 26,
   "id": "576b3e27-3413-41d9-8b2c-fc9803e04982",
   "metadata": {},
   "outputs": [
    {
     "data": {
      "text/plain": [
       "array([[0.14695449, 0.19396625, 0.05041126],\n",
       "       [0.89409189, 0.46128679, 0.96485431]])"
      ]
     },
     "execution_count": 26,
     "metadata": {},
     "output_type": "execute_result"
    }
   ],
   "source": [
    "Matrix"
   ]
  },
  {
   "cell_type": "code",
   "execution_count": 27,
   "id": "629a13ec-4e41-47b2-bb4e-3b08713c3f0f",
   "metadata": {},
   "outputs": [
    {
     "name": "stdout",
     "output_type": "stream",
     "text": [
      "[0.05041126 0.96485431]\n"
     ]
    }
   ],
   "source": [
    "print(Matrix[:, 2])"
   ]
  },
  {
   "cell_type": "code",
   "execution_count": 28,
   "id": "d5179e3a-c768-414a-b139-4ee306851801",
   "metadata": {},
   "outputs": [
    {
     "data": {
      "text/plain": [
       "array([[12, 15,  6,  5],\n",
       "       [16, 16, 12,  1],\n",
       "       [ 7,  9, 15,  8],\n",
       "       [ 6, 16, 14, 15],\n",
       "       [ 8,  5,  6, 18]])"
      ]
     },
     "execution_count": 28,
     "metadata": {},
     "output_type": "execute_result"
    }
   ],
   "source": [
    "Matrix2 = np.random.randint(1, 20, (5,4))\n",
    "Matrix2"
   ]
  },
  {
   "cell_type": "code",
   "execution_count": 29,
   "id": "acb63f21-ea69-48d9-8a89-7a9de921d602",
   "metadata": {},
   "outputs": [],
   "source": [
    "#setting rows and columns in matrix"
   ]
  },
  {
   "cell_type": "code",
   "execution_count": 30,
   "id": "2571619d-953d-45b8-822d-45ec252657ea",
   "metadata": {},
   "outputs": [
    {
     "name": "stdout",
     "output_type": "stream",
     "text": [
      "[[0. 0. 0.]\n",
      " [0. 0. 0.]\n",
      " [0. 0. 0.]]\n",
      "[[5. 5. 5.]\n",
      " [0. 0. 0.]\n",
      " [0. 0. 0.]]\n",
      "[[5. 5. 5.]\n",
      " [7. 7. 7.]\n",
      " [7. 7. 7.]]\n"
     ]
    }
   ],
   "source": [
    "z = np.zeros((3,3))\n",
    "print(z)\n",
    "z[0,:] = 5\n",
    "print(z)\n",
    "z[1:3,0:3] = 7\n",
    "print(z)"
   ]
  },
  {
   "cell_type": "code",
   "execution_count": 31,
   "id": "83904be4-171e-4e05-8797-eaf5eb55f803",
   "metadata": {},
   "outputs": [
    {
     "name": "stdout",
     "output_type": "stream",
     "text": [
      "float64 <class 'numpy.ndarray'>\n"
     ]
    }
   ],
   "source": [
    "#Data types\n",
    "print(z.dtype, type(z))"
   ]
  },
  {
   "cell_type": "code",
   "execution_count": 32,
   "id": "b5ac1966-e66e-4480-addf-f469e4e256ce",
   "metadata": {},
   "outputs": [
    {
     "name": "stdout",
     "output_type": "stream",
     "text": [
      "[[0 0 0]\n",
      " [0 0 0]\n",
      " [0 0 0]]\n",
      "[[5 5 5]\n",
      " [0 0 0]\n",
      " [0 0 0]]\n",
      "[[5 5 5]\n",
      " [7 7 7]\n",
      " [7 7 7]]\n"
     ]
    }
   ],
   "source": [
    "z = np.zeros((3,3),dtype = int)\n",
    "print(z)\n",
    "z[0,:] = 5\n",
    "print(z)\n",
    "z[1:3,0:3] = 7\n",
    "print(z)"
   ]
  },
  {
   "cell_type": "code",
   "execution_count": 33,
   "id": "436c74d0-6cc6-416d-9afe-f52a900da824",
   "metadata": {},
   "outputs": [
    {
     "name": "stdout",
     "output_type": "stream",
     "text": [
      "int64 <class 'numpy.ndarray'>\n"
     ]
    }
   ],
   "source": [
    "print(z.dtype, type(z))"
   ]
  },
  {
   "cell_type": "code",
   "execution_count": 34,
   "id": "6b8c2b2b-c005-485b-94ee-0693d1a20d92",
   "metadata": {},
   "outputs": [],
   "source": [
    "#mathematical Operations "
   ]
  },
  {
   "cell_type": "code",
   "execution_count": 35,
   "id": "1f0fd8a6-3286-47bd-81a2-58400759a6f9",
   "metadata": {},
   "outputs": [
    {
     "name": "stdout",
     "output_type": "stream",
     "text": [
      "[[ 6  8]\n",
      " [10 12]] [[-4 -4]\n",
      " [-4 -4]] [[-4 -4]\n",
      " [-4 -4]] [[ 5 12]\n",
      " [21 32]] [[ 5 12]\n",
      " [21 32]] [[0.2        0.33333333]\n",
      " [0.42857143 0.5       ]]\n"
     ]
    }
   ],
   "source": [
    "x = np.array([[1,2],[3,4]])\n",
    "y = np.array([[5,6],[7,8]])\n",
    "print(x + y, x- y , np.subtract(x,y), x*y, np.multiply(x,y), x/y)"
   ]
  },
  {
   "cell_type": "code",
   "execution_count": 36,
   "id": "0ce5186e-2d90-44bf-aff7-3c605f331255",
   "metadata": {},
   "outputs": [
    {
     "name": "stdout",
     "output_type": "stream",
     "text": [
      "[[1 2]\n",
      " [3 4]]\n",
      "[[5 6]\n",
      " [7 8]]\n"
     ]
    }
   ],
   "source": [
    "print(x)\n",
    "print(y)"
   ]
  },
  {
   "cell_type": "code",
   "execution_count": 37,
   "id": "6a581c45-b637-4949-89dc-ab867b143dfa",
   "metadata": {},
   "outputs": [
    {
     "name": "stdout",
     "output_type": "stream",
     "text": [
      "80\n"
     ]
    }
   ],
   "source": [
    "a = np.array([1,2,3,4])\n",
    "b = np.array([6,7,8,9])\n",
    "print(a.dot(b))"
   ]
  },
  {
   "cell_type": "code",
   "execution_count": 38,
   "id": "f20df35e-52d7-45bb-9e78-4c64ff0769d9",
   "metadata": {},
   "outputs": [
    {
     "ename": "ValueError",
     "evalue": "incompatible dimensions for cross product\n(dimension must be 2 or 3)",
     "output_type": "error",
     "traceback": [
      "\u001b[0;31m---------------------------------------------------------------------------\u001b[0m",
      "\u001b[0;31mValueError\u001b[0m                                Traceback (most recent call last)",
      "Cell \u001b[0;32mIn[38], line 1\u001b[0m\n\u001b[0;32m----> 1\u001b[0m \u001b[38;5;28mprint\u001b[39m(np\u001b[38;5;241m.\u001b[39mcross(a,b))\n",
      "File \u001b[0;32m/opt/anaconda3/lib/python3.11/site-packages/numpy/core/numeric.py:1596\u001b[0m, in \u001b[0;36mcross\u001b[0;34m(a, b, axisa, axisb, axisc, axis)\u001b[0m\n\u001b[1;32m   1593\u001b[0m msg \u001b[38;5;241m=\u001b[39m (\u001b[38;5;124m\"\u001b[39m\u001b[38;5;124mincompatible dimensions for cross product\u001b[39m\u001b[38;5;130;01m\\n\u001b[39;00m\u001b[38;5;124m\"\u001b[39m\n\u001b[1;32m   1594\u001b[0m        \u001b[38;5;124m\"\u001b[39m\u001b[38;5;124m(dimension must be 2 or 3)\u001b[39m\u001b[38;5;124m\"\u001b[39m)\n\u001b[1;32m   1595\u001b[0m \u001b[38;5;28;01mif\u001b[39;00m a\u001b[38;5;241m.\u001b[39mshape[\u001b[38;5;241m-\u001b[39m\u001b[38;5;241m1\u001b[39m] \u001b[38;5;129;01mnot\u001b[39;00m \u001b[38;5;129;01min\u001b[39;00m (\u001b[38;5;241m2\u001b[39m, \u001b[38;5;241m3\u001b[39m) \u001b[38;5;129;01mor\u001b[39;00m b\u001b[38;5;241m.\u001b[39mshape[\u001b[38;5;241m-\u001b[39m\u001b[38;5;241m1\u001b[39m] \u001b[38;5;129;01mnot\u001b[39;00m \u001b[38;5;129;01min\u001b[39;00m (\u001b[38;5;241m2\u001b[39m, \u001b[38;5;241m3\u001b[39m):\n\u001b[0;32m-> 1596\u001b[0m     \u001b[38;5;28;01mraise\u001b[39;00m \u001b[38;5;167;01mValueError\u001b[39;00m(msg)\n\u001b[1;32m   1598\u001b[0m \u001b[38;5;66;03m# Create the output array\u001b[39;00m\n\u001b[1;32m   1599\u001b[0m shape \u001b[38;5;241m=\u001b[39m broadcast(a[\u001b[38;5;241m.\u001b[39m\u001b[38;5;241m.\u001b[39m\u001b[38;5;241m.\u001b[39m, \u001b[38;5;241m0\u001b[39m], b[\u001b[38;5;241m.\u001b[39m\u001b[38;5;241m.\u001b[39m\u001b[38;5;241m.\u001b[39m, \u001b[38;5;241m0\u001b[39m])\u001b[38;5;241m.\u001b[39mshape\n",
      "\u001b[0;31mValueError\u001b[0m: incompatible dimensions for cross product\n(dimension must be 2 or 3)"
     ]
    }
   ],
   "source": [
    "print(np.cross(a,b))"
   ]
  },
  {
   "cell_type": "code",
   "execution_count": null,
   "id": "164a1f3e-df8d-47bd-8c9a-8e79db5b077e",
   "metadata": {},
   "outputs": [],
   "source": [
    "np.sum(a)"
   ]
  },
  {
   "cell_type": "code",
   "execution_count": 39,
   "id": "acf3708b-02cd-416a-8e1d-209dd2e94591",
   "metadata": {},
   "outputs": [
    {
     "data": {
      "text/plain": [
       "10"
      ]
     },
     "execution_count": 39,
     "metadata": {},
     "output_type": "execute_result"
    }
   ],
   "source": [
    "sum(a)"
   ]
  },
  {
   "cell_type": "code",
   "execution_count": 40,
   "id": "80f2d578-2778-46aa-9963-8673a203aa30",
   "metadata": {},
   "outputs": [
    {
     "data": {
      "text/plain": [
       "10"
      ]
     },
     "execution_count": 40,
     "metadata": {},
     "output_type": "execute_result"
    }
   ],
   "source": [
    "np.sum(a, axis = 0)"
   ]
  },
  {
   "cell_type": "code",
   "execution_count": 41,
   "id": "20ed610d-b9f4-4d48-8ee4-26c8efe52cb5",
   "metadata": {},
   "outputs": [
    {
     "data": {
      "text/plain": [
       "array([[1, 2],\n",
       "       [3, 4]])"
      ]
     },
     "execution_count": 41,
     "metadata": {},
     "output_type": "execute_result"
    }
   ],
   "source": [
    "x"
   ]
  },
  {
   "cell_type": "code",
   "execution_count": 42,
   "id": "9cf772eb-a413-482e-a3a4-00a7e7da653b",
   "metadata": {},
   "outputs": [
    {
     "data": {
      "text/plain": [
       "array([4, 6])"
      ]
     },
     "execution_count": 42,
     "metadata": {},
     "output_type": "execute_result"
    }
   ],
   "source": [
    "np.sum(x, axis = 0) # row wise sum"
   ]
  },
  {
   "cell_type": "code",
   "execution_count": 43,
   "id": "1bb06e27-8384-4a04-822b-37591959a8e1",
   "metadata": {},
   "outputs": [
    {
     "data": {
      "text/plain": [
       "array([3, 7])"
      ]
     },
     "execution_count": 43,
     "metadata": {},
     "output_type": "execute_result"
    }
   ],
   "source": [
    "np.sum(x, axis = 1 ) # column wise"
   ]
  },
  {
   "cell_type": "code",
   "execution_count": 46,
   "id": "47b1f9cb-c76f-42ae-93ae-65dd83c76e8c",
   "metadata": {},
   "outputs": [
    {
     "name": "stdout",
     "output_type": "stream",
     "text": [
      "[1 2 3 4]\n",
      "[1296 2401 4096 6561]\n"
     ]
    }
   ],
   "source": [
    "print(a)\n",
    "b = b**2\n",
    "print(b)"
   ]
  },
  {
   "cell_type": "code",
   "execution_count": 47,
   "id": "eb8c691a-4541-400c-a47c-cfe20ce83122",
   "metadata": {},
   "outputs": [],
   "source": [
    "c =np.stack((a,b), axis = 0)"
   ]
  },
  {
   "cell_type": "code",
   "execution_count": 48,
   "id": "c66953c3-df97-408f-889b-5666d3efec14",
   "metadata": {},
   "outputs": [
    {
     "data": {
      "text/plain": [
       "array([[   1,    2,    3,    4],\n",
       "       [1296, 2401, 4096, 6561]])"
      ]
     },
     "execution_count": 48,
     "metadata": {},
     "output_type": "execute_result"
    }
   ],
   "source": [
    "c"
   ]
  },
  {
   "cell_type": "code",
   "execution_count": 50,
   "id": "5393b89e-6fe0-4833-bdad-586135942a35",
   "metadata": {},
   "outputs": [
    {
     "data": {
      "text/plain": [
       "array([[   1, 1296],\n",
       "       [   2, 2401],\n",
       "       [   3, 4096],\n",
       "       [   4, 6561]])"
      ]
     },
     "execution_count": 50,
     "metadata": {},
     "output_type": "execute_result"
    }
   ],
   "source": [
    "d = np.stack((a,b), axis = 1)\n",
    "d"
   ]
  },
  {
   "cell_type": "code",
   "execution_count": 51,
   "id": "170bba81-53e7-41e5-9896-a27f9db329f3",
   "metadata": {},
   "outputs": [],
   "source": [
    "#reshape a numpy array "
   ]
  },
  {
   "cell_type": "code",
   "execution_count": 56,
   "id": "6e0b26b5-c34e-4454-99a2-32a6b4589869",
   "metadata": {},
   "outputs": [
    {
     "name": "stdout",
     "output_type": "stream",
     "text": [
      "[[   1 1296    2 2401]\n",
      " [   3 4096    4 6561]]\n"
     ]
    }
   ],
   "source": [
    "print(d)"
   ]
  },
  {
   "cell_type": "code",
   "execution_count": 60,
   "id": "4095423d-ae86-415f-92ca-b8f8c8845386",
   "metadata": {},
   "outputs": [
    {
     "data": {
      "text/plain": [
       "array([[   1, 1296],\n",
       "       [   2, 2401],\n",
       "       [   3, 4096],\n",
       "       [   4, 6561]])"
      ]
     },
     "execution_count": 60,
     "metadata": {},
     "output_type": "execute_result"
    }
   ],
   "source": [
    "d = d.reshape((4,2))\n",
    "d"
   ]
  },
  {
   "cell_type": "code",
   "execution_count": 61,
   "id": "90bc16cd-b5f0-402a-af8f-daab526fa383",
   "metadata": {},
   "outputs": [],
   "source": [
    "d = d.reshape((8,1))"
   ]
  },
  {
   "cell_type": "code",
   "execution_count": 62,
   "id": "b644d30b-f8dd-41fe-b9bf-05f68f56bfa3",
   "metadata": {},
   "outputs": [
    {
     "data": {
      "text/plain": [
       "array([[   1],\n",
       "       [1296],\n",
       "       [   2],\n",
       "       [2401],\n",
       "       [   3],\n",
       "       [4096],\n",
       "       [   4],\n",
       "       [6561]])"
      ]
     },
     "execution_count": 62,
     "metadata": {},
     "output_type": "execute_result"
    }
   ],
   "source": [
    "d"
   ]
  },
  {
   "cell_type": "code",
   "execution_count": 63,
   "id": "7006603f-3c0a-43a0-94cb-87d4f45d7a56",
   "metadata": {},
   "outputs": [],
   "source": [
    "d =d.reshape((4,-1))"
   ]
  },
  {
   "cell_type": "code",
   "execution_count": 64,
   "id": "bc3c3f3e-d1c3-4882-8bd6-0fa93effc3f6",
   "metadata": {},
   "outputs": [
    {
     "data": {
      "text/plain": [
       "array([[   1, 1296],\n",
       "       [   2, 2401],\n",
       "       [   3, 4096],\n",
       "       [   4, 6561]])"
      ]
     },
     "execution_count": 64,
     "metadata": {},
     "output_type": "execute_result"
    }
   ],
   "source": [
    "d"
   ]
  },
  {
   "cell_type": "markdown",
   "id": "bccf75cb-79dd-4489-a422-24b8b5b3a4d0",
   "metadata": {},
   "source": [
    "### Numpy Random Module "
   ]
  },
  {
   "cell_type": "code",
   "execution_count": 71,
   "id": "82d1f2db-7a90-4d2e-9dae-9cdc935518df",
   "metadata": {},
   "outputs": [
    {
     "name": "stdout",
     "output_type": "stream",
     "text": [
      "[0 1 2 3 4 5 6 7 8 9] [ 5  6  7  8  9 10 11 12 13 14]\n"
     ]
    }
   ],
   "source": [
    "a = np.arange(10)\n",
    "print(a, a+5)"
   ]
  },
  {
   "cell_type": "code",
   "execution_count": 75,
   "id": "4385d814-4e32-4d78-bf57-8a4054e3c933",
   "metadata": {},
   "outputs": [
    {
     "name": "stdout",
     "output_type": "stream",
     "text": [
      "[7 6 0 9 3 1 5 4 8 2]\n"
     ]
    }
   ],
   "source": [
    "np.random.shuffle(a)\n",
    "print(a)"
   ]
  },
  {
   "cell_type": "code",
   "execution_count": 76,
   "id": "f8be7887-eaa7-426e-8f5d-f16b532d4097",
   "metadata": {},
   "outputs": [
    {
     "name": "stdout",
     "output_type": "stream",
     "text": [
      "[[0.94050311 0.24900189 0.18827249]\n",
      " [0.36751708 0.24243777 0.39313827]]\n"
     ]
    }
   ],
   "source": [
    "#returns values from a standard Noraml distribution\n",
    "a = np.random.rand(2,3)\n",
    "print(a)"
   ]
  },
  {
   "cell_type": "code",
   "execution_count": 77,
   "id": "bac841e6-e851-4c4e-82e1-0e5ecfb0a152",
   "metadata": {},
   "outputs": [
    {
     "data": {
      "text/plain": [
       "array([[18,  2, 13, 16],\n",
       "       [14, 13, 18, 13],\n",
       "       [12,  8,  4,  8]])"
      ]
     },
     "execution_count": 77,
     "metadata": {},
     "output_type": "execute_result"
    }
   ],
   "source": [
    "a = np.random.randint(1,20,(3,4))\n",
    "a"
   ]
  },
  {
   "cell_type": "code",
   "execution_count": 81,
   "id": "77bd1a1e-addb-41c5-a7e3-82cba1224325",
   "metadata": {},
   "outputs": [
    {
     "ename": "ValueError",
     "evalue": "a must be 1-dimensional",
     "output_type": "error",
     "traceback": [
      "\u001b[0;31m---------------------------------------------------------------------------\u001b[0m",
      "\u001b[0;31mValueError\u001b[0m                                Traceback (most recent call last)",
      "Cell \u001b[0;32mIn[81], line 2\u001b[0m\n\u001b[1;32m      1\u001b[0m \u001b[38;5;66;03m#randomly pick one element from array\u001b[39;00m\n\u001b[0;32m----> 2\u001b[0m element \u001b[38;5;241m=\u001b[39m np\u001b[38;5;241m.\u001b[39mrandom\u001b[38;5;241m.\u001b[39mchoice(a)\n\u001b[1;32m      3\u001b[0m element\n",
      "File \u001b[0;32mnumpy/random/mtrand.pyx:947\u001b[0m, in \u001b[0;36mnumpy.random.mtrand.RandomState.choice\u001b[0;34m()\u001b[0m\n",
      "\u001b[0;31mValueError\u001b[0m: a must be 1-dimensional"
     ]
    }
   ],
   "source": [
    "#randomly pick one element from array\n",
    "element = np.random.choice(a)\n",
    "element"
   ]
  },
  {
   "cell_type": "code",
   "execution_count": 95,
   "id": "02ed7aa5-01bd-479c-87be-2d4bbb734634",
   "metadata": {},
   "outputs": [
    {
     "data": {
      "text/plain": [
       "array([1, 2, 3, 4, 5, 6, 7, 8, 9])"
      ]
     },
     "execution_count": 95,
     "metadata": {},
     "output_type": "execute_result"
    }
   ],
   "source": [
    "a = np.arange(1,10)\n",
    "a"
   ]
  },
  {
   "cell_type": "code",
   "execution_count": 96,
   "id": "b9f40a8b-1ac6-4785-8a61-cbdeb517f514",
   "metadata": {},
   "outputs": [
    {
     "data": {
      "text/plain": [
       "9"
      ]
     },
     "execution_count": 96,
     "metadata": {},
     "output_type": "execute_result"
    }
   ],
   "source": [
    "element = np.random.choice(a)\n",
    "element"
   ]
  },
  {
   "cell_type": "code",
   "execution_count": 97,
   "id": "81f9b2e6-3b46-4f70-89fb-4e75a4f00d39",
   "metadata": {},
   "outputs": [
    {
     "data": {
      "text/plain": [
       "6"
      ]
     },
     "execution_count": 97,
     "metadata": {},
     "output_type": "execute_result"
    }
   ],
   "source": [
    "element = np.random.choice(a)\n",
    "element"
   ]
  },
  {
   "cell_type": "code",
   "execution_count": 102,
   "id": "2ad92cc7-ef49-40ad-b8a5-cdaacd2850bb",
   "metadata": {},
   "outputs": [
    {
     "name": "stdout",
     "output_type": "stream",
     "text": [
      "[6 3 7 8 2 9 5 4 1]\n"
     ]
    }
   ],
   "source": [
    "np.random.seed(1) #random seeding\n",
    "np.random.shuffle(a)\n",
    "print(a)\n"
   ]
  },
  {
   "cell_type": "code",
   "execution_count": 99,
   "id": "f882710c-19e7-4c8f-ac1d-626d9d1d9431",
   "metadata": {},
   "outputs": [
    {
     "name": "stdout",
     "output_type": "stream",
     "text": [
      "[6 7 5 4 3 9 2 8 1]\n"
     ]
    }
   ],
   "source": [
    "np.random.seed(1)\n",
    "np.random.shuffle(a)\n",
    "print(a)\n"
   ]
  },
  {
   "cell_type": "code",
   "execution_count": 100,
   "id": "c9f724af-3cd0-4198-ab91-e74290cd57a3",
   "metadata": {},
   "outputs": [
    {
     "name": "stdout",
     "output_type": "stream",
     "text": [
      "[1 5 2 8 7 6 3 4 9]\n"
     ]
    }
   ],
   "source": [
    "np.random.seed(1)\n",
    "np.random.shuffle(a)\n",
    "print(a)\n"
   ]
  },
  {
   "cell_type": "markdown",
   "id": "69b07b28-d4cc-4e14-8ae0-6e48522ecf2b",
   "metadata": {},
   "source": [
    "### Statistical Computation Using Numpy"
   ]
  },
  {
   "cell_type": "code",
   "execution_count": 121,
   "id": "b23754eb-17ec-4262-8129-dd3682e818ec",
   "metadata": {},
   "outputs": [
    {
     "name": "stdout",
     "output_type": "stream",
     "text": [
      "[[  1   2   3  34  44]\n",
      " [ 54  67  -3  99 108]]\n",
      "-3\n",
      "[ 1  2 -3 34 44] [ 1 -3]\n",
      "10\n"
     ]
    }
   ],
   "source": [
    "a = np.array([[1,2,3,34,44],[54,67,-3,99,108]])\n",
    "print(a)\n",
    "print(np.min(a))\n",
    "print(np.min(a, axis = 0),np.min(a, axis = 1))\n",
    "print(np.size(a))"
   ]
  },
  {
   "cell_type": "code",
   "execution_count": 111,
   "id": "190f1647-60cd-4da3-bc32-eb3410e33bde",
   "metadata": {},
   "outputs": [
    {
     "name": "stdout",
     "output_type": "stream",
     "text": [
      "3.0 3.0\n"
     ]
    }
   ],
   "source": [
    "b = np.array([1,2,3,4,5])\n",
    "mean = sum(b)/5\n",
    "print(mean, np.mean(b, axis = 0))"
   ]
  },
  {
   "cell_type": "code",
   "execution_count": 112,
   "id": "13935736-b135-4857-a2db-e7f0ee410444",
   "metadata": {},
   "outputs": [
    {
     "name": "stdout",
     "output_type": "stream",
     "text": [
      "2.0\n"
     ]
    }
   ],
   "source": [
    "c = np.array([1,5,4,2,0])\n",
    "print(np.median(c))"
   ]
  },
  {
   "cell_type": "code",
   "execution_count": 115,
   "id": "0ad745fb-8dfb-4da2-b78c-33488e4258c4",
   "metadata": {},
   "outputs": [
    {
     "name": "stdout",
     "output_type": "stream",
     "text": [
      "2.4 2.4\n"
     ]
    }
   ],
   "source": [
    "print(np.mean(c), np.average(c))"
   ]
  },
  {
   "cell_type": "code",
   "execution_count": 114,
   "id": "4469b4c6-d92f-4989-ba6f-b800901c887b",
   "metadata": {},
   "outputs": [
    {
     "name": "stdout",
     "output_type": "stream",
     "text": [
      "2.066666666666667\n"
     ]
    }
   ],
   "source": [
    "w = np.array([1,2,3,4,5])\n",
    "print(np.average(c,weights = w))"
   ]
  },
  {
   "cell_type": "markdown",
   "id": "61e96485-7a01-49ec-864d-b6b913a22dd4",
   "metadata": {},
   "source": [
    "### Std Deviation"
   ]
  },
  {
   "cell_type": "code",
   "execution_count": 116,
   "id": "7993e5e1-4123-42b0-b960-053f0f86681f",
   "metadata": {},
   "outputs": [
    {
     "data": {
      "text/plain": [
       "1.854723699099141"
      ]
     },
     "execution_count": 116,
     "metadata": {},
     "output_type": "execute_result"
    }
   ],
   "source": [
    "u = np.mean(c)\n",
    "std_deviation = np.sqrt(np.mean(abs(c-u)**2))\n",
    "std_deviation"
   ]
  },
  {
   "cell_type": "code",
   "execution_count": 118,
   "id": "5be6a820-d367-4d34-a56f-8877b56fb088",
   "metadata": {},
   "outputs": [
    {
     "data": {
      "text/plain": [
       "1.854723699099141"
      ]
     },
     "execution_count": 118,
     "metadata": {},
     "output_type": "execute_result"
    }
   ],
   "source": [
    "std_deviation = np.std(c)\n",
    "std_deviation"
   ]
  },
  {
   "cell_type": "code",
   "execution_count": 119,
   "id": "6a4d97dd-5548-4453-bf80-5b44e89db832",
   "metadata": {},
   "outputs": [
    {
     "name": "stdout",
     "output_type": "stream",
     "text": [
      "3.4400000000000004\n"
     ]
    }
   ],
   "source": [
    "print(np.var(c))"
   ]
  },
  {
   "cell_type": "code",
   "execution_count": 120,
   "id": "e4e5b84d-995e-4069-81d1-92702831080e",
   "metadata": {},
   "outputs": [
    {
     "name": "stdout",
     "output_type": "stream",
     "text": [
      "5\n"
     ]
    }
   ],
   "source": [
    "print(np.size(c))"
   ]
  },
  {
   "cell_type": "code",
   "execution_count": 123,
   "id": "05238c87-3c83-47a4-b386-690282ced150",
   "metadata": {},
   "outputs": [
    {
     "name": "stdout",
     "output_type": "stream",
     "text": [
      "[array([ 1,  2,  3, 34, 44]), array([ 54,  67,  -3,  99, 108])]\n",
      "[[1, 2, 3, 34, 44], [54, 67, -3, 99, 108]]\n"
     ]
    }
   ],
   "source": [
    "print(list(a))\n",
    "print(a.tolist())"
   ]
  },
  {
   "cell_type": "code",
   "execution_count": 131,
   "id": "cd5044f5-5783-4994-b39d-b2ed666d1648",
   "metadata": {},
   "outputs": [
    {
     "name": "stdout",
     "output_type": "stream",
     "text": [
      "[[  1   2   3  34  44]\n",
      " [ 54  67  -3  99 108]]\n"
     ]
    }
   ],
   "source": [
    "print(a.view())"
   ]
  },
  {
   "cell_type": "code",
   "execution_count": 132,
   "id": "e34f118d-95d6-40c1-8410-51acc9ee3ec3",
   "metadata": {},
   "outputs": [
    {
     "name": "stdout",
     "output_type": "stream",
     "text": [
      "<built-in method copy of numpy.ndarray object at 0x117c9c390>\n"
     ]
    }
   ],
   "source": [
    "print(a.copy)"
   ]
  },
  {
   "cell_type": "code",
   "execution_count": 129,
   "id": "83448124-6410-4443-9627-8b56ff6c4c36",
   "metadata": {},
   "outputs": [
    {
     "ename": "AttributeError",
     "evalue": "'numpy.ndarray' object has no attribute 'copyto'",
     "output_type": "error",
     "traceback": [
      "\u001b[0;31m---------------------------------------------------------------------------\u001b[0m",
      "\u001b[0;31mAttributeError\u001b[0m                            Traceback (most recent call last)",
      "Cell \u001b[0;32mIn[129], line 1\u001b[0m\n\u001b[0;32m----> 1\u001b[0m \u001b[38;5;28mprint\u001b[39m(a\u001b[38;5;241m.\u001b[39mcopyto())\n",
      "\u001b[0;31mAttributeError\u001b[0m: 'numpy.ndarray' object has no attribute 'copyto'"
     ]
    }
   ],
   "source": [
    "print(a.copyto())"
   ]
  },
  {
   "cell_type": "code",
   "execution_count": 134,
   "id": "98da9689-fdf9-4ee8-9ebf-74730c9e6255",
   "metadata": {},
   "outputs": [
    {
     "name": "stdout",
     "output_type": "stream",
     "text": [
      "[34 44 54]\n"
     ]
    }
   ],
   "source": [
    "print(a[np.where((a >= 5) & (a <= 60))])"
   ]
  },
  {
   "cell_type": "code",
   "execution_count": 137,
   "id": "f1b2a0c1-49e5-4503-9033-5127c1ec1d7e",
   "metadata": {},
   "outputs": [
    {
     "data": {
      "text/plain": [
       "array([], shape=(0, 2, 5), dtype=int64)"
      ]
     },
     "execution_count": 137,
     "metadata": {},
     "output_type": "execute_result"
    }
   ],
   "source": [
    "a[np.all((a >= 5) & (a <= 90))]"
   ]
  },
  {
   "cell_type": "code",
   "execution_count": 139,
   "id": "047bfdff-6fd2-4bc4-9186-7368ef947a33",
   "metadata": {},
   "outputs": [
    {
     "name": "stdout",
     "output_type": "stream",
     "text": [
      "[34 44 54]\n"
     ]
    }
   ],
   "source": [
    "print(a[(a >= 5) & (a <= 60)])"
   ]
  },
  {
   "cell_type": "code",
   "execution_count": 142,
   "id": "2eb3a283-7b3a-46a2-b4ab-3d06fa3a7f81",
   "metadata": {},
   "outputs": [
    {
     "name": "stdout",
     "output_type": "stream",
     "text": [
      "None\n"
     ]
    }
   ],
   "source": [
    "print(a.resize(5,2))"
   ]
  },
  {
   "cell_type": "code",
   "execution_count": 143,
   "id": "ade26b61-b67a-4999-a181-99dc419c2da7",
   "metadata": {},
   "outputs": [
    {
     "name": "stdout",
     "output_type": "stream",
     "text": [
      "10\n"
     ]
    }
   ],
   "source": [
    "print(a.size)"
   ]
  },
  {
   "cell_type": "code",
   "execution_count": null,
   "id": "fe7c2b95-5fd5-4e01-b33d-5624ded94f41",
   "metadata": {},
   "outputs": [],
   "source": []
  },
  {
   "cell_type": "code",
   "execution_count": 148,
   "id": "082d6b18-70ba-44a5-a762-089ac23509d3",
   "metadata": {},
   "outputs": [
    {
     "name": "stdout",
     "output_type": "stream",
     "text": [
      "[[ 1  2  3  4]\n",
      " [ 5  6  7  8]\n",
      " [ 9 10 11 12]\n",
      " [13 14 15 16]]\n",
      "[[17 18 19 20]\n",
      " [21 22 23 24]\n",
      " [25 26 27 28]\n",
      " [29 30 31 32]]\n"
     ]
    }
   ],
   "source": [
    "a = np.arange(1,17).reshape(4,4)\n",
    "b = np.arange(17,33).reshape(4,4)\n",
    "print(a)\n",
    "print(b)"
   ]
  },
  {
   "cell_type": "code",
   "execution_count": 149,
   "id": "39b2de4f-92bc-49f8-a49a-501ded42c9b0",
   "metadata": {},
   "outputs": [
    {
     "name": "stdout",
     "output_type": "stream",
     "text": [
      "[[ 1  2  3  4 17 18 19 20]\n",
      " [ 5  6  7  8 21 22 23 24]\n",
      " [ 9 10 11 12 25 26 27 28]\n",
      " [13 14 15 16 29 30 31 32]]\n"
     ]
    }
   ],
   "source": [
    "print(np.hstack((a,b)))"
   ]
  },
  {
   "cell_type": "code",
   "execution_count": 150,
   "id": "3bbaed2e-93cf-44e8-a38d-d4b11ca19a8b",
   "metadata": {},
   "outputs": [
    {
     "name": "stdout",
     "output_type": "stream",
     "text": [
      "[[ 1  2  3  4]\n",
      " [ 5  6  7  8]\n",
      " [ 9 10 11 12]\n",
      " [13 14 15 16]\n",
      " [17 18 19 20]\n",
      " [21 22 23 24]\n",
      " [25 26 27 28]\n",
      " [29 30 31 32]]\n"
     ]
    }
   ],
   "source": [
    "print(np.concatenate((a,b), axis = 0))"
   ]
  },
  {
   "cell_type": "code",
   "execution_count": 151,
   "id": "2e54a2bb-ba0f-4f28-8d9c-568e283b1eba",
   "metadata": {},
   "outputs": [
    {
     "name": "stdout",
     "output_type": "stream",
     "text": [
      "[[ 1  2  3  4 17 18 19 20]\n",
      " [ 5  6  7  8 21 22 23 24]\n",
      " [ 9 10 11 12 25 26 27 28]\n",
      " [13 14 15 16 29 30 31 32]]\n"
     ]
    }
   ],
   "source": [
    "print(np.concatenate((a,b), axis = 1))"
   ]
  },
  {
   "cell_type": "code",
   "execution_count": 152,
   "id": "02278249-d726-4964-9192-115a6a66ff8e",
   "metadata": {},
   "outputs": [
    {
     "data": {
      "text/plain": [
       "array([[[ 0,  1,  2],\n",
       "        [ 3,  4,  5],\n",
       "        [ 6,  7,  8]],\n",
       "\n",
       "       [[ 9, 10, 11],\n",
       "        [12, 13, 14],\n",
       "        [15, 16, 17]],\n",
       "\n",
       "       [[18, 19, 20],\n",
       "        [21, 22, 23],\n",
       "        [24, 25, 26]]])"
      ]
     },
     "execution_count": 152,
     "metadata": {},
     "output_type": "execute_result"
    }
   ],
   "source": [
    "img = np.arange(3*3*3).reshape(3,3,3)\n",
    "img"
   ]
  },
  {
   "cell_type": "code",
   "execution_count": 153,
   "id": "262c4f43-a5ef-4435-b0d3-bb70c44fc7c4",
   "metadata": {},
   "outputs": [
    {
     "name": "stdout",
     "output_type": "stream",
     "text": [
      "[[[18 19 20]\n",
      "  [21 22 23]\n",
      "  [24 25 26]]\n",
      "\n",
      " [[ 9 10 11]\n",
      "  [12 13 14]\n",
      "  [15 16 17]]\n",
      "\n",
      " [[ 0  1  2]\n",
      "  [ 3  4  5]\n",
      "  [ 6  7  8]]]\n"
     ]
    }
   ],
   "source": [
    "print(img[::-1])"
   ]
  },
  {
   "cell_type": "code",
   "execution_count": 155,
   "id": "1eb18366-7731-42ec-bf7c-6ef6241ec731",
   "metadata": {},
   "outputs": [
    {
     "name": "stdout",
     "output_type": "stream",
     "text": [
      "21 [[[18 19 20]\n",
      "  [21 22 23]\n",
      "  [24 25 26]]\n",
      "\n",
      " [[ 9 10 11]\n",
      "  [12 13 14]\n",
      "  [15 16 17]]\n",
      "\n",
      " [[ 0  1  2]\n",
      "  [ 3  4  5]\n",
      "  [ 6  7  8]]]\n"
     ]
    }
   ],
   "source": [
    "print(img[2,1,0],img[[2,1,0], :,:])"
   ]
  },
  {
   "cell_type": "code",
   "execution_count": 156,
   "id": "05b272da-16b3-43c3-9d99-821f5405b9db",
   "metadata": {},
   "outputs": [
    {
     "name": "stdout",
     "output_type": "stream",
     "text": [
      "[[[ 6  7  8]\n",
      "  [ 3  4  5]\n",
      "  [ 0  1  2]]\n",
      "\n",
      " [[15 16 17]\n",
      "  [12 13 14]\n",
      "  [ 9 10 11]]\n",
      "\n",
      " [[24 25 26]\n",
      "  [21 22 23]\n",
      "  [18 19 20]]]\n"
     ]
    }
   ],
   "source": [
    "print(img[:, ::-1])"
   ]
  },
  {
   "cell_type": "code",
   "execution_count": null,
   "id": "e50fc16d-8f5c-40db-83b8-5a3d358fd663",
   "metadata": {},
   "outputs": [],
   "source": []
  }
 ],
 "metadata": {
  "kernelspec": {
   "display_name": "Python 3 (ipykernel)",
   "language": "python",
   "name": "python3"
  },
  "language_info": {
   "codemirror_mode": {
    "name": "ipython",
    "version": 3
   },
   "file_extension": ".py",
   "mimetype": "text/x-python",
   "name": "python",
   "nbconvert_exporter": "python",
   "pygments_lexer": "ipython3",
   "version": "3.11.7"
  }
 },
 "nbformat": 4,
 "nbformat_minor": 5
}
