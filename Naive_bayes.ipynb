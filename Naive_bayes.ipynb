{
 "cells": [
  {
   "cell_type": "markdown",
   "id": "94fafd38-4262-42ed-ac13-e2617730f599",
   "metadata": {},
   "source": [
    "### Naive Bayes - Mushroom Dataset :\n",
    "- Goal is to predict the class of mushrooms, given some features of the mushrooms.We will use Naive Bayes Model for this Classification."
   ]
  },
  {
   "cell_type": "markdown",
   "id": "ce2f81ce-ad0f-4ca9-8483-10a96dc4d611",
   "metadata": {},
   "source": [
    "### Step 1: Load the Dataset"
   ]
  },
  {
   "cell_type": "code",
   "execution_count": 55,
   "id": "6b3aa928-016d-46f9-82bd-764559ef009f",
   "metadata": {},
   "outputs": [],
   "source": [
    "import numpy as np\n",
    "import pandas as pd"
   ]
  },
  {
   "cell_type": "code",
   "execution_count": 56,
   "id": "586d93f5-ebb9-4a10-ba6b-4967c2cd4a37",
   "metadata": {},
   "outputs": [
    {
     "data": {
      "text/html": [
       "<div>\n",
       "<style scoped>\n",
       "    .dataframe tbody tr th:only-of-type {\n",
       "        vertical-align: middle;\n",
       "    }\n",
       "\n",
       "    .dataframe tbody tr th {\n",
       "        vertical-align: top;\n",
       "    }\n",
       "\n",
       "    .dataframe thead th {\n",
       "        text-align: right;\n",
       "    }\n",
       "</style>\n",
       "<table border=\"1\" class=\"dataframe\">\n",
       "  <thead>\n",
       "    <tr style=\"text-align: right;\">\n",
       "      <th></th>\n",
       "      <th>class</th>\n",
       "      <th>cap-shape</th>\n",
       "      <th>cap-surface</th>\n",
       "      <th>cap-color</th>\n",
       "      <th>bruises</th>\n",
       "      <th>odor</th>\n",
       "      <th>gill-attachment</th>\n",
       "      <th>gill-spacing</th>\n",
       "      <th>gill-size</th>\n",
       "      <th>gill-color</th>\n",
       "      <th>...</th>\n",
       "      <th>stalk-surface-below-ring</th>\n",
       "      <th>stalk-color-above-ring</th>\n",
       "      <th>stalk-color-below-ring</th>\n",
       "      <th>veil-type</th>\n",
       "      <th>veil-color</th>\n",
       "      <th>ring-number</th>\n",
       "      <th>ring-type</th>\n",
       "      <th>spore-print-color</th>\n",
       "      <th>population</th>\n",
       "      <th>habitat</th>\n",
       "    </tr>\n",
       "  </thead>\n",
       "  <tbody>\n",
       "    <tr>\n",
       "      <th>0</th>\n",
       "      <td>p</td>\n",
       "      <td>x</td>\n",
       "      <td>s</td>\n",
       "      <td>n</td>\n",
       "      <td>t</td>\n",
       "      <td>p</td>\n",
       "      <td>f</td>\n",
       "      <td>c</td>\n",
       "      <td>n</td>\n",
       "      <td>k</td>\n",
       "      <td>...</td>\n",
       "      <td>s</td>\n",
       "      <td>w</td>\n",
       "      <td>w</td>\n",
       "      <td>p</td>\n",
       "      <td>w</td>\n",
       "      <td>o</td>\n",
       "      <td>p</td>\n",
       "      <td>k</td>\n",
       "      <td>s</td>\n",
       "      <td>u</td>\n",
       "    </tr>\n",
       "    <tr>\n",
       "      <th>1</th>\n",
       "      <td>e</td>\n",
       "      <td>x</td>\n",
       "      <td>s</td>\n",
       "      <td>y</td>\n",
       "      <td>t</td>\n",
       "      <td>a</td>\n",
       "      <td>f</td>\n",
       "      <td>c</td>\n",
       "      <td>b</td>\n",
       "      <td>k</td>\n",
       "      <td>...</td>\n",
       "      <td>s</td>\n",
       "      <td>w</td>\n",
       "      <td>w</td>\n",
       "      <td>p</td>\n",
       "      <td>w</td>\n",
       "      <td>o</td>\n",
       "      <td>p</td>\n",
       "      <td>n</td>\n",
       "      <td>n</td>\n",
       "      <td>g</td>\n",
       "    </tr>\n",
       "    <tr>\n",
       "      <th>2</th>\n",
       "      <td>e</td>\n",
       "      <td>b</td>\n",
       "      <td>s</td>\n",
       "      <td>w</td>\n",
       "      <td>t</td>\n",
       "      <td>l</td>\n",
       "      <td>f</td>\n",
       "      <td>c</td>\n",
       "      <td>b</td>\n",
       "      <td>n</td>\n",
       "      <td>...</td>\n",
       "      <td>s</td>\n",
       "      <td>w</td>\n",
       "      <td>w</td>\n",
       "      <td>p</td>\n",
       "      <td>w</td>\n",
       "      <td>o</td>\n",
       "      <td>p</td>\n",
       "      <td>n</td>\n",
       "      <td>n</td>\n",
       "      <td>m</td>\n",
       "    </tr>\n",
       "    <tr>\n",
       "      <th>3</th>\n",
       "      <td>p</td>\n",
       "      <td>x</td>\n",
       "      <td>y</td>\n",
       "      <td>w</td>\n",
       "      <td>t</td>\n",
       "      <td>p</td>\n",
       "      <td>f</td>\n",
       "      <td>c</td>\n",
       "      <td>n</td>\n",
       "      <td>n</td>\n",
       "      <td>...</td>\n",
       "      <td>s</td>\n",
       "      <td>w</td>\n",
       "      <td>w</td>\n",
       "      <td>p</td>\n",
       "      <td>w</td>\n",
       "      <td>o</td>\n",
       "      <td>p</td>\n",
       "      <td>k</td>\n",
       "      <td>s</td>\n",
       "      <td>u</td>\n",
       "    </tr>\n",
       "    <tr>\n",
       "      <th>4</th>\n",
       "      <td>e</td>\n",
       "      <td>x</td>\n",
       "      <td>s</td>\n",
       "      <td>g</td>\n",
       "      <td>f</td>\n",
       "      <td>n</td>\n",
       "      <td>f</td>\n",
       "      <td>w</td>\n",
       "      <td>b</td>\n",
       "      <td>k</td>\n",
       "      <td>...</td>\n",
       "      <td>s</td>\n",
       "      <td>w</td>\n",
       "      <td>w</td>\n",
       "      <td>p</td>\n",
       "      <td>w</td>\n",
       "      <td>o</td>\n",
       "      <td>e</td>\n",
       "      <td>n</td>\n",
       "      <td>a</td>\n",
       "      <td>g</td>\n",
       "    </tr>\n",
       "  </tbody>\n",
       "</table>\n",
       "<p>5 rows × 23 columns</p>\n",
       "</div>"
      ],
      "text/plain": [
       "  class cap-shape cap-surface cap-color bruises odor gill-attachment  \\\n",
       "0     p         x           s         n       t    p               f   \n",
       "1     e         x           s         y       t    a               f   \n",
       "2     e         b           s         w       t    l               f   \n",
       "3     p         x           y         w       t    p               f   \n",
       "4     e         x           s         g       f    n               f   \n",
       "\n",
       "  gill-spacing gill-size gill-color  ... stalk-surface-below-ring  \\\n",
       "0            c         n          k  ...                        s   \n",
       "1            c         b          k  ...                        s   \n",
       "2            c         b          n  ...                        s   \n",
       "3            c         n          n  ...                        s   \n",
       "4            w         b          k  ...                        s   \n",
       "\n",
       "  stalk-color-above-ring stalk-color-below-ring veil-type veil-color  \\\n",
       "0                      w                      w         p          w   \n",
       "1                      w                      w         p          w   \n",
       "2                      w                      w         p          w   \n",
       "3                      w                      w         p          w   \n",
       "4                      w                      w         p          w   \n",
       "\n",
       "  ring-number ring-type spore-print-color population habitat  \n",
       "0           o         p                 k          s       u  \n",
       "1           o         p                 n          n       g  \n",
       "2           o         p                 n          n       m  \n",
       "3           o         p                 k          s       u  \n",
       "4           o         e                 n          a       g  \n",
       "\n",
       "[5 rows x 23 columns]"
      ]
     },
     "execution_count": 56,
     "metadata": {},
     "output_type": "execute_result"
    }
   ],
   "source": [
    "df = pd.read_csv(\"naive_mushrooms.csv\")\n",
    "df.head()"
   ]
  },
  {
   "cell_type": "code",
   "execution_count": 57,
   "id": "a57ba0ba-1d92-4406-9413-4d095b6fdd36",
   "metadata": {},
   "outputs": [
    {
     "data": {
      "text/plain": [
       "Index(['class', 'cap-shape', 'cap-surface', 'cap-color', 'bruises', 'odor',\n",
       "       'gill-attachment', 'gill-spacing', 'gill-size', 'gill-color',\n",
       "       'stalk-shape', 'stalk-root', 'stalk-surface-above-ring',\n",
       "       'stalk-surface-below-ring', 'stalk-color-above-ring',\n",
       "       'stalk-color-below-ring', 'veil-type', 'veil-color', 'ring-number',\n",
       "       'ring-type', 'spore-print-color', 'population', 'habitat'],\n",
       "      dtype='object')"
      ]
     },
     "execution_count": 57,
     "metadata": {},
     "output_type": "execute_result"
    }
   ],
   "source": [
    "df.columns"
   ]
  },
  {
   "cell_type": "code",
   "execution_count": 58,
   "id": "cdd0af48-6de4-42ac-8121-ec731745f6e5",
   "metadata": {},
   "outputs": [
    {
     "data": {
      "text/plain": [
       "(8124, 23)"
      ]
     },
     "execution_count": 58,
     "metadata": {},
     "output_type": "execute_result"
    }
   ],
   "source": [
    "df.shape # 23 features\n",
    "#data is non - numeric"
   ]
  },
  {
   "cell_type": "markdown",
   "id": "c5e4c9f6-31b0-4d57-ab2f-df50e590dc7b",
   "metadata": {},
   "source": [
    "### Step 2: Encode the categorical data into numeric data\n",
    "- We iterate over the data , and alot each unique charater a value\n",
    "- For example we can assign value 1 to p  and then create a dictionary of characters with key-values as a number.\n",
    "- We can use scikit learn instead."
   ]
  },
  {
   "cell_type": "code",
   "execution_count": 59,
   "id": "90a7794f-9755-47d4-b095-f3cafd854400",
   "metadata": {},
   "outputs": [],
   "source": [
    "from sklearn.preprocessing import LabelEncoder"
   ]
  },
  {
   "cell_type": "code",
   "execution_count": 60,
   "id": "2494d279-3c24-4134-84ce-ea5fe8337469",
   "metadata": {},
   "outputs": [],
   "source": [
    "le = LabelEncoder()\n",
    "ds = df.apply(le.fit_transform) \n",
    "# df.apply - , it can take a function as an argument\n",
    "#It can be done on pandas dataframe\n",
    "# It applies tranformation on each column "
   ]
  },
  {
   "cell_type": "code",
   "execution_count": 61,
   "id": "93c13cb9-582d-4418-a7ab-e0d841c9de1e",
   "metadata": {},
   "outputs": [
    {
     "data": {
      "text/plain": [
       "\u001b[0;31mSignature:\u001b[0m\n",
       "\u001b[0mdf\u001b[0m\u001b[0;34m.\u001b[0m\u001b[0mapply\u001b[0m\u001b[0;34m(\u001b[0m\u001b[0;34m\u001b[0m\n",
       "\u001b[0;34m\u001b[0m    \u001b[0mfunc\u001b[0m\u001b[0;34m:\u001b[0m \u001b[0;34m'AggFuncType'\u001b[0m\u001b[0;34m,\u001b[0m\u001b[0;34m\u001b[0m\n",
       "\u001b[0;34m\u001b[0m    \u001b[0maxis\u001b[0m\u001b[0;34m:\u001b[0m \u001b[0;34m'Axis'\u001b[0m \u001b[0;34m=\u001b[0m \u001b[0;36m0\u001b[0m\u001b[0;34m,\u001b[0m\u001b[0;34m\u001b[0m\n",
       "\u001b[0;34m\u001b[0m    \u001b[0mraw\u001b[0m\u001b[0;34m:\u001b[0m \u001b[0;34m'bool'\u001b[0m \u001b[0;34m=\u001b[0m \u001b[0;32mFalse\u001b[0m\u001b[0;34m,\u001b[0m\u001b[0;34m\u001b[0m\n",
       "\u001b[0;34m\u001b[0m    \u001b[0mresult_type\u001b[0m\u001b[0;34m:\u001b[0m \u001b[0;34m\"Literal['expand', 'reduce', 'broadcast'] | None\"\u001b[0m \u001b[0;34m=\u001b[0m \u001b[0;32mNone\u001b[0m\u001b[0;34m,\u001b[0m\u001b[0;34m\u001b[0m\n",
       "\u001b[0;34m\u001b[0m    \u001b[0margs\u001b[0m\u001b[0;34m=\u001b[0m\u001b[0;34m(\u001b[0m\u001b[0;34m)\u001b[0m\u001b[0;34m,\u001b[0m\u001b[0;34m\u001b[0m\n",
       "\u001b[0;34m\u001b[0m    \u001b[0mby_row\u001b[0m\u001b[0;34m:\u001b[0m \u001b[0;34m\"Literal[False, 'compat']\"\u001b[0m \u001b[0;34m=\u001b[0m \u001b[0;34m'compat'\u001b[0m\u001b[0;34m,\u001b[0m\u001b[0;34m\u001b[0m\n",
       "\u001b[0;34m\u001b[0m    \u001b[0;34m**\u001b[0m\u001b[0mkwargs\u001b[0m\u001b[0;34m,\u001b[0m\u001b[0;34m\u001b[0m\n",
       "\u001b[0;34m\u001b[0m\u001b[0;34m)\u001b[0m\u001b[0;34m\u001b[0m\u001b[0;34m\u001b[0m\u001b[0m\n",
       "\u001b[0;31mDocstring:\u001b[0m\n",
       "Apply a function along an axis of the DataFrame.\n",
       "\n",
       "Objects passed to the function are Series objects whose index is\n",
       "either the DataFrame's index (``axis=0``) or the DataFrame's columns\n",
       "(``axis=1``). By default (``result_type=None``), the final return type\n",
       "is inferred from the return type of the applied function. Otherwise,\n",
       "it depends on the `result_type` argument.\n",
       "\n",
       "Parameters\n",
       "----------\n",
       "func : function\n",
       "    Function to apply to each column or row.\n",
       "axis : {0 or 'index', 1 or 'columns'}, default 0\n",
       "    Axis along which the function is applied:\n",
       "\n",
       "    * 0 or 'index': apply function to each column.\n",
       "    * 1 or 'columns': apply function to each row.\n",
       "\n",
       "raw : bool, default False\n",
       "    Determines if row or column is passed as a Series or ndarray object:\n",
       "\n",
       "    * ``False`` : passes each row or column as a Series to the\n",
       "      function.\n",
       "    * ``True`` : the passed function will receive ndarray objects\n",
       "      instead.\n",
       "      If you are just applying a NumPy reduction function this will\n",
       "      achieve much better performance.\n",
       "\n",
       "result_type : {'expand', 'reduce', 'broadcast', None}, default None\n",
       "    These only act when ``axis=1`` (columns):\n",
       "\n",
       "    * 'expand' : list-like results will be turned into columns.\n",
       "    * 'reduce' : returns a Series if possible rather than expanding\n",
       "      list-like results. This is the opposite of 'expand'.\n",
       "    * 'broadcast' : results will be broadcast to the original shape\n",
       "      of the DataFrame, the original index and columns will be\n",
       "      retained.\n",
       "\n",
       "    The default behaviour (None) depends on the return value of the\n",
       "    applied function: list-like results will be returned as a Series\n",
       "    of those. However if the apply function returns a Series these\n",
       "    are expanded to columns.\n",
       "args : tuple\n",
       "    Positional arguments to pass to `func` in addition to the\n",
       "    array/series.\n",
       "by_row : False or \"compat\", default \"compat\"\n",
       "    Only has an effect when ``func`` is a listlike or dictlike of funcs\n",
       "    and the func isn't a string.\n",
       "    If \"compat\", will if possible first translate the func into pandas\n",
       "    methods (e.g. ``Series().apply(np.sum)`` will be translated to\n",
       "    ``Series().sum()``). If that doesn't work, will try call to apply again with\n",
       "    ``by_row=True`` and if that fails, will call apply again with\n",
       "    ``by_row=False`` (backward compatible).\n",
       "    If False, the funcs will be passed the whole Series at once.\n",
       "\n",
       "    .. versionadded:: 2.1.0\n",
       "**kwargs\n",
       "    Additional keyword arguments to pass as keywords arguments to\n",
       "    `func`.\n",
       "\n",
       "Returns\n",
       "-------\n",
       "Series or DataFrame\n",
       "    Result of applying ``func`` along the given axis of the\n",
       "    DataFrame.\n",
       "\n",
       "See Also\n",
       "--------\n",
       "DataFrame.map: For elementwise operations.\n",
       "DataFrame.aggregate: Only perform aggregating type operations.\n",
       "DataFrame.transform: Only perform transforming type operations.\n",
       "\n",
       "Notes\n",
       "-----\n",
       "Functions that mutate the passed object can produce unexpected\n",
       "behavior or errors and are not supported. See :ref:`gotchas.udf-mutation`\n",
       "for more details.\n",
       "\n",
       "Examples\n",
       "--------\n",
       ">>> df = pd.DataFrame([[4, 9]] * 3, columns=['A', 'B'])\n",
       ">>> df\n",
       "   A  B\n",
       "0  4  9\n",
       "1  4  9\n",
       "2  4  9\n",
       "\n",
       "Using a numpy universal function (in this case the same as\n",
       "``np.sqrt(df)``):\n",
       "\n",
       ">>> df.apply(np.sqrt)\n",
       "     A    B\n",
       "0  2.0  3.0\n",
       "1  2.0  3.0\n",
       "2  2.0  3.0\n",
       "\n",
       "Using a reducing function on either axis\n",
       "\n",
       ">>> df.apply(np.sum, axis=0)\n",
       "A    12\n",
       "B    27\n",
       "dtype: int64\n",
       "\n",
       ">>> df.apply(np.sum, axis=1)\n",
       "0    13\n",
       "1    13\n",
       "2    13\n",
       "dtype: int64\n",
       "\n",
       "Returning a list-like will result in a Series\n",
       "\n",
       ">>> df.apply(lambda x: [1, 2], axis=1)\n",
       "0    [1, 2]\n",
       "1    [1, 2]\n",
       "2    [1, 2]\n",
       "dtype: object\n",
       "\n",
       "Passing ``result_type='expand'`` will expand list-like results\n",
       "to columns of a Dataframe\n",
       "\n",
       ">>> df.apply(lambda x: [1, 2], axis=1, result_type='expand')\n",
       "   0  1\n",
       "0  1  2\n",
       "1  1  2\n",
       "2  1  2\n",
       "\n",
       "Returning a Series inside the function is similar to passing\n",
       "``result_type='expand'``. The resulting column names\n",
       "will be the Series index.\n",
       "\n",
       ">>> df.apply(lambda x: pd.Series([1, 2], index=['foo', 'bar']), axis=1)\n",
       "   foo  bar\n",
       "0    1    2\n",
       "1    1    2\n",
       "2    1    2\n",
       "\n",
       "Passing ``result_type='broadcast'`` will ensure the same shape\n",
       "result, whether list-like or scalar is returned by the function,\n",
       "and broadcast it along the axis. The resulting column names will\n",
       "be the originals.\n",
       "\n",
       ">>> df.apply(lambda x: [1, 2], axis=1, result_type='broadcast')\n",
       "   A  B\n",
       "0  1  2\n",
       "1  1  2\n",
       "2  1  2\n",
       "\u001b[0;31mFile:\u001b[0m      /opt/anaconda3/lib/python3.11/site-packages/pandas/core/frame.py\n",
       "\u001b[0;31mType:\u001b[0m      method"
      ]
     },
     "metadata": {},
     "output_type": "display_data"
    }
   ],
   "source": [
    "df.apply?\n",
    "# basically it updates rthe each row\n"
   ]
  },
  {
   "cell_type": "code",
   "execution_count": 62,
   "id": "a51058cb-d2b3-4a5c-98d4-250731c1f480",
   "metadata": {},
   "outputs": [
    {
     "data": {
      "text/plain": [
       "\u001b[0;31mSignature:\u001b[0m \u001b[0mle\u001b[0m\u001b[0;34m.\u001b[0m\u001b[0mfit_transform\u001b[0m\u001b[0;34m(\u001b[0m\u001b[0my\u001b[0m\u001b[0;34m)\u001b[0m\u001b[0;34m\u001b[0m\u001b[0;34m\u001b[0m\u001b[0m\n",
       "\u001b[0;31mDocstring:\u001b[0m\n",
       "Fit label encoder and return encoded labels.\n",
       "\n",
       "Parameters\n",
       "----------\n",
       "y : array-like of shape (n_samples,)\n",
       "    Target values.\n",
       "\n",
       "Returns\n",
       "-------\n",
       "y : array-like of shape (n_samples,)\n",
       "    Encoded labels.\n",
       "\u001b[0;31mFile:\u001b[0m      /opt/anaconda3/lib/python3.11/site-packages/sklearn/preprocessing/_label.py\n",
       "\u001b[0;31mType:\u001b[0m      method"
      ]
     },
     "metadata": {},
     "output_type": "display_data"
    }
   ],
   "source": [
    "le.fit_transform?\n",
    "# return the encoded labels"
   ]
  },
  {
   "cell_type": "code",
   "execution_count": 63,
   "id": "75733e7c-f117-4ac9-b482-cd90c2029fa1",
   "metadata": {},
   "outputs": [
    {
     "name": "stdout",
     "output_type": "stream",
     "text": [
      "<class 'pandas.core.frame.DataFrame'>\n"
     ]
    }
   ],
   "source": [
    "print(type(ds))"
   ]
  },
  {
   "cell_type": "code",
   "execution_count": 64,
   "id": "a4ea7b8f-8437-4f46-b9ea-e90a6c613d83",
   "metadata": {},
   "outputs": [
    {
     "data": {
      "text/html": [
       "<div>\n",
       "<style scoped>\n",
       "    .dataframe tbody tr th:only-of-type {\n",
       "        vertical-align: middle;\n",
       "    }\n",
       "\n",
       "    .dataframe tbody tr th {\n",
       "        vertical-align: top;\n",
       "    }\n",
       "\n",
       "    .dataframe thead th {\n",
       "        text-align: right;\n",
       "    }\n",
       "</style>\n",
       "<table border=\"1\" class=\"dataframe\">\n",
       "  <thead>\n",
       "    <tr style=\"text-align: right;\">\n",
       "      <th></th>\n",
       "      <th>class</th>\n",
       "      <th>cap-shape</th>\n",
       "      <th>cap-surface</th>\n",
       "      <th>cap-color</th>\n",
       "      <th>bruises</th>\n",
       "      <th>odor</th>\n",
       "      <th>gill-attachment</th>\n",
       "      <th>gill-spacing</th>\n",
       "      <th>gill-size</th>\n",
       "      <th>gill-color</th>\n",
       "      <th>...</th>\n",
       "      <th>stalk-surface-below-ring</th>\n",
       "      <th>stalk-color-above-ring</th>\n",
       "      <th>stalk-color-below-ring</th>\n",
       "      <th>veil-type</th>\n",
       "      <th>veil-color</th>\n",
       "      <th>ring-number</th>\n",
       "      <th>ring-type</th>\n",
       "      <th>spore-print-color</th>\n",
       "      <th>population</th>\n",
       "      <th>habitat</th>\n",
       "    </tr>\n",
       "  </thead>\n",
       "  <tbody>\n",
       "    <tr>\n",
       "      <th>0</th>\n",
       "      <td>1</td>\n",
       "      <td>5</td>\n",
       "      <td>2</td>\n",
       "      <td>4</td>\n",
       "      <td>1</td>\n",
       "      <td>6</td>\n",
       "      <td>1</td>\n",
       "      <td>0</td>\n",
       "      <td>1</td>\n",
       "      <td>4</td>\n",
       "      <td>...</td>\n",
       "      <td>2</td>\n",
       "      <td>7</td>\n",
       "      <td>7</td>\n",
       "      <td>0</td>\n",
       "      <td>2</td>\n",
       "      <td>1</td>\n",
       "      <td>4</td>\n",
       "      <td>2</td>\n",
       "      <td>3</td>\n",
       "      <td>5</td>\n",
       "    </tr>\n",
       "    <tr>\n",
       "      <th>1</th>\n",
       "      <td>0</td>\n",
       "      <td>5</td>\n",
       "      <td>2</td>\n",
       "      <td>9</td>\n",
       "      <td>1</td>\n",
       "      <td>0</td>\n",
       "      <td>1</td>\n",
       "      <td>0</td>\n",
       "      <td>0</td>\n",
       "      <td>4</td>\n",
       "      <td>...</td>\n",
       "      <td>2</td>\n",
       "      <td>7</td>\n",
       "      <td>7</td>\n",
       "      <td>0</td>\n",
       "      <td>2</td>\n",
       "      <td>1</td>\n",
       "      <td>4</td>\n",
       "      <td>3</td>\n",
       "      <td>2</td>\n",
       "      <td>1</td>\n",
       "    </tr>\n",
       "    <tr>\n",
       "      <th>2</th>\n",
       "      <td>0</td>\n",
       "      <td>0</td>\n",
       "      <td>2</td>\n",
       "      <td>8</td>\n",
       "      <td>1</td>\n",
       "      <td>3</td>\n",
       "      <td>1</td>\n",
       "      <td>0</td>\n",
       "      <td>0</td>\n",
       "      <td>5</td>\n",
       "      <td>...</td>\n",
       "      <td>2</td>\n",
       "      <td>7</td>\n",
       "      <td>7</td>\n",
       "      <td>0</td>\n",
       "      <td>2</td>\n",
       "      <td>1</td>\n",
       "      <td>4</td>\n",
       "      <td>3</td>\n",
       "      <td>2</td>\n",
       "      <td>3</td>\n",
       "    </tr>\n",
       "  </tbody>\n",
       "</table>\n",
       "<p>3 rows × 23 columns</p>\n",
       "</div>"
      ],
      "text/plain": [
       "   class  cap-shape  cap-surface  cap-color  bruises  odor  gill-attachment  \\\n",
       "0      1          5            2          4        1     6                1   \n",
       "1      0          5            2          9        1     0                1   \n",
       "2      0          0            2          8        1     3                1   \n",
       "\n",
       "   gill-spacing  gill-size  gill-color  ...  stalk-surface-below-ring  \\\n",
       "0             0          1           4  ...                         2   \n",
       "1             0          0           4  ...                         2   \n",
       "2             0          0           5  ...                         2   \n",
       "\n",
       "   stalk-color-above-ring  stalk-color-below-ring  veil-type  veil-color  \\\n",
       "0                       7                       7          0           2   \n",
       "1                       7                       7          0           2   \n",
       "2                       7                       7          0           2   \n",
       "\n",
       "   ring-number  ring-type  spore-print-color  population  habitat  \n",
       "0            1          4                  2           3        5  \n",
       "1            1          4                  3           2        1  \n",
       "2            1          4                  3           2        3  \n",
       "\n",
       "[3 rows x 23 columns]"
      ]
     },
     "execution_count": 64,
     "metadata": {},
     "output_type": "execute_result"
    }
   ],
   "source": [
    "ds.head(n=3)\n",
    "# now we have data in numeric form"
   ]
  },
  {
   "cell_type": "code",
   "execution_count": 65,
   "id": "b46a3bb5-5047-40c2-b147-a0cc63d4e5a2",
   "metadata": {},
   "outputs": [
    {
     "name": "stdout",
     "output_type": "stream",
     "text": [
      "(8124, 23)\n",
      "<class 'numpy.ndarray'>\n",
      "[[1 5 2 4 1 6 1 0 1 4 0 3 2 2 7 7 0 2 1 4 2 3 5]\n",
      " [0 5 2 9 1 0 1 0 0 4 0 2 2 2 7 7 0 2 1 4 3 2 1]\n",
      " [0 0 2 8 1 3 1 0 0 5 0 2 2 2 7 7 0 2 1 4 3 2 3]\n",
      " [1 5 3 8 1 6 1 0 1 5 0 3 2 2 7 7 0 2 1 4 2 3 5]\n",
      " [0 5 2 3 0 5 1 1 0 4 1 3 2 2 7 7 0 2 1 0 3 0 1]]\n"
     ]
    }
   ],
   "source": [
    "data = ds.values # converting dataframe into array\n",
    "print(data.shape)\n",
    "print(type(data))\n",
    "print(data[: 5, :])"
   ]
  },
  {
   "cell_type": "markdown",
   "id": "954d8c8d-e3d5-4d73-a90b-a1af7ee64f82",
   "metadata": {},
   "source": [
    "### Step 3: Converting the array in x and y form as 0th row is target"
   ]
  },
  {
   "cell_type": "code",
   "execution_count": 66,
   "id": "c71e4af7-21d6-45ec-aaa1-4c923bfbc142",
   "metadata": {},
   "outputs": [
    {
     "data": {
      "text/plain": [
       "(8124, 22)"
      ]
     },
     "execution_count": 66,
     "metadata": {},
     "output_type": "execute_result"
    }
   ],
   "source": [
    "data_x = data[:, 1:]\n",
    "data_x.shape"
   ]
  },
  {
   "cell_type": "code",
   "execution_count": 67,
   "id": "29ef019e-8e06-4123-b3f6-a06aed198eb4",
   "metadata": {},
   "outputs": [
    {
     "data": {
      "text/plain": [
       "(8124,)"
      ]
     },
     "execution_count": 67,
     "metadata": {},
     "output_type": "execute_result"
    }
   ],
   "source": [
    "data_y = data[:, 0]\n",
    "data_y.shape"
   ]
  },
  {
   "cell_type": "code",
   "execution_count": 68,
   "id": "3c1dd38c-af77-4a27-9d01-291a53caed4c",
   "metadata": {},
   "outputs": [
    {
     "data": {
      "text/plain": [
       "array([1, 0, 0, ..., 0, 1, 0])"
      ]
     },
     "execution_count": 68,
     "metadata": {},
     "output_type": "execute_result"
    }
   ],
   "source": [
    "data_y"
   ]
  },
  {
   "cell_type": "markdown",
   "id": "b9120e8b-b092-41f2-bd7d-9a5d91753ad6",
   "metadata": {},
   "source": [
    "### Step 4: Break the data into train and test"
   ]
  },
  {
   "cell_type": "code",
   "execution_count": 69,
   "id": "e27c3372-01f0-4578-a487-9ec107a547dc",
   "metadata": {},
   "outputs": [],
   "source": [
    "from sklearn.model_selection import train_test_split"
   ]
  },
  {
   "cell_type": "code",
   "execution_count": 70,
   "id": "72621727-64c1-41b7-9620-a1b119e0d83f",
   "metadata": {},
   "outputs": [],
   "source": [
    "x_train, x_test, y_train, y_test = train_test_split(data_x, data_y, test_size=0.2)"
   ]
  },
  {
   "cell_type": "code",
   "execution_count": 71,
   "id": "60d3ea8a-a846-4ab9-857d-9b999bacd478",
   "metadata": {},
   "outputs": [
    {
     "name": "stdout",
     "output_type": "stream",
     "text": [
      "(6499, 22) (6499,)\n"
     ]
    }
   ],
   "source": [
    "print(x_train.shape, y_train.shape)"
   ]
  },
  {
   "cell_type": "code",
   "execution_count": 72,
   "id": "4ba27d39-1f10-48d3-8722-b0edca03f9ae",
   "metadata": {},
   "outputs": [
    {
     "data": {
      "text/plain": [
       "array([0, 1])"
      ]
     },
     "execution_count": 72,
     "metadata": {},
     "output_type": "execute_result"
    }
   ],
   "source": [
    "np.unique(y_train) # binary class classification"
   ]
  },
  {
   "cell_type": "code",
   "execution_count": 73,
   "id": "b1eceb8a-1f5e-49ea-b8a4-bd9e540e6a4f",
   "metadata": {},
   "outputs": [
    {
     "data": {
      "text/plain": [
       "array([ 0,  1,  2,  3,  4,  5,  6,  7,  8,  9, 10, 11])"
      ]
     },
     "execution_count": 73,
     "metadata": {},
     "output_type": "execute_result"
    }
   ],
   "source": [
    "np.unique(x_train)\n",
    "# so there are 12 unique features on which we are going to decide \n",
    "# using naive bayes that class does it belong\n",
    "# inversetranform -- numeric to char encoding"
   ]
  },
  {
   "cell_type": "markdown",
   "id": "e56a5664-886c-4075-8caf-d07ddfdeaf6f",
   "metadata": {},
   "source": [
    "### Step 5: Mushroom Classifier - Prior and Conditional Probability\n",
    "### Building our calssifier"
   ]
  },
  {
   "cell_type": "code",
   "execution_count": 74,
   "id": "43a6fd37-bf5d-4402-876e-858fb15a4d72",
   "metadata": {},
   "outputs": [
    {
     "name": "stdout",
     "output_type": "stream",
     "text": [
      "4\n",
      "3\n",
      "[ True  True  True False False False  True False False False False]\n"
     ]
    }
   ],
   "source": [
    "a = np.array([0, 0, 0, 1, 1, 1, 0, 1,6,6,4])\n",
    "print(np.sum(a ==1))# return the count \n",
    "print(np.sum(a>=3))\n",
    "print(a== 0)"
   ]
  },
  {
   "cell_type": "code",
   "execution_count": 75,
   "id": "5a12690b-d37b-4c1c-a7ac-0c707e7b77d3",
   "metadata": {},
   "outputs": [],
   "source": [
    "def prior_prob(y_train, label):\n",
    "    total_examples = y_train.shape[0]\n",
    "    class_examples = np.sum(y_train == label)\n",
    "    return round((class_examples/total_examples), 2)\n",
    "    "
   ]
  },
  {
   "cell_type": "code",
   "execution_count": 76,
   "id": "890fd37a-6f3b-4126-a9a8-712f35f2d9ce",
   "metadata": {},
   "outputs": [
    {
     "data": {
      "text/plain": [
       "0.52"
      ]
     },
     "execution_count": 76,
     "metadata": {},
     "output_type": "execute_result"
    }
   ],
   "source": [
    "prior_prob(y_train, 0)"
   ]
  },
  {
   "cell_type": "code",
   "execution_count": 77,
   "id": "15135808-3159-47b3-a38e-2014f49e3477",
   "metadata": {},
   "outputs": [
    {
     "data": {
      "text/plain": [
       "0.48"
      ]
     },
     "execution_count": 77,
     "metadata": {},
     "output_type": "execute_result"
    }
   ],
   "source": [
    "prior_prob(y_train, 1)"
   ]
  },
  {
   "cell_type": "code",
   "execution_count": 78,
   "id": "a2a15698-537d-49b9-a92b-a4561c0f0a1d",
   "metadata": {},
   "outputs": [
    {
     "data": {
      "text/plain": [
       "0.4"
      ]
     },
     "execution_count": 78,
     "metadata": {},
     "output_type": "execute_result"
    }
   ],
   "source": [
    "y = np.array([0, 5, 5, 1, 1, 1, 1, 0, 0, 0])\n",
    "prior_prob(y, 1)"
   ]
  },
  {
   "cell_type": "code",
   "execution_count": 79,
   "id": "a1e796bd-c4d8-4d20-8069-15c63b4fc626",
   "metadata": {},
   "outputs": [],
   "source": [
    "def cond_prob(x_train, y_train, feature_col, feature_val, label):\n",
    "# p(xi= greenxolor | y = c ) it is conditional probability\n",
    "# where feature _col is x1,x2, ..xn features,\n",
    "#feature values are its corresponding value like x1 value is 1, x2 is 2\n",
    "# for the corresponding label\n",
    "#label are corresponding y labels\n",
    "    x_train_filtered = x_train[y_train == label]\n",
    "    #only those rows from x where \n",
    "    # y value is euqual to label\n",
    "    numerator   =  np.sum(x_train_filtered[:, feature_col] == feature_val) \n",
    "    denominator =  np.sum(y_train == label)\n",
    "    return round((numerator/float(denominator)), 2)"
   ]
  },
  {
   "cell_type": "code",
   "execution_count": 80,
   "id": "21b01661-f7c5-4f96-8909-615f73b5c490",
   "metadata": {},
   "outputs": [
    {
     "ename": "SyntaxError",
     "evalue": "expected ':' (1064968256.py, line 2)",
     "output_type": "error",
     "traceback": [
      "\u001b[0;36m  Cell \u001b[0;32mIn[80], line 2\u001b[0;36m\u001b[0m\n\u001b[0;31m    def conditional_probability(ith_feature, fea_value_given_label, label)\u001b[0m\n\u001b[0m                                                                          ^\u001b[0m\n\u001b[0;31mSyntaxError\u001b[0m\u001b[0;31m:\u001b[0m expected ':'\n"
     ]
    }
   ],
   "source": [
    "ith_feature = x_train[y_train == label]\n",
    "def conditional_probability(ith_feature, fea_value_given_label, label)\n"
   ]
  },
  {
   "cell_type": "code",
   "execution_count": null,
   "id": "0ee1b45b-1aa3-4a7e-adff-7c7a4d79df71",
   "metadata": {},
   "outputs": [],
   "source": [
    "# what we did is , let say we are talking baout second columnn,\n",
    "# ie feature_col = 2\n",
    "# feature_value = let say it is green color\n",
    "# let say label is y =2 \n",
    "# We need to compute p(x_2 = green | y = 2)\n",
    "# therefore x_train_filtered = x_train[y_train == label] means,\n",
    "# the x_2 with green feature given y label as 2\n",
    "# it mean it contains all the x2 features with green color and a label =2\n",
    "\n",
    "\n",
    "#numerator   =  np.sum(x_train_filtered[:, feature_col] == feature_val)\n",
    "#means it will return count x_2 feature with all green color, with class\n",
    "# 2\n",
    "# denominator = np.sum( y_train == label ) contains all the color like \n",
    "# blue ,red , orange of class 2"
   ]
  },
  {
   "cell_type": "code",
   "execution_count": null,
   "id": "bfbb4e94-7b20-414e-b1b7-e4fee047e3c0",
   "metadata": {},
   "outputs": [],
   "source": [
    "#x_train_filtered_ = x_train[y_train == 1] # check the shapes\n",
    "#x_train_filtered,\n",
    "#x_train_filtered.shape"
   ]
  },
  {
   "cell_type": "code",
   "execution_count": null,
   "id": "de0a7dff-5ba1-4636-aa0b-87378ac6e316",
   "metadata": {},
   "outputs": [],
   "source": [
    "#num = x_train_filtered[:, 3] == 1"
   ]
  },
  {
   "cell_type": "code",
   "execution_count": null,
   "id": "81da63aa-515e-49ad-8141-f9aaee26df8e",
   "metadata": {},
   "outputs": [],
   "source": [
    "#num"
   ]
  },
  {
   "cell_type": "code",
   "execution_count": null,
   "id": "799576ae-119f-4909-a14a-b3373788d30b",
   "metadata": {},
   "outputs": [],
   "source": [
    "#num.shape"
   ]
  },
  {
   "cell_type": "markdown",
   "id": "f1daadfe-05d9-43d3-bde5-95cb72e091a5",
   "metadata": {},
   "source": [
    "### Next Step : Compute the Posterior Probability "
   ]
  },
  {
   "cell_type": "code",
   "execution_count": 81,
   "id": "bf753096-d946-4517-8bb2-c5a0d137d4d9",
   "metadata": {},
   "outputs": [],
   "source": [
    "def predict(x_train, y_train, xtest):\n",
    "    \"\"\" Xtest is a single testing point, n features\"\"\"\n",
    "    classes = np.unique(y_train)\n",
    "    # we need to know how many classes are there ie labels\n",
    "    n_features = x_train.shape[1] \n",
    "    posterior_prob = [] \n",
    "    # List of prob for all classes and a given single testing point \n",
    "    # compute posterior for each class\n",
    "    for label in classes :\n",
    "    #posteior_c = likelyhood * prior\n",
    "        likelihood = 1.0\n",
    "    #likelyhood = product {(i =1 to n)(pxi| y =c)}\n",
    "        for f in range (n_features):\n",
    "            cond = cond_prob(x_train, y_train, f, xtest[f], label)\n",
    "            likelihood  *= cond\n",
    "            \n",
    "        prior = prior_prob(y_train, label)\n",
    "        posterior = likelihood*prior\n",
    "        posterior_prob.append(posterior)\n",
    "        \n",
    "    pred = np.argmax(posterior_prob)\n",
    "    return pred\n",
    "    "
   ]
  },
  {
   "cell_type": "code",
   "execution_count": 82,
   "id": "c301ed07-58e0-49d0-ab60-62fa95c05b5a",
   "metadata": {},
   "outputs": [
    {
     "data": {
      "text/plain": [
       "array([0, 1])"
      ]
     },
     "execution_count": 82,
     "metadata": {},
     "output_type": "execute_result"
    }
   ],
   "source": [
    "np.unique(y_train)# binary class classification"
   ]
  },
  {
   "cell_type": "code",
   "execution_count": 83,
   "id": "97ceb5fa-f698-482a-aba8-a49e7cbb5f18",
   "metadata": {},
   "outputs": [
    {
     "data": {
      "text/plain": [
       "array([ 5,  3,  9,  1,  0,  1,  0,  0, 10,  0,  4,  2,  3,  7,  7,  0,  2,\n",
       "        1,  4,  3,  5,  1])"
      ]
     },
     "execution_count": 83,
     "metadata": {},
     "output_type": "execute_result"
    }
   ],
   "source": [
    "x_test[1]"
   ]
  },
  {
   "cell_type": "code",
   "execution_count": 84,
   "id": "bf566294-1f54-416a-9dcb-73c5269971ae",
   "metadata": {},
   "outputs": [
    {
     "data": {
      "text/plain": [
       "(1625, 22)"
      ]
     },
     "execution_count": 84,
     "metadata": {},
     "output_type": "execute_result"
    }
   ],
   "source": [
    "x_test.shape"
   ]
  },
  {
   "cell_type": "code",
   "execution_count": 85,
   "id": "dd8ac37b-ea37-4c73-af30-adcd8e6f54a6",
   "metadata": {},
   "outputs": [
    {
     "data": {
      "text/plain": [
       "0"
      ]
     },
     "execution_count": 85,
     "metadata": {},
     "output_type": "execute_result"
    }
   ],
   "source": [
    " predict(x_train , y_train, x_test[1])\n"
   ]
  },
  {
   "cell_type": "code",
   "execution_count": 86,
   "id": "6f58157d-97e2-478e-88fb-ffadad4db960",
   "metadata": {},
   "outputs": [
    {
     "data": {
      "text/plain": [
       "0"
      ]
     },
     "execution_count": 86,
     "metadata": {},
     "output_type": "execute_result"
    }
   ],
   "source": [
    "y_test[1]"
   ]
  },
  {
   "cell_type": "code",
   "execution_count": 87,
   "id": "e3da7104-28fc-43e6-81b9-8eb03355eee1",
   "metadata": {},
   "outputs": [
    {
     "data": {
      "text/plain": [
       "1"
      ]
     },
     "execution_count": 87,
     "metadata": {},
     "output_type": "execute_result"
    }
   ],
   "source": [
    " predict(x_train , y_train, x_test[3])"
   ]
  },
  {
   "cell_type": "code",
   "execution_count": 88,
   "id": "885e7658-df56-4681-9210-456cb31cf8d9",
   "metadata": {},
   "outputs": [
    {
     "data": {
      "text/plain": [
       "1"
      ]
     },
     "execution_count": 88,
     "metadata": {},
     "output_type": "execute_result"
    }
   ],
   "source": [
    "y_test[3]"
   ]
  },
  {
   "cell_type": "code",
   "execution_count": 89,
   "id": "f8d98ba8-323d-4eb8-b52e-bd2dd34b3f3b",
   "metadata": {},
   "outputs": [],
   "source": [
    "def score(x_train, y_train, x_test, y_test):\n",
    "    pred = []\n",
    "    for i in range(x_test.shape[0]):\n",
    "        pred_label = predict(x_train, y_train, x_test[i])\n",
    "        pred.append(pred_label)\n",
    "    pred = np.array(pred) #converting pred list into a array for uing np.sum\n",
    "    accuracy = np.sum(pred == y_test)/y_test.shape[0]\n",
    "    return accuracy\n"
   ]
  },
  {
   "cell_type": "code",
   "execution_count": 90,
   "id": "701e9d9f-c971-492e-b773-d2353656294a",
   "metadata": {},
   "outputs": [
    {
     "name": "stdout",
     "output_type": "stream",
     "text": [
      "0.9926153846153846\n"
     ]
    }
   ],
   "source": [
    "print(score(x_train, y_train, x_test, y_test))"
   ]
  },
  {
   "cell_type": "markdown",
   "id": "bb8fd887-ec30-4524-99f1-78152d0e1d52",
   "metadata": {},
   "source": [
    "### Naive Bayes for text Classification"
   ]
  },
  {
   "cell_type": "markdown",
   "id": "92893f0f-bb52-426e-8aa1-4b3c633dcc38",
   "metadata": {},
   "source": [
    "### Movie Rating :\n",
    "- each review is collection of words\n",
    "- what we gonna do is that we predict the ratings using Naive bayes\n",
    "- Assumption:\n",
    "- 1) bag of words -- ordering is not important \n",
    "- 2) conditional Independence example, happy and liked -->> both are independent of each other.\n",
    "  3) P(xi| y =c ) = [count(xi, y=c)]/[summation(1 to v){count(w, yi = c)}] where w is word\n",
    "\n",
    "- But there are some drawback using naive bayes for example: in training set we have words good, happy, awesome and liked but lets suppose in our test set we have overjoyed as there is overjoyed in training set our naive bayes classifier will predict p(\"overjoyed\"| y = +ve ) = 0, ie movie rating\n",
    "is bad , which is wrong indeed.\n",
    "- Problem : can't estimate P of unseen word as 0.\n",
    "\n",
    "### Solution Laplace Smoothing/correction:\n",
    "- p(xi| y =c ) = [count(xi, y=c) + 1]/[summation(1 to V){count(w, yi = c) +1}]\n",
    "-  (count(xi, y=c) + 1)/ [summation(1 to V){count(w, yi = c)} + V]\n",
    "-  V is vocab size\n",
    "\n",
    "### Mutivariate Bernoulli Naive Bayes\n",
    "- D1 = \"Like I like to swim\"\n",
    "- D2 = \"I like coding\"\n",
    "- vocab = (i, like , coidng, swim, to)-- list of words\n",
    "- Since we are bernoulli , we wont consider the frequency of words\n",
    "- converting D1 into vector = [1, 1, 0, 1, 1] \n",
    "- converting D2 into vector = [ 1, 1, 1, 0, 0]\n",
    "- P(xi|y=c) = product{i=1 to n} P(xi|y=c)^b.(1 - P(xi|y=c))^(1-b)\n",
    "- So, the probability of generating D1 sentence in the particular class let say c is = product{i=1 to n} P(xi|y=c)^b.(1 - P(xi|y=c))^(1-b)\n",
    "- where b is   [1, 1, 0, 1, 1] for d1\n",
    "- so probability of having the sentences will be product of having the words in the sentences\n",
    "- In D1 for word \"like\" b = 1, \"to\" is = 1 , \"coding\" = 0 and we calculate the product of each word probability for a given class to get the probability of sentence of thegiven class\n",
    "\n",
    "- Now P(xi| y =c )  Using maximum likelyhood estimator\n",
    "- P(xi| y =c )\n",
    "- = {(count of documents having class c and contain xi)+ 1}/{(count of docs in class c) +2 } -- since it is a bernouli model\n",
    "- where +1 and +2 are parameters of laplace smoothing\n",
    "\n",
    "### Multinomial Naive Bayes:\n",
    "- Text classification\n",
    "- Normalised term frequency = tf(t, d)/ n_d, where n_d is no. of documents\n",
    "- tf(t, d) is term frequency where t is no. times word appeared in word d\n",
    "- P(y|x) = product(P(xi|y).P(y)\n",
    "- P(xi|y=c) = summation {tf(xi , d belongs to c class)+ alpha}/{(total no. documents where d belongs to class c) + (alpha * V)}\n",
    "  "
   ]
  },
  {
   "cell_type": "markdown",
   "id": "f44036b6-336f-4038-8ce8-95b1fed3fc2b",
   "metadata": {},
   "source": [
    "### Multivariate Bernoulli Event Model \n",
    "- \" offer for you...\" spam message\n",
    "- what we do\n",
    "- let say there dictionary with 10k words in our vocab\n",
    "- First we convert it into vector using vectorization / bag of words\n",
    "- 1) probability of spam email P(y =spam) \n",
    "- 2) Iterate over all the words and check and multiply the probabilities of each word implies\n",
    "  3) P(xi = 1 | y = spam) = p(xi | y = spam)\n",
    "  4) p(xi = 0 | y = spam) = 1 - p(xi | y = spam)\n",
    "  5) L(0) = product(i=1 to v){ p(xi | y = spam)^b*(1 - p(xi | y = spam)^(1-b)).P(spam)\n",
    "  6) We are mutlipying v times\n",
    "  7) Boolean , discrete\n",
    "\n",
    "### Multinomial Event Model\n",
    "- \"offer for you...\" spam message\n",
    "- what we do\n",
    "- let say there dictionary with 10k words in our vocab\n",
    "- 1) probability of spam email P(y =spam) \n",
    "- 2) Iterate over all the words and check and multiply the probabilities of each word implies\n",
    "  3) p(offer| y =\"spam\") = P(x1|y = spam)P(x2 = for | y= spam) p(x3 = you| y = spam), where xi is coming from multinomial distribution\n",
    "  4) When data is large this model performs better\n",
    "  5) discrete but xi can have various different values."
   ]
  },
  {
   "cell_type": "markdown",
   "id": "834254e5-006f-464b-98e4-e9e69ba681c2",
   "metadata": {},
   "source": [
    "### Gaussian Naive Bayes:\n",
    "- Suitable for gaussian  distribution\n",
    "- used for continuos valued features\n",
    "- P(xi| ) = {1/(underroot(2*pie) * sigma)} e ^-(x -u) ^2/ (2* sigma**2)\n",
    "- 2d case cluster may be showing gaussian dsitribution "
   ]
  },
  {
   "cell_type": "code",
   "execution_count": 91,
   "id": "e39f4d7e-906e-4a04-8bae-0c3f3eb8fcd6",
   "metadata": {},
   "outputs": [],
   "source": [
    "from sklearn.naive_bayes import GaussianNB"
   ]
  },
  {
   "cell_type": "code",
   "execution_count": 92,
   "id": "52b51db1-bca6-49c0-b950-be67d86f1754",
   "metadata": {},
   "outputs": [],
   "source": [
    "gnb = GaussianNB()"
   ]
  },
  {
   "cell_type": "raw",
   "id": "9dbf9b0b-b26e-4f8f-8e27-dfbde01b0deb",
   "metadata": {},
   "source": [
    "gnb?"
   ]
  },
  {
   "cell_type": "code",
   "execution_count": 93,
   "id": "a602e101-0c54-415e-b744-a8e510819b40",
   "metadata": {},
   "outputs": [],
   "source": [
    "from sklearn.datasets import  make_classification\n",
    "import matplotlib.pyplot as plt"
   ]
  },
  {
   "cell_type": "code",
   "execution_count": 116,
   "id": "9e579e95-a6c1-45c6-9dd1-e004d1857f61",
   "metadata": {},
   "outputs": [],
   "source": [
    "X, Y = make_classification(n_samples = 2000, n_features = 2, n_informative =2, n_redundant = 0, random_state =5)"
   ]
  },
  {
   "cell_type": "code",
   "execution_count": 117,
   "id": "111f1f29-ffc2-440f-b1e1-70228c182508",
   "metadata": {},
   "outputs": [
    {
     "data": {
      "image/png": "[encoded data removed]",
      "text/plain": [
       "<Figure size 640x480 with 1 Axes>"
      ]
     },
     "metadata": {},
     "output_type": "display_data"
    }
   ],
   "source": [
    "plt.scatter(X[:, 0], X[:, 1], c = Y)\n",
    "plt.grid()\n",
    "plt.show()\n"
   ]
  },
  {
   "cell_type": "code",
   "execution_count": 118,
   "id": "194948e2-f322-41e6-8890-e51763769b4e",
   "metadata": {},
   "outputs": [
    {
     "name": "stdout",
     "output_type": "stream",
     "text": [
      "[1.82291849 0.90283471]\n"
     ]
    }
   ],
   "source": [
    "print(X[0])"
   ]
  },
  {
   "cell_type": "code",
   "execution_count": 119,
   "id": "412df864-7a56-4239-a7b1-991470a4d889",
   "metadata": {},
   "outputs": [
    {
     "name": "stdout",
     "output_type": "stream",
     "text": [
      "(2000, 2)\n"
     ]
    }
   ],
   "source": [
    "print(X.shape)"
   ]
  },
  {
   "cell_type": "markdown",
   "id": "77e28085-fdff-46ce-ac25-8c0e2b2607f7",
   "metadata": {},
   "source": [
    "#### Train classifier"
   ]
  },
  {
   "cell_type": "code",
   "execution_count": 120,
   "id": "e0d5131a-16ea-4a54-af38-1eb4dafeda7d",
   "metadata": {},
   "outputs": [
    {
     "data": {
      "text/html": [
       "<style>#sk-container-id-3 {color: black;background-color: white;}#sk-container-id-3 pre{padding: 0;}#sk-container-id-3 div.sk-toggleable {background-color: white;}#sk-container-id-3 label.sk-toggleable__label {cursor: pointer;display: block;width: 100%;margin-bottom: 0;padding: 0.3em;box-sizing: border-box;text-align: center;}#sk-container-id-3 label.sk-toggleable__label-arrow:before {content: \"▸\";float: left;margin-right: 0.25em;color: #696969;}#sk-container-id-3 label.sk-toggleable__label-arrow:hover:before {color: black;}#sk-container-id-3 div.sk-estimator:hover label.sk-toggleable__label-arrow:before {color: black;}#sk-container-id-3 div.sk-toggleable__content {max-height: 0;max-width: 0;overflow: hidden;text-align: left;background-color: #f0f8ff;}#sk-container-id-3 div.sk-toggleable__content pre {margin: 0.2em;color: black;border-radius: 0.25em;background-color: #f0f8ff;}#sk-container-id-3 input.sk-toggleable__control:checked~div.sk-toggleable__content {max-height: 200px;max-width: 100%;overflow: auto;}#sk-container-id-3 input.sk-toggleable__control:checked~label.sk-toggleable__label-arrow:before {content: \"▾\";}#sk-container-id-3 div.sk-estimator input.sk-toggleable__control:checked~label.sk-toggleable__label {background-color: #d4ebff;}#sk-container-id-3 div.sk-label input.sk-toggleable__control:checked~label.sk-toggleable__label {background-color: #d4ebff;}#sk-container-id-3 input.sk-hidden--visually {border: 0;clip: rect(1px 1px 1px 1px);clip: rect(1px, 1px, 1px, 1px);height: 1px;margin: -1px;overflow: hidden;padding: 0;position: absolute;width: 1px;}#sk-container-id-3 div.sk-estimator {font-family: monospace;background-color: #f0f8ff;border: 1px dotted black;border-radius: 0.25em;box-sizing: border-box;margin-bottom: 0.5em;}#sk-container-id-3 div.sk-estimator:hover {background-color: #d4ebff;}#sk-container-id-3 div.sk-parallel-item::after {content: \"\";width: 100%;border-bottom: 1px solid gray;flex-grow: 1;}#sk-container-id-3 div.sk-label:hover label.sk-toggleable__label {background-color: #d4ebff;}#sk-container-id-3 div.sk-serial::before {content: \"\";position: absolute;border-left: 1px solid gray;box-sizing: border-box;top: 0;bottom: 0;left: 50%;z-index: 0;}#sk-container-id-3 div.sk-serial {display: flex;flex-direction: column;align-items: center;background-color: white;padding-right: 0.2em;padding-left: 0.2em;position: relative;}#sk-container-id-3 div.sk-item {position: relative;z-index: 1;}#sk-container-id-3 div.sk-parallel {display: flex;align-items: stretch;justify-content: center;background-color: white;position: relative;}#sk-container-id-3 div.sk-item::before, #sk-container-id-3 div.sk-parallel-item::before {content: \"\";position: absolute;border-left: 1px solid gray;box-sizing: border-box;top: 0;bottom: 0;left: 50%;z-index: -1;}#sk-container-id-3 div.sk-parallel-item {display: flex;flex-direction: column;z-index: 1;position: relative;background-color: white;}#sk-container-id-3 div.sk-parallel-item:first-child::after {align-self: flex-end;width: 50%;}#sk-container-id-3 div.sk-parallel-item:last-child::after {align-self: flex-start;width: 50%;}#sk-container-id-3 div.sk-parallel-item:only-child::after {width: 0;}#sk-container-id-3 div.sk-dashed-wrapped {border: 1px dashed gray;margin: 0 0.4em 0.5em 0.4em;box-sizing: border-box;padding-bottom: 0.4em;background-color: white;}#sk-container-id-3 div.sk-label label {font-family: monospace;font-weight: bold;display: inline-block;line-height: 1.2em;}#sk-container-id-3 div.sk-label-container {text-align: center;}#sk-container-id-3 div.sk-container {/* jupyter's `normalize.less` sets `[hidden] { display: none; }` but bootstrap.min.css set `[hidden] { display: none !important; }` so we also need the `!important` here to be able to override the default hidden behavior on the sphinx rendered scikit-learn.org. See: https://github.com/scikit-learn/scikit-learn/issues/21755 */display: inline-block !important;position: relative;}#sk-container-id-3 div.sk-text-repr-fallback {display: none;}</style><div id=\"sk-container-id-3\" class=\"sk-top-container\"><div class=\"sk-text-repr-fallback\"><pre>GaussianNB()</pre><b>In a Jupyter environment, please rerun this cell to show the HTML representation or trust the notebook. <br />On GitHub, the HTML representation is unable to render, please try loading this page with nbviewer.org.</b></div><div class=\"sk-container\" hidden><div class=\"sk-item\"><div class=\"sk-estimator sk-toggleable\"><input class=\"sk-toggleable__control sk-hidden--visually\" id=\"sk-estimator-id-3\" type=\"checkbox\" checked><label for=\"sk-estimator-id-3\" class=\"sk-toggleable__label sk-toggleable__label-arrow\">GaussianNB</label><div class=\"sk-toggleable__content\"><pre>GaussianNB()</pre></div></div></div></div></div>"
      ],
      "text/plain": [
       "GaussianNB()"
      ]
     },
     "execution_count": 120,
     "metadata": {},
     "output_type": "execute_result"
    }
   ],
   "source": [
    "gnb.fit(X, Y)"
   ]
  },
  {
   "cell_type": "code",
   "execution_count": 121,
   "id": "bcf1f987-c0de-4971-8a3d-31171d5d25ff",
   "metadata": {},
   "outputs": [
    {
     "data": {
      "text/plain": [
       "0.9415"
      ]
     },
     "execution_count": 121,
     "metadata": {},
     "output_type": "execute_result"
    }
   ],
   "source": [
    "gnb.score(X, Y)"
   ]
  },
  {
   "cell_type": "code",
   "execution_count": 122,
   "id": "709017e0-a4ac-4c32-8c4b-e009c1546d2a",
   "metadata": {},
   "outputs": [],
   "source": [
    "ypred = gnb.predict(X)"
   ]
  },
  {
   "cell_type": "code",
   "execution_count": 123,
   "id": "ccab70f1-74f9-4797-8a3d-744886fba1c6",
   "metadata": {},
   "outputs": [
    {
     "name": "stdout",
     "output_type": "stream",
     "text": [
      "[1 1 0 ... 0 0 1]\n"
     ]
    }
   ],
   "source": [
    "print(ypred)"
   ]
  },
  {
   "cell_type": "code",
   "execution_count": 124,
   "id": "d6fbcb2d-1f7e-44c9-851c-235bb26326f6",
   "metadata": {},
   "outputs": [
    {
     "name": "stdout",
     "output_type": "stream",
     "text": [
      "[1 1 0 ... 0 0 1]\n"
     ]
    }
   ],
   "source": [
    "print(Y)"
   ]
  },
  {
   "cell_type": "code",
   "execution_count": 125,
   "id": "9aa381dc-cb68-4100-9b3e-e937e6613721",
   "metadata": {},
   "outputs": [
    {
     "name": "stdout",
     "output_type": "stream",
     "text": [
      "94.15\n"
     ]
    }
   ],
   "source": [
    "import numpy as np\n",
    "\n",
    "accuracy=(np.sum(ypred == Y)/ X.shape[0])*100\n",
    "print(accuracy)"
   ]
  },
  {
   "cell_type": "markdown",
   "id": "027178ce-af3b-4eb6-a489-b698c05b58c4",
   "metadata": {},
   "source": [
    "### Built Confusion Martix"
   ]
  },
  {
   "cell_type": "code",
   "execution_count": 126,
   "id": "96c35a90-25f7-43e1-b3e1-a4e2d73e10ff",
   "metadata": {},
   "outputs": [],
   "source": [
    "from sklearn.metrics import confusion_matrix"
   ]
  },
  {
   "cell_type": "code",
   "execution_count": 127,
   "id": "d78aaefc-8415-4d32-951a-751731dfea91",
   "metadata": {},
   "outputs": [],
   "source": [
    "cnf_matrix = confusion_matrix(Y, ypred)\n",
    "#cnf_matrix take to parameters actual value of Y and predicted value of y"
   ]
  },
  {
   "cell_type": "code",
   "execution_count": 128,
   "id": "0e9080ae-855a-463c-ac52-ce77fefa51dc",
   "metadata": {},
   "outputs": [
    {
     "name": "stdout",
     "output_type": "stream",
     "text": [
      "[[925  79]\n",
      " [ 38 958]]\n"
     ]
    }
   ],
   "source": [
    "print(cnf_matrix) # 925-TP , 958-TN , 79 - FP, 38 -FN"
   ]
  },
  {
   "cell_type": "markdown",
   "id": "e4c64cfc-0cd6-4d14-8406-cf03b60c0187",
   "metadata": {},
   "source": [
    "### Visualize Confusion Matrix:"
   ]
  },
  {
   "cell_type": "code",
   "execution_count": 129,
   "id": "dea5b437-a1b7-4523-8af4-2b41b27e134f",
   "metadata": {},
   "outputs": [],
   "source": [
    "import itertools\n",
    "def plot_confusion_matrix(cm, classes,\n",
    "                          normalize=False,\n",
    "                          title='Confusion matrix',\n",
    "                          cmap=plt.cm.Blues):\n",
    "    \"\"\"\n",
    "    This function prints and plots the confusion matrix.\n",
    "    Normalization can be applied by setting `normalize=True`.\n",
    "    \"\"\"\n",
    "    if normalize:\n",
    "        cm = cm.astype('float') / cm.sum(axis=1)[:, np.newaxis]\n",
    "        print(\"Normalized confusion matrix\")\n",
    "    else:\n",
    "        print('Confusion matrix, without normalization')\n",
    "\n",
    "    print(cm)\n",
    "\n",
    "    plt.imshow(cm, interpolation='nearest', cmap=cmap)\n",
    "    plt.title(title)\n",
    "    plt.colorbar()\n",
    "    tick_marks = np.arange(len(classes))\n",
    "    plt.xticks(tick_marks, classes, rotation=45)\n",
    "    plt.yticks(tick_marks, classes)\n",
    "\n",
    "    fmt = '.2f' if normalize else 'd'\n",
    "    thresh = cm.max() / 2.\n",
    "    for i, j in itertools.product(range(cm.shape[0]), range(cm.shape[1])):\n",
    "        plt.text(j, i, format(cm[i, j], fmt),\n",
    "                 horizontalalignment=\"center\",\n",
    "                 color=\"white\" if cm[i, j] > thresh else \"black\")\n",
    "\n",
    "    plt.ylabel('True label')\n",
    "    plt.xlabel('Predicted label')\n",
    "    plt.tight_layout()"
   ]
  },
  {
   "cell_type": "code",
   "execution_count": 130,
   "id": "ca98b4e8-ea28-4c1b-b17a-742a39df3fc0",
   "metadata": {},
   "outputs": [
    {
     "name": "stdout",
     "output_type": "stream",
     "text": [
      "Confusion matrix, without normalization\n",
      "[[925  79]\n",
      " [ 38 958]]\n"
     ]
    },
    {
     "data": {
      "image/png": "[encoded data removed]",
      "text/plain": [
       "<Figure size 640x480 with 2 Axes>"
      ]
     },
     "metadata": {},
     "output_type": "display_data"
    }
   ],
   "source": [
    "plot_confusion_matrix(cnf_matrix, [0,1], normalize = False, title='Confusion matrix')"
   ]
  },
  {
   "cell_type": "code",
   "execution_count": 109,
   "id": "a59acb24-bc57-4273-bb67-42badd92f0a6",
   "metadata": {},
   "outputs": [],
   "source": [
    "from sklearn.metrics import confusion_matrix\n",
    "from sklearn.naive_bayes import MultinomialNB"
   ]
  },
  {
   "cell_type": "code",
   "execution_count": 131,
   "id": "82a602c4-abee-40c2-ab80-0966786f9fe0",
   "metadata": {},
   "outputs": [],
   "source": [
    "mnb = MultinomialNB()"
   ]
  },
  {
   "cell_type": "code",
   "execution_count": 132,
   "id": "8dbd64c6-98b4-4cc5-b111-696f41e3db34",
   "metadata": {},
   "outputs": [
    {
     "data": {
      "text/html": [
       "<style>#sk-container-id-4 {color: black;background-color: white;}#sk-container-id-4 pre{padding: 0;}#sk-container-id-4 div.sk-toggleable {background-color: white;}#sk-container-id-4 label.sk-toggleable__label {cursor: pointer;display: block;width: 100%;margin-bottom: 0;padding: 0.3em;box-sizing: border-box;text-align: center;}#sk-container-id-4 label.sk-toggleable__label-arrow:before {content: \"▸\";float: left;margin-right: 0.25em;color: #696969;}#sk-container-id-4 label.sk-toggleable__label-arrow:hover:before {color: black;}#sk-container-id-4 div.sk-estimator:hover label.sk-toggleable__label-arrow:before {color: black;}#sk-container-id-4 div.sk-toggleable__content {max-height: 0;max-width: 0;overflow: hidden;text-align: left;background-color: #f0f8ff;}#sk-container-id-4 div.sk-toggleable__content pre {margin: 0.2em;color: black;border-radius: 0.25em;background-color: #f0f8ff;}#sk-container-id-4 input.sk-toggleable__control:checked~div.sk-toggleable__content {max-height: 200px;max-width: 100%;overflow: auto;}#sk-container-id-4 input.sk-toggleable__control:checked~label.sk-toggleable__label-arrow:before {content: \"▾\";}#sk-container-id-4 div.sk-estimator input.sk-toggleable__control:checked~label.sk-toggleable__label {background-color: #d4ebff;}#sk-container-id-4 div.sk-label input.sk-toggleable__control:checked~label.sk-toggleable__label {background-color: #d4ebff;}#sk-container-id-4 input.sk-hidden--visually {border: 0;clip: rect(1px 1px 1px 1px);clip: rect(1px, 1px, 1px, 1px);height: 1px;margin: -1px;overflow: hidden;padding: 0;position: absolute;width: 1px;}#sk-container-id-4 div.sk-estimator {font-family: monospace;background-color: #f0f8ff;border: 1px dotted black;border-radius: 0.25em;box-sizing: border-box;margin-bottom: 0.5em;}#sk-container-id-4 div.sk-estimator:hover {background-color: #d4ebff;}#sk-container-id-4 div.sk-parallel-item::after {content: \"\";width: 100%;border-bottom: 1px solid gray;flex-grow: 1;}#sk-container-id-4 div.sk-label:hover label.sk-toggleable__label {background-color: #d4ebff;}#sk-container-id-4 div.sk-serial::before {content: \"\";position: absolute;border-left: 1px solid gray;box-sizing: border-box;top: 0;bottom: 0;left: 50%;z-index: 0;}#sk-container-id-4 div.sk-serial {display: flex;flex-direction: column;align-items: center;background-color: white;padding-right: 0.2em;padding-left: 0.2em;position: relative;}#sk-container-id-4 div.sk-item {position: relative;z-index: 1;}#sk-container-id-4 div.sk-parallel {display: flex;align-items: stretch;justify-content: center;background-color: white;position: relative;}#sk-container-id-4 div.sk-item::before, #sk-container-id-4 div.sk-parallel-item::before {content: \"\";position: absolute;border-left: 1px solid gray;box-sizing: border-box;top: 0;bottom: 0;left: 50%;z-index: -1;}#sk-container-id-4 div.sk-parallel-item {display: flex;flex-direction: column;z-index: 1;position: relative;background-color: white;}#sk-container-id-4 div.sk-parallel-item:first-child::after {align-self: flex-end;width: 50%;}#sk-container-id-4 div.sk-parallel-item:last-child::after {align-self: flex-start;width: 50%;}#sk-container-id-4 div.sk-parallel-item:only-child::after {width: 0;}#sk-container-id-4 div.sk-dashed-wrapped {border: 1px dashed gray;margin: 0 0.4em 0.5em 0.4em;box-sizing: border-box;padding-bottom: 0.4em;background-color: white;}#sk-container-id-4 div.sk-label label {font-family: monospace;font-weight: bold;display: inline-block;line-height: 1.2em;}#sk-container-id-4 div.sk-label-container {text-align: center;}#sk-container-id-4 div.sk-container {/* jupyter's `normalize.less` sets `[hidden] { display: none; }` but bootstrap.min.css set `[hidden] { display: none !important; }` so we also need the `!important` here to be able to override the default hidden behavior on the sphinx rendered scikit-learn.org. See: https://github.com/scikit-learn/scikit-learn/issues/21755 */display: inline-block !important;position: relative;}#sk-container-id-4 div.sk-text-repr-fallback {display: none;}</style><div id=\"sk-container-id-4\" class=\"sk-top-container\"><div class=\"sk-text-repr-fallback\"><pre>MultinomialNB()</pre><b>In a Jupyter environment, please rerun this cell to show the HTML representation or trust the notebook. <br />On GitHub, the HTML representation is unable to render, please try loading this page with nbviewer.org.</b></div><div class=\"sk-container\" hidden><div class=\"sk-item\"><div class=\"sk-estimator sk-toggleable\"><input class=\"sk-toggleable__control sk-hidden--visually\" id=\"sk-estimator-id-4\" type=\"checkbox\" checked><label for=\"sk-estimator-id-4\" class=\"sk-toggleable__label sk-toggleable__label-arrow\">MultinomialNB</label><div class=\"sk-toggleable__content\"><pre>MultinomialNB()</pre></div></div></div></div></div>"
      ],
      "text/plain": [
       "MultinomialNB()"
      ]
     },
     "execution_count": 132,
     "metadata": {},
     "output_type": "execute_result"
    }
   ],
   "source": [
    "mnb.fit(x_test, y_test)"
   ]
  },
  {
   "cell_type": "code",
   "execution_count": 142,
   "id": "89b0a605-84c0-4f07-980f-8a3198e50a52",
   "metadata": {},
   "outputs": [],
   "source": [
    "Y_mnb_predicted = mnb.predict(x_test)\n"
   ]
  },
  {
   "cell_type": "code",
   "execution_count": 143,
   "id": "5dfc468a-0d84-41d0-a27f-23a9cd819f17",
   "metadata": {},
   "outputs": [],
   "source": [
    "cnf_matrix = confusion_matrix(y_test, Y_mnb_predicted)"
   ]
  },
  {
   "cell_type": "code",
   "execution_count": 144,
   "id": "84b7c959-f5e0-4742-9924-09c9b5f0b684",
   "metadata": {},
   "outputs": [
    {
     "name": "stdout",
     "output_type": "stream",
     "text": [
      "[[788  68]\n",
      " [263 506]]\n"
     ]
    }
   ],
   "source": [
    "print(cnf_matrix)"
   ]
  },
  {
   "cell_type": "code",
   "execution_count": 147,
   "id": "e3dd1c12-b683-4cb4-9288-1cd6b4acc103",
   "metadata": {},
   "outputs": [],
   "source": [
    "import numpy as np"
   ]
  },
  {
   "cell_type": "code",
   "execution_count": 151,
   "id": "61e8c84c-1544-4f63-b33a-dfe6e1d499bb",
   "metadata": {},
   "outputs": [],
   "source": [
    "classes_labels = np.arange(2)"
   ]
  },
  {
   "cell_type": "markdown",
   "id": "cb786473-1575-4fde-a8a8-382695c96853",
   "metadata": {},
   "source": [
    "- Diagonal entries represents # no. of elements where Predicted Class = Actual class."
   ]
  },
  {
   "cell_type": "code",
   "execution_count": 153,
   "id": "2fd72fe3-73e1-4080-854c-a38eac45475e",
   "metadata": {},
   "outputs": [
    {
     "name": "stdout",
     "output_type": "stream",
     "text": [
      "Confusion matrix, without normalization\n",
      "[[788  68]\n",
      " [263 506]]\n"
     ]
    },
    {
     "data": {
      "image/png": "[encoded data removed]",
      "text/plain": [
       "<Figure size 640x480 with 2 Axes>"
      ]
     },
     "metadata": {},
     "output_type": "display_data"
    }
   ],
   "source": [
    "plot_confusion_matrix(cnf_matrix, classes =classes_labels,\n",
    "                          normalize=False,\n",
    "                          title='Confusion matrix',\n",
    "                          cmap=plt.cm.Accent)"
   ]
  },
  {
   "cell_type": "code",
   "execution_count": null,
   "id": "25e868ed-83c9-443d-aae4-383b6d5110c5",
   "metadata": {},
   "outputs": [],
   "source": []
  },
  {
   "cell_type": "markdown",
   "id": "144a283d-9572-4d9e-a159-31e03426fe74",
   "metadata": {},
   "source": [
    "### Naive Bayes on MNIST Dataset"
   ]
  },
  {
   "cell_type": "code",
   "execution_count": null,
   "id": "5016e37c-0cdf-464e-b2eb-87f02eb12205",
   "metadata": {},
   "outputs": [],
   "source": [
    "from sklearn.datasets import load_digits\n",
    "from sklearn.model_selection import cross_val_score\n",
    "import numpy as np\n",
    "import matplotlib.pyplot as plt"
   ]
  },
  {
   "cell_type": "markdown",
   "id": "75cc23d1-5650-4c72-ac17-89d9a352529a",
   "metadata": {},
   "source": [
    "### Data preparation "
   ]
  },
  {
   "cell_type": "code",
   "execution_count": null,
   "id": "c84edece-d087-4902-a902-4f9b8eb3ba68",
   "metadata": {},
   "outputs": [],
   "source": [
    "digits = load_digits()"
   ]
  },
  {
   "cell_type": "code",
   "execution_count": null,
   "id": "ec6b9ddc-2f42-4d94-b241-9facd8bc23d8",
   "metadata": {},
   "outputs": [],
   "source": [
    "X = digits.data"
   ]
  },
  {
   "cell_type": "code",
   "execution_count": null,
   "id": "9afbd16d-a268-4626-9e0a-24b90db22472",
   "metadata": {},
   "outputs": [],
   "source": [
    "Y = digits.target"
   ]
  },
  {
   "cell_type": "code",
   "execution_count": null,
   "id": "2dcea0d0-615f-4a8d-a3f0-bdfe2c6e2f0c",
   "metadata": {},
   "outputs": [],
   "source": [
    "print(X.shape, Y.shape)"
   ]
  },
  {
   "cell_type": "code",
   "execution_count": null,
   "id": "cc9e2f67-22bd-4e34-87e1-3fcaeea28a83",
   "metadata": {},
   "outputs": [],
   "source": [
    "plt.imshow(X[0].reshape(8, 8), cmap = \"grey\")\n",
    "plt.show()"
   ]
  },
  {
   "cell_type": "code",
   "execution_count": null,
   "id": "43ec1111-f6f0-4098-b633-fb0d7d2142e2",
   "metadata": {},
   "outputs": [],
   "source": [
    "print(Y[1])"
   ]
  },
  {
   "cell_type": "code",
   "execution_count": null,
   "id": "9fdda560-a4f6-4bba-bfce-e19552921abe",
   "metadata": {},
   "outputs": [],
   "source": [
    "print(X[0])# \n",
    "#discrete values\n",
    "# 0-255 for RGB,\n",
    "#but in gray scale 0 to 15-there are 16 level of grey , where 0 is black and \n",
    "# 15 is white"
   ]
  },
  {
   "cell_type": "markdown",
   "id": "adc2a114-0316-4d6d-a15a-cd1aa8419175",
   "metadata": {},
   "source": [
    "### Train Model"
   ]
  },
  {
   "cell_type": "code",
   "execution_count": null,
   "id": "c1a61ff9-90ca-422e-b2fe-9e4cd74e5092",
   "metadata": {},
   "outputs": [],
   "source": [
    "from sklearn.naive_bayes import GaussianNB, MultinomialNB"
   ]
  },
  {
   "cell_type": "code",
   "execution_count": null,
   "id": "e230049a-0d81-479b-84ce-14814629eb5c",
   "metadata": {},
   "outputs": [],
   "source": [
    "mnb = MultinomialNB()\n",
    "gnb = GaussianNB()"
   ]
  },
  {
   "cell_type": "code",
   "execution_count": null,
   "id": "96b1aa70-c509-4ee2-8182-5eef427e7c6a",
   "metadata": {},
   "outputs": [],
   "source": [
    "mnb.fit(X, Y)\n",
    "gnb.fit(X, Y)"
   ]
  },
  {
   "cell_type": "code",
   "execution_count": null,
   "id": "32d1b83f-96f8-4583-a3f6-82ad8cd47487",
   "metadata": {},
   "outputs": [],
   "source": [
    "print(mnb.score(X,Y))\n",
    "print(gnb.score(X,Y))"
   ]
  },
  {
   "cell_type": "code",
   "execution_count": null,
   "id": "20a3a2b7-e20a-4538-9215-43ac37576e5e",
   "metadata": {},
   "outputs": [],
   "source": [
    "cross_val_score(gnb, X,Y, scoring = \"accuracy\", cv = 10).mean()"
   ]
  },
  {
   "cell_type": "code",
   "execution_count": null,
   "id": "0d928e86-240d-44f5-97de-85538b199eed",
   "metadata": {},
   "outputs": [],
   "source": [
    "cross_val_score(mnb, X,Y, scoring = \"accuracy\", cv = 10).mean()"
   ]
  },
  {
   "cell_type": "markdown",
   "id": "f89ed75e-1f1e-49ad-a459-c15199c92144",
   "metadata": {},
   "source": [
    "#### This is because each feature is discrete valued hence mnb gives better result as xi has discrete features , but gaussian consider"
   ]
  },
  {
   "cell_type": "code",
   "execution_count": null,
   "id": "7131c004-8973-4fae-adbc-904e9165f25a",
   "metadata": {},
   "outputs": [],
   "source": []
  }
 ],
 "metadata": {
  "kernelspec": {
   "display_name": "Python 3 (ipykernel)",
   "language": "python",
   "name": "python3"
  },
  "language_info": {
   "codemirror_mode": {
    "name": "ipython",
    "version": 3
   },
   "file_extension": ".py",
   "mimetype": "text/x-python",
   "name": "python",
   "nbconvert_exporter": "python",
   "pygments_lexer": "ipython3",
   "version": "3.11.7"
  }
 },
 "nbformat": 4,
 "nbformat_minor": 5
}
