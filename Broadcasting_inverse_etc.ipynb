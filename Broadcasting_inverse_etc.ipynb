{
 "cells": [
  {
   "cell_type": "markdown",
   "id": "0dabb211-ab15-47bd-80cf-3751b6679dbb",
   "metadata": {},
   "source": [
    "### Broadcasting\n",
    "- You can add scalar to a vector  and numpy will add it each element in the vector\n",
    "- Similarly we can add vector to a matrix "
   ]
  },
  {
   "cell_type": "code",
   "execution_count": 4,
   "id": "4462205b-f8a3-40c9-a726-d12990ae8681",
   "metadata": {},
   "outputs": [
    {
     "name": "stdout",
     "output_type": "stream",
     "text": [
      "[5 6 7 8]\n"
     ]
    }
   ],
   "source": [
    "import numpy as np\n",
    "x = np.array([1,2,3,4])\n",
    "print(x+4) #broadcasting "
   ]
  },
  {
   "cell_type": "code",
   "execution_count": 5,
   "id": "c0cc8f75-e61c-400c-91d1-b15c209e6f2b",
   "metadata": {},
   "outputs": [
    {
     "ename": "TypeError",
     "evalue": "can only concatenate list (not \"int\") to list",
     "output_type": "error",
     "traceback": [
      "\u001b[0;31m---------------------------------------------------------------------------\u001b[0m",
      "\u001b[0;31mTypeError\u001b[0m                                 Traceback (most recent call last)",
      "Cell \u001b[0;32mIn[5], line 2\u001b[0m\n\u001b[1;32m      1\u001b[0m a \u001b[38;5;241m=\u001b[39m [\u001b[38;5;241m1\u001b[39m,\u001b[38;5;241m2\u001b[39m,\u001b[38;5;241m3\u001b[39m,\u001b[38;5;241m4\u001b[39m]\u001b[38;5;66;03m# lsit can't be added like that\u001b[39;00m\n\u001b[0;32m----> 2\u001b[0m \u001b[38;5;28mprint\u001b[39m(a\u001b[38;5;241m+\u001b[39m\u001b[38;5;241m4\u001b[39m)\n",
      "\u001b[0;31mTypeError\u001b[0m: can only concatenate list (not \"int\") to list"
     ]
    }
   ],
   "source": [
    "a = [1,2,3,4]# lsit can't be added like that\n",
    "print(a+4)"
   ]
  },
  {
   "cell_type": "code",
   "execution_count": 6,
   "id": "a01151e3-076b-4cf8-803a-b48312cabc6c",
   "metadata": {},
   "outputs": [
    {
     "name": "stdout",
     "output_type": "stream",
     "text": [
      "[[10 20 30 40]\n",
      " [60 70 80 90]]\n",
      "[[11 22 33 44]\n",
      " [61 72 83 94]]\n"
     ]
    }
   ],
   "source": [
    "matrix = np.array([[10,20,30,40],[60,70,80,90]])\n",
    "print(matrix)\n",
    "print(matrix + x)#matrix and vector can be added here .# each row added with the \n",
    "#vector 10+ 1, 20+1 ..., 60+1 , 70+1 .."
   ]
  },
  {
   "cell_type": "markdown",
   "id": "05c3baa5-03b9-4b92-b334-0f53a650f10b",
   "metadata": {},
   "source": [
    "### Matrix Multiplication\n",
    "- also referred as dot product "
   ]
  },
  {
   "cell_type": "markdown",
   "id": "a9f710f9-bedd-46c4-96f0-7ece3c673522",
   "metadata": {},
   "source": [
    "### Element - wise Multiplication"
   ]
  },
  {
   "cell_type": "code",
   "execution_count": 7,
   "id": "1471f039-08ef-4102-b762-c9f65377894a",
   "metadata": {},
   "outputs": [
    {
     "name": "stdout",
     "output_type": "stream",
     "text": [
      "(2, 2) 2\n"
     ]
    }
   ],
   "source": [
    "A = np.array([[1, 2], [3, 4]])\n",
    "print(A.shape, A.ndim)"
   ]
  },
  {
   "cell_type": "code",
   "execution_count": 8,
   "id": "9504e457-0331-4212-ac09-1a45d2e38119",
   "metadata": {},
   "outputs": [],
   "source": [
    "B = np.array([[0,2],[3,2]])"
   ]
  },
  {
   "cell_type": "code",
   "execution_count": 9,
   "id": "7ffafa7f-689a-4273-aadb-2fd2e6d1afda",
   "metadata": {},
   "outputs": [
    {
     "data": {
      "text/plain": [
       "array([[0, 4],\n",
       "       [9, 8]])"
      ]
     },
     "execution_count": 9,
     "metadata": {},
     "output_type": "execute_result"
    }
   ],
   "source": [
    "A*B # a11*b11 , a22*b22, a12*b12, a21*b21"
   ]
  },
  {
   "cell_type": "code",
   "execution_count": 10,
   "id": "1c8ad9b7-ac69-4b05-a3ba-9bdd8a235039",
   "metadata": {},
   "outputs": [
    {
     "data": {
      "text/plain": [
       "array([[ 6,  6],\n",
       "       [12, 14]])"
      ]
     },
     "execution_count": 10,
     "metadata": {},
     "output_type": "execute_result"
    }
   ],
   "source": [
    "np.dot(A,B) # matrix multiplication "
   ]
  },
  {
   "cell_type": "markdown",
   "id": "7679b57a-a24a-45c6-a6dc-f3f704f5adad",
   "metadata": {},
   "source": [
    "### Norms"
   ]
  },
  {
   "cell_type": "code",
   "execution_count": 11,
   "id": "d806c96d-7c5b-4a31-8c4f-537d12fe0762",
   "metadata": {},
   "outputs": [
    {
     "data": {
      "text/plain": [
       "array([1, 2, 3])"
      ]
     },
     "execution_count": 11,
     "metadata": {},
     "output_type": "execute_result"
    }
   ],
   "source": [
    "A = np.array([1,2,3])\n",
    "A"
   ]
  },
  {
   "cell_type": "code",
   "execution_count": 12,
   "id": "f832b58b-41bf-4949-b0cf-7b7de3d5e246",
   "metadata": {},
   "outputs": [
    {
     "data": {
      "text/plain": [
       "14"
      ]
     },
     "execution_count": 12,
     "metadata": {},
     "output_type": "execute_result"
    }
   ],
   "source": [
    "np.dot(A, A.T) #l2 norm square, near the origin the derivative is slow for l2 norm"
   ]
  },
  {
   "cell_type": "markdown",
   "id": "5bad1b7c-0995-4b6a-9d0e-9c2ff95223d1",
   "metadata": {},
   "source": [
    "### L1 norm = abosolute values of the elements"
   ]
  },
  {
   "cell_type": "code",
   "execution_count": 16,
   "id": "5daafce5-34db-4e71-a491-839422ffe1a8",
   "metadata": {},
   "outputs": [
    {
     "name": "stdout",
     "output_type": "stream",
     "text": [
      "145.0\n",
      "12.04\n"
     ]
    }
   ],
   "source": [
    "x = np.array([-6,3,10])\n",
    "lp2 = np.linalg.norm(x) #by default l2 norm\n",
    "\n",
    "print(lp2*lp2)\n",
    "print(\"%.2f\" %lp2)"
   ]
  },
  {
   "cell_type": "code",
   "execution_count": 56,
   "id": "ce135f57-c895-4376-8b9c-24a64c90b63b",
   "metadata": {},
   "outputs": [
    {
     "data": {
      "text/plain": [
       "\u001b[0;31mSignature:\u001b[0m       \u001b[0mnp\u001b[0m\u001b[0;34m.\u001b[0m\u001b[0mlinalg\u001b[0m\u001b[0;34m.\u001b[0m\u001b[0mnorm\u001b[0m\u001b[0;34m(\u001b[0m\u001b[0mx\u001b[0m\u001b[0;34m,\u001b[0m \u001b[0mord\u001b[0m\u001b[0;34m=\u001b[0m\u001b[0;32mNone\u001b[0m\u001b[0;34m,\u001b[0m \u001b[0maxis\u001b[0m\u001b[0;34m=\u001b[0m\u001b[0;32mNone\u001b[0m\u001b[0;34m,\u001b[0m \u001b[0mkeepdims\u001b[0m\u001b[0;34m=\u001b[0m\u001b[0;32mFalse\u001b[0m\u001b[0;34m)\u001b[0m\u001b[0;34m\u001b[0m\u001b[0;34m\u001b[0m\u001b[0m\n",
       "\u001b[0;31mCall signature:\u001b[0m  \u001b[0mnp\u001b[0m\u001b[0;34m.\u001b[0m\u001b[0mlinalg\u001b[0m\u001b[0;34m.\u001b[0m\u001b[0mnorm\u001b[0m\u001b[0;34m(\u001b[0m\u001b[0;34m*\u001b[0m\u001b[0margs\u001b[0m\u001b[0;34m,\u001b[0m \u001b[0;34m**\u001b[0m\u001b[0mkwargs\u001b[0m\u001b[0;34m)\u001b[0m\u001b[0;34m\u001b[0m\u001b[0;34m\u001b[0m\u001b[0m\n",
       "\u001b[0;31mType:\u001b[0m            _ArrayFunctionDispatcher\n",
       "\u001b[0;31mString form:\u001b[0m     <function norm at 0x1055360c0>\n",
       "\u001b[0;31mFile:\u001b[0m            /opt/anaconda3/lib/python3.11/site-packages/numpy/linalg/linalg.py\n",
       "\u001b[0;31mDocstring:\u001b[0m      \n",
       "Matrix or vector norm.\n",
       "\n",
       "This function is able to return one of eight different matrix norms,\n",
       "or one of an infinite number of vector norms (described below), depending\n",
       "on the value of the ``ord`` parameter.\n",
       "\n",
       "Parameters\n",
       "----------\n",
       "x : array_like\n",
       "    Input array.  If `axis` is None, `x` must be 1-D or 2-D, unless `ord`\n",
       "    is None. If both `axis` and `ord` are None, the 2-norm of\n",
       "    ``x.ravel`` will be returned.\n",
       "ord : {non-zero int, inf, -inf, 'fro', 'nuc'}, optional\n",
       "    Order of the norm (see table under ``Notes``). inf means numpy's\n",
       "    `inf` object. The default is None.\n",
       "axis : {None, int, 2-tuple of ints}, optional.\n",
       "    If `axis` is an integer, it specifies the axis of `x` along which to\n",
       "    compute the vector norms.  If `axis` is a 2-tuple, it specifies the\n",
       "    axes that hold 2-D matrices, and the matrix norms of these matrices\n",
       "    are computed.  If `axis` is None then either a vector norm (when `x`\n",
       "    is 1-D) or a matrix norm (when `x` is 2-D) is returned. The default\n",
       "    is None.\n",
       "\n",
       "    .. versionadded:: 1.8.0\n",
       "\n",
       "keepdims : bool, optional\n",
       "    If this is set to True, the axes which are normed over are left in the\n",
       "    result as dimensions with size one.  With this option the result will\n",
       "    broadcast correctly against the original `x`.\n",
       "\n",
       "    .. versionadded:: 1.10.0\n",
       "\n",
       "Returns\n",
       "-------\n",
       "n : float or ndarray\n",
       "    Norm of the matrix or vector(s).\n",
       "\n",
       "See Also\n",
       "--------\n",
       "scipy.linalg.norm : Similar function in SciPy.\n",
       "\n",
       "Notes\n",
       "-----\n",
       "For values of ``ord < 1``, the result is, strictly speaking, not a\n",
       "mathematical 'norm', but it may still be useful for various numerical\n",
       "purposes.\n",
       "\n",
       "The following norms can be calculated:\n",
       "\n",
       "=====  ============================  ==========================\n",
       "ord    norm for matrices             norm for vectors\n",
       "=====  ============================  ==========================\n",
       "None   Frobenius norm                2-norm\n",
       "'fro'  Frobenius norm                --\n",
       "'nuc'  nuclear norm                  --\n",
       "inf    max(sum(abs(x), axis=1))      max(abs(x))\n",
       "-inf   min(sum(abs(x), axis=1))      min(abs(x))\n",
       "0      --                            sum(x != 0)\n",
       "1      max(sum(abs(x), axis=0))      as below\n",
       "-1     min(sum(abs(x), axis=0))      as below\n",
       "2      2-norm (largest sing. value)  as below\n",
       "-2     smallest singular value       as below\n",
       "other  --                            sum(abs(x)**ord)**(1./ord)\n",
       "=====  ============================  ==========================\n",
       "\n",
       "The Frobenius norm is given by [1]_:\n",
       "\n",
       "    :math:`||A||_F = [\\sum_{i,j} abs(a_{i,j})^2]^{1/2}`\n",
       "\n",
       "The nuclear norm is the sum of the singular values.\n",
       "\n",
       "Both the Frobenius and nuclear norm orders are only defined for\n",
       "matrices and raise a ValueError when ``x.ndim != 2``.\n",
       "\n",
       "References\n",
       "----------\n",
       ".. [1] G. H. Golub and C. F. Van Loan, *Matrix Computations*,\n",
       "       Baltimore, MD, Johns Hopkins University Press, 1985, pg. 15\n",
       "\n",
       "Examples\n",
       "--------\n",
       ">>> from numpy import linalg as LA\n",
       ">>> a = np.arange(9) - 4\n",
       ">>> a\n",
       "array([-4, -3, -2, ...,  2,  3,  4])\n",
       ">>> b = a.reshape((3, 3))\n",
       ">>> b\n",
       "array([[-4, -3, -2],\n",
       "       [-1,  0,  1],\n",
       "       [ 2,  3,  4]])\n",
       "\n",
       ">>> LA.norm(a)\n",
       "7.745966692414834\n",
       ">>> LA.norm(b)\n",
       "7.745966692414834\n",
       ">>> LA.norm(b, 'fro')\n",
       "7.745966692414834\n",
       ">>> LA.norm(a, np.inf)\n",
       "4.0\n",
       ">>> LA.norm(b, np.inf)\n",
       "9.0\n",
       ">>> LA.norm(a, -np.inf)\n",
       "0.0\n",
       ">>> LA.norm(b, -np.inf)\n",
       "2.0\n",
       "\n",
       ">>> LA.norm(a, 1)\n",
       "20.0\n",
       ">>> LA.norm(b, 1)\n",
       "7.0\n",
       ">>> LA.norm(a, -1)\n",
       "-4.6566128774142013e-010\n",
       ">>> LA.norm(b, -1)\n",
       "6.0\n",
       ">>> LA.norm(a, 2)\n",
       "7.745966692414834\n",
       ">>> LA.norm(b, 2)\n",
       "7.3484692283495345\n",
       "\n",
       ">>> LA.norm(a, -2)\n",
       "0.0\n",
       ">>> LA.norm(b, -2)\n",
       "1.8570331885190563e-016 # may vary\n",
       ">>> LA.norm(a, 3)\n",
       "5.8480354764257312 # may vary\n",
       ">>> LA.norm(a, -3)\n",
       "0.0\n",
       "\n",
       "Using the `axis` argument to compute vector norms:\n",
       "\n",
       ">>> c = np.array([[ 1, 2, 3],\n",
       "...               [-1, 1, 4]])\n",
       ">>> LA.norm(c, axis=0)\n",
       "array([ 1.41421356,  2.23606798,  5.        ])\n",
       ">>> LA.norm(c, axis=1)\n",
       "array([ 3.74165739,  4.24264069])\n",
       ">>> LA.norm(c, ord=1, axis=1)\n",
       "array([ 6.,  6.])\n",
       "\n",
       "Using the `axis` argument to compute matrix norms:\n",
       "\n",
       ">>> m = np.arange(8).reshape(2,2,2)\n",
       ">>> LA.norm(m, axis=(1,2))\n",
       "array([  3.74165739,  11.22497216])\n",
       ">>> LA.norm(m[0, :, :]), LA.norm(m[1, :, :])\n",
       "(3.7416573867739413, 11.224972160321824)\n",
       "\u001b[0;31mClass docstring:\u001b[0m\n",
       "Class to wrap functions with checks for __array_function__ overrides.\n",
       "\n",
       "All arguments are required, and can only be passed by position.\n",
       "\n",
       "Parameters\n",
       "----------\n",
       "dispatcher : function or None\n",
       "    The dispatcher function that returns a single sequence-like object\n",
       "    of all arguments relevant.  It must have the same signature (except\n",
       "    the default values) as the actual implementation.\n",
       "    If ``None``, this is a ``like=`` dispatcher and the\n",
       "    ``_ArrayFunctionDispatcher`` must be called with ``like`` as the\n",
       "    first (additional and positional) argument.\n",
       "implementation : function\n",
       "    Function that implements the operation on NumPy arrays without\n",
       "    overrides.  Arguments passed calling the ``_ArrayFunctionDispatcher``\n",
       "    will be forwarded to this (and the ``dispatcher``) as if using\n",
       "    ``*args, **kwargs``.\n",
       "\n",
       "Attributes\n",
       "----------\n",
       "_implementation : function\n",
       "    The original implementation passed in."
      ]
     },
     "metadata": {},
     "output_type": "display_data"
    }
   ],
   "source": [
    "lp1 = np.linalg.norm?"
   ]
  },
  {
   "cell_type": "code",
   "execution_count": 17,
   "id": "67c4a6b3-8b4d-4bf4-a14f-db0396729de5",
   "metadata": {},
   "outputs": [
    {
     "name": "stdout",
     "output_type": "stream",
     "text": [
      "19\n"
     ]
    }
   ],
   "source": [
    "lp1 = np.linalg.norm(x,ord = 1)\n",
    "print(int(lp1))"
   ]
  },
  {
   "cell_type": "code",
   "execution_count": 21,
   "id": "ea852dd8-37aa-46dd-912e-33d31f3014d9",
   "metadata": {},
   "outputs": [
    {
     "name": "stdout",
     "output_type": "stream",
     "text": [
      "12.04\n"
     ]
    }
   ],
   "source": [
    "lp2 = np.linalg.norm(x, ord = 2)\n",
    "print(\"%.2f\" % lp2)"
   ]
  },
  {
   "cell_type": "code",
   "execution_count": 22,
   "id": "131b000b-b3b4-4b8c-ab37-c6c0657c6293",
   "metadata": {},
   "outputs": [],
   "source": [
    "lp_infinty = np.linalg.norm(x, ord = np.inf)"
   ]
  },
  {
   "cell_type": "code",
   "execution_count": 23,
   "id": "9477ed6e-acfb-4f06-a2dc-1d679608346d",
   "metadata": {},
   "outputs": [
    {
     "name": "stdout",
     "output_type": "stream",
     "text": [
      "10.0\n"
     ]
    }
   ],
   "source": [
    "print(lp_infinty) # smallest values"
   ]
  },
  {
   "cell_type": "markdown",
   "id": "5cb3c5d1-a02a-44b2-9c2f-4e4817dd7ca4",
   "metadata": {},
   "source": [
    "### Norm of \n",
    "- || x + y|| <= ||x|| + ||y||\n",
    "- ||ax|| = a||x||\n"
   ]
  },
  {
   "cell_type": "markdown",
   "id": "49c33c78-bc9f-43d1-9534-c4dbc9fe176b",
   "metadata": {},
   "source": [
    "### Deteminants\n",
    "- array atleast be 2 dimensional "
   ]
  },
  {
   "cell_type": "code",
   "execution_count": 26,
   "id": "3c8bd89b-cf3f-4b62-a2ce-52d63c088f1c",
   "metadata": {},
   "outputs": [],
   "source": [
    "A = np.array([[1, 2], [3, 4]])"
   ]
  },
  {
   "cell_type": "code",
   "execution_count": 27,
   "id": "5c6a4a79-daea-4dc4-a2b2-8735e5e5e65e",
   "metadata": {},
   "outputs": [
    {
     "data": {
      "text/plain": [
       "-2"
      ]
     },
     "execution_count": 27,
     "metadata": {},
     "output_type": "execute_result"
    }
   ],
   "source": [
    "int(np.linalg.det(A))"
   ]
  },
  {
   "cell_type": "code",
   "execution_count": 28,
   "id": "62e06c3a-7103-4f4c-88ab-8176630dfe0d",
   "metadata": {},
   "outputs": [
    {
     "name": "stdout",
     "output_type": "stream",
     "text": [
      "[[-2.   1. ]\n",
      " [ 1.5 -0.5]]\n"
     ]
    }
   ],
   "source": [
    "A_inverse = np.linalg.inv(A)\n",
    "print(A_inverse)"
   ]
  },
  {
   "cell_type": "code",
   "execution_count": 29,
   "id": "0a117ef7-cd77-455c-b5bd-61ab53f48b17",
   "metadata": {},
   "outputs": [
    {
     "name": "stdout",
     "output_type": "stream",
     "text": [
      "[[1.0000000e+00 0.0000000e+00]\n",
      " [8.8817842e-16 1.0000000e+00]]\n"
     ]
    }
   ],
   "source": [
    "print(np.dot(A, A_inverse)) #AA-1 = Identity matrix"
   ]
  },
  {
   "cell_type": "markdown",
   "id": "53b2e307-29e0-4241-80a6-d5cd3280feb0",
   "metadata": {},
   "source": [
    "### Moore Penrose Inverse ( Psuedo Inverse)"
   ]
  },
  {
   "cell_type": "code",
   "execution_count": 30,
   "id": "07a5f0ef-bf2d-4eb2-bafe-4543a3eb9c33",
   "metadata": {},
   "outputs": [
    {
     "name": "stdout",
     "output_type": "stream",
     "text": [
      "[[-2.   1. ]\n",
      " [ 1.5 -0.5]]\n",
      "[[ 1.00000000e+00 -6.66133815e-16]\n",
      " [ 8.88178420e-16  1.00000000e+00]]\n"
     ]
    }
   ],
   "source": [
    "pseudo_inverse = np.linalg.pinv(A)\n",
    "print(pseudo_inverse)\n",
    "print(np.dot(A,pseudo_inverse))#it will work for both matrix,ie with determinant\n",
    "# zero also"
   ]
  },
  {
   "cell_type": "markdown",
   "id": "a4d619d1-577a-4019-8f74-468310f340fb",
   "metadata": {},
   "source": [
    "### Solve A System Of Equations"
   ]
  },
  {
   "cell_type": "code",
   "execution_count": 31,
   "id": "371e2113-5764-4563-8103-f12bd4ae75f7",
   "metadata": {},
   "outputs": [],
   "source": [
    "a = np.array([[2,3], [3,1]])\n",
    "b = np.array([8,5])"
   ]
  },
  {
   "cell_type": "code",
   "execution_count": 32,
   "id": "9563ed1f-9a16-4a38-af53-8a87809003d9",
   "metadata": {},
   "outputs": [
    {
     "data": {
      "text/plain": [
       "array([1., 2.])"
      ]
     },
     "execution_count": 32,
     "metadata": {},
     "output_type": "execute_result"
    }
   ],
   "source": [
    "np.linalg.solve(a,b)"
   ]
  },
  {
   "cell_type": "code",
   "execution_count": 34,
   "id": "52a4043e-6fd9-40b1-bd60-7a1894bf4b56",
   "metadata": {},
   "outputs": [],
   "source": [
    "a = np.array([[2 , -2, 1],[-1, 2, -1], [2, -4, 1]])"
   ]
  },
  {
   "cell_type": "code",
   "execution_count": 35,
   "id": "9139a6cb-0e25-45fd-8754-4d0531a51c72",
   "metadata": {},
   "outputs": [
    {
     "name": "stdout",
     "output_type": "stream",
     "text": [
      "2 (3, 3)\n",
      "[[ 2 -2  1]\n",
      " [-1  2 -1]\n",
      " [ 2 -4  1]]\n"
     ]
    }
   ],
   "source": [
    "print(a.ndim , a.shape)\n",
    "print(a)"
   ]
  },
  {
   "cell_type": "code",
   "execution_count": 36,
   "id": "72b2a254-b342-45ac-b0a4-d404381dfb5d",
   "metadata": {},
   "outputs": [
    {
     "data": {
      "text/plain": [
       "7.0"
      ]
     },
     "execution_count": 36,
     "metadata": {},
     "output_type": "execute_result"
    }
   ],
   "source": [
    "np.linalg.norm(a, ord = np.inf)"
   ]
  },
  {
   "cell_type": "code",
   "execution_count": 37,
   "id": "2cea2290-035a-45ac-825e-d991feae39c9",
   "metadata": {},
   "outputs": [
    {
     "data": {
      "text/plain": [
       "6.0"
      ]
     },
     "execution_count": 37,
     "metadata": {},
     "output_type": "execute_result"
    }
   ],
   "source": [
    "np.linalg.norm(a) #l2 norm is also called frobenius norm"
   ]
  },
  {
   "cell_type": "code",
   "execution_count": 84,
   "id": "da2c0e04-0dd5-45d3-b707-f3d7fc903feb",
   "metadata": {},
   "outputs": [],
   "source": [
    "A = np.array([[1, -3, 4], [-2, 10, -7], [0, 1, 0], [0, 0, 0]])\n",
    "B = np.array([[5, 0], [-2, 11], [-3, 12]])"
   ]
  },
  {
   "cell_type": "code",
   "execution_count": 85,
   "id": "38c30087-d606-4fc6-ad95-31732d19c3b2",
   "metadata": {},
   "outputs": [
    {
     "name": "stdout",
     "output_type": "stream",
     "text": [
      "2 2 (4, 3) (3, 2)\n"
     ]
    }
   ],
   "source": [
    "print(A.ndim, B.ndim, A.shape, B.shape)"
   ]
  },
  {
   "cell_type": "code",
   "execution_count": 86,
   "id": "9ff34798-57d8-4de8-b958-8cce4e10ab96",
   "metadata": {},
   "outputs": [
    {
     "data": {
      "text/plain": [
       "array([[-1, 15],\n",
       "       [-9, 26],\n",
       "       [-2, 11],\n",
       "       [ 0,  0]])"
      ]
     },
     "execution_count": 86,
     "metadata": {},
     "output_type": "execute_result"
    }
   ],
   "source": [
    "np.dot(A, B)"
   ]
  },
  {
   "cell_type": "code",
   "execution_count": null,
   "id": "02ae384b-c661-495c-8aa5-8b3a992f358e",
   "metadata": {},
   "outputs": [],
   "source": []
  }
 ],
 "metadata": {
  "kernelspec": {
   "display_name": "Python 3 (ipykernel)",
   "language": "python",
   "name": "python3"
  },
  "language_info": {
   "codemirror_mode": {
    "name": "ipython",
    "version": 3
   },
   "file_extension": ".py",
   "mimetype": "text/x-python",
   "name": "python",
   "nbconvert_exporter": "python",
   "pygments_lexer": "ipython3",
   "version": "3.11.7"
  }
 },
 "nbformat": 4,
 "nbformat_minor": 5
}
