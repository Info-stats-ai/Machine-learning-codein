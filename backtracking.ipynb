{
 "cells": [
  {
   "cell_type": "code",
   "execution_count": 21,
   "id": "fd631a29-1ee8-4104-a75c-cce0695dea52",
   "metadata": {},
   "outputs": [
    {
     "name": "stdin",
     "output_type": "stream",
     "text": [
      " 3\n"
     ]
    }
   ],
   "source": [
    "\n",
    "def genparanthesis(openB, closedB, n, s = []):\n",
    "    if (closedB == n):\n",
    "        print(s)\n",
    "        return\n",
    "    else:\n",
    "        if (openB > closedB):\n",
    "            s.append(\")\")\n",
    "            genparanthesis(openB, closedB+1, n, s = [])\n",
    "            s.pop() #backtracking\n",
    "        if (openB < n):\n",
    "            s.append('(')\n",
    "            genparanthesis(openB+1, closedB, n, s = [])\n",
    "            s.pop()\n",
    "    return\n",
    "n = int(input())            \n",
    "           "
   ]
  },
  {
   "cell_type": "code",
   "execution_count": 22,
   "id": "e2a68abb-3194-418a-b3ec-01ea9a1974b3",
   "metadata": {},
   "outputs": [
    {
     "name": "stdout",
     "output_type": "stream",
     "text": [
      "[]\n",
      "[]\n",
      "[]\n",
      "[]\n",
      "[]\n"
     ]
    }
   ],
   "source": [
    "genparanthesis(0,0,3)"
   ]
  },
  {
   "cell_type": "code",
   "execution_count": null,
   "id": "b4409df7-d2a1-4053-ade7-5e080a6fcf0c",
   "metadata": {},
   "outputs": [],
   "source": []
  }
 ],
 "metadata": {
  "kernelspec": {
   "display_name": "Python 3 (ipykernel)",
   "language": "python",
   "name": "python3"
  },
  "language_info": {
   "codemirror_mode": {
    "name": "ipython",
    "version": 3
   },
   "file_extension": ".py",
   "mimetype": "text/x-python",
   "name": "python",
   "nbconvert_exporter": "python",
   "pygments_lexer": "ipython3",
   "version": "3.11.7"
  }
 },
 "nbformat": 4,
 "nbformat_minor": 5
}
