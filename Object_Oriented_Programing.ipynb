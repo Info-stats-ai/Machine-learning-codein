{
 "cells": [
  {
   "cell_type": "markdown",
   "id": "0b32dc5d-1a78-4c33-a96b-c19ddec82d1f",
   "metadata": {},
   "source": [
    "OOPs"
   ]
  },
  {
   "cell_type": "markdown",
   "id": "2db8a4b5-fa3f-475b-8987-509eb898a767",
   "metadata": {},
   "source": [
    "Class:Nothing but a blue print 1)Encapsulation : combining all the attributes of common class. 2)abstraction :evaluate 3)Inheritence :using baseclass  to make several classes  4)polymorphism - many forms---> object has many forms "
   ]
  },
  {
   "cell_type": "code",
   "execution_count": 1,
   "id": "f2b5a624-2016-4d6b-a847-368cca23ac1c",
   "metadata": {},
   "outputs": [
    {
     "name": "stdout",
     "output_type": "stream",
     "text": [
      "<__main__.Person object at 0x1076ede50>\n"
     ]
    }
   ],
   "source": [
    "class Person :\n",
    "    pass \n",
    "p = Person()\n",
    "print(p)"
   ]
  },
  {
   "cell_type": "code",
   "execution_count": 7,
   "id": "d51336e8-cb44-4cfd-b885-0e24c1df39a3",
   "metadata": {},
   "outputs": [
    {
     "name": "stdout",
     "output_type": "stream",
     "text": [
      "h\n"
     ]
    }
   ],
   "source": [
    "print(\"h\")"
   ]
  },
  {
   "cell_type": "code",
   "execution_count": 8,
   "id": "0908d66f-7a19-415f-bb2f-5a83d93477a9",
   "metadata": {},
   "outputs": [],
   "source": [
    "class A:\n",
    "    pass"
   ]
  },
  {
   "cell_type": "code",
   "execution_count": 10,
   "id": "b83f42e7-d809-4eac-9096-9ed2ab89c233",
   "metadata": {},
   "outputs": [
    {
     "name": "stdout",
     "output_type": "stream",
     "text": [
      "True\n"
     ]
    }
   ],
   "source": [
    "a = A # this is a class \n",
    "print(isinstance(a,object)) # class is  object in python"
   ]
  },
  {
   "cell_type": "code",
   "execution_count": 4,
   "id": "e6c667d4-371f-4ce8-9216-0037404f54e0",
   "metadata": {},
   "outputs": [
    {
     "data": {
      "text/plain": [
       "\u001b[0;31mSignature:\u001b[0m \u001b[0misinstance\u001b[0m\u001b[0;34m(\u001b[0m\u001b[0mobj\u001b[0m\u001b[0;34m,\u001b[0m \u001b[0mclass_or_tuple\u001b[0m\u001b[0;34m,\u001b[0m \u001b[0;34m/\u001b[0m\u001b[0;34m)\u001b[0m\u001b[0;34m\u001b[0m\u001b[0;34m\u001b[0m\u001b[0m\n",
       "\u001b[0;31mDocstring:\u001b[0m\n",
       "Return whether an object is an instance of a class or of a subclass thereof.\n",
       "\n",
       "A tuple, as in ``isinstance(x, (A, B, ...))``, may be given as the target to\n",
       "check against. This is equivalent to ``isinstance(x, A) or isinstance(x, B)\n",
       "or ...`` etc.\n",
       "\u001b[0;31mType:\u001b[0m      builtin_function_or_method"
      ]
     },
     "metadata": {},
     "output_type": "display_data"
    }
   ],
   "source": [
    "isinstance?"
   ]
  },
  {
   "cell_type": "code",
   "execution_count": 7,
   "id": "07f29761-4749-4428-8716-cabb998ebc0d",
   "metadata": {},
   "outputs": [
    {
     "name": "stdout",
     "output_type": "stream",
     "text": [
      "<class 'int'>\n",
      "True\n",
      "True\n"
     ]
    }
   ],
   "source": [
    "a = 1 \n",
    "print(type(a))\n",
    "print(isinstance(a,object))\n",
    "print(isinstance('omkar',object))#string is also object class."
   ]
  },
  {
   "cell_type": "code",
   "execution_count": 13,
   "id": "eba95359-6b6b-45f3-ae8f-c98d5abdd62f",
   "metadata": {},
   "outputs": [
    {
     "name": "stdout",
     "output_type": "stream",
     "text": [
      "True\n"
     ]
    }
   ],
   "source": [
    "#print is a function , lets check funcs are objects or not in python ,\n",
    "print(isinstance(print, object))\n",
    "#this proves in python even the fuction are objects of class named object"
   ]
  },
  {
   "cell_type": "code",
   "execution_count": 14,
   "id": "b7f2479f-95ac-48cc-9fdf-7aabaeff2fee",
   "metadata": {},
   "outputs": [],
   "source": [
    "class A:\n",
    "    pass\n",
    "    #empty class "
   ]
  },
  {
   "cell_type": "code",
   "execution_count": 15,
   "id": "90432cc9-6c8d-4a9c-a685-a975c50f475d",
   "metadata": {},
   "outputs": [
    {
     "name": "stdout",
     "output_type": "stream",
     "text": [
      "True\n"
     ]
    }
   ],
   "source": [
    "print(isinstance(A, object)) # even this object"
   ]
  },
  {
   "cell_type": "code",
   "execution_count": 16,
   "id": "05b80da7-31f8-4f47-b920-942f4db506a3",
   "metadata": {},
   "outputs": [
    {
     "name": "stdout",
     "output_type": "stream",
     "text": [
      "True\n"
     ]
    }
   ],
   "source": [
    "print(isinstance(A(), object)) #isinstance of A is A=A() , Is this is a object ?"
   ]
  },
  {
   "cell_type": "code",
   "execution_count": 13,
   "id": "56638d56-a938-4a69-8cc8-ccd022b8ff58",
   "metadata": {},
   "outputs": [],
   "source": [
    "#function and class objects are callabel but int float str arenot"
   ]
  },
  {
   "cell_type": "code",
   "execution_count": 14,
   "id": "34bf7fd7-5ccd-475d-9b1c-78ac92cf77fc",
   "metadata": {},
   "outputs": [],
   "source": [
    "#when function is called fucntion start executing , and when  class is called it creates a instance of a class"
   ]
  },
  {
   "cell_type": "code",
   "execution_count": 1,
   "id": "60a1c556-78e4-4d90-9c1a-a9b1bb3a2223",
   "metadata": {},
   "outputs": [
    {
     "name": "stdout",
     "output_type": "stream",
     "text": [
      "<__main__.Person object at 0x110bf5190>\n"
     ]
    }
   ],
   "source": [
    "#creating an instance of a class\n",
    "class Person :\n",
    "    pass \n",
    "B = Person() # here an instance is created type object of person\n",
    "print(B)"
   ]
  },
  {
   "cell_type": "code",
   "execution_count": 16,
   "id": "b8ada93f-a34a-4631-b49c-3cd680b8a41d",
   "metadata": {},
   "outputs": [
    {
     "data": {
      "text/plain": [
       "4374868176"
      ]
     },
     "execution_count": 16,
     "metadata": {},
     "output_type": "execute_result"
    }
   ],
   "source": [
    "id(B)"
   ]
  },
  {
   "cell_type": "code",
   "execution_count": 2,
   "id": "4dfa4b75-afc7-4323-92e3-f93cf9c21ad7",
   "metadata": {},
   "outputs": [
    {
     "data": {
      "text/plain": [
       "'0x110bf5190'"
      ]
     },
     "execution_count": 2,
     "metadata": {},
     "output_type": "execute_result"
    }
   ],
   "source": [
    "hex(id(B))"
   ]
  },
  {
   "cell_type": "markdown",
   "id": "b370d6f3-0fd3-4f42-b11e-2f32210cc38d",
   "metadata": {},
   "source": [
    "### Method"
   ]
  },
  {
   "cell_type": "code",
   "execution_count": 17,
   "id": "e9e58522-0fc4-4161-912b-90b4fdd41596",
   "metadata": {},
   "outputs": [
    {
     "name": "stdout",
     "output_type": "stream",
     "text": [
      "Hello, my name is Jatin\n",
      "Hello, my name is Jatin\n"
     ]
    }
   ],
   "source": [
    "class Person : #this class has 2 attributes\n",
    "    name = \"Jatin\" #name is 1 st attribute \n",
    "    def say_hi(self):#behvaiour or method  2nd attribute\n",
    "        print(\"Hello, my name is \" + self.name )\n",
    "p = Person()\n",
    "#as a method.\n",
    "p.say_hi()\n",
    "Person.say_hi(p)\n"
   ]
  },
  {
   "cell_type": "code",
   "execution_count": 31,
   "id": "6599a1fa-fbd8-487c-bd02-9f09ddfa4227",
   "metadata": {},
   "outputs": [
    {
     "name": "stdout",
     "output_type": "stream",
     "text": [
      "Hello, my name is Jatin\n"
     ]
    }
   ],
   "source": [
    "class Person : #this class has 2 attributes\n",
    "    name = \"Jatin\" #name is 1 st attribute \n",
    "    def say_hi(self):#behvaiour or method  2nd attribute\n",
    "        print(\"Hello, my name is \" + self.name )\n",
    "p = Person()\n",
    "#as a method.\n",
    "\n",
    "Person.say_hi(p)"
   ]
  },
  {
   "cell_type": "code",
   "execution_count": 33,
   "id": "b4babdd2-1f03-4840-8ff4-09a424101386",
   "metadata": {},
   "outputs": [
    {
     "name": "stdout",
     "output_type": "stream",
     "text": [
      "Hello, my name is Jatin\n"
     ]
    }
   ],
   "source": [
    "class Person :\n",
    "    name = \"Jatin\"\n",
    "    def say_hi(self):\n",
    "        print(\"Hello, my name is \" + self.name )\n",
    "\n",
    "p = Person() # created a object Person\n",
    "\n",
    "p.say_hi() #we use fuction directly with classes in python, Person as a class "
   ]
  },
  {
   "cell_type": "code",
   "execution_count": 36,
   "id": "327cb914-2691-4624-ab0f-5ef394614404",
   "metadata": {},
   "outputs": [
    {
     "name": "stdout",
     "output_type": "stream",
     "text": [
      "new object created\n",
      "Hello, how are you Omkar?\n",
      "Hello, how are you Omkar?\n"
     ]
    }
   ],
   "source": [
    "class Person:\n",
    "    name = 'jatin'\n",
    "    #not a constructor \n",
    "    def __init__(self,name):#init-method  self means object , name is an atttribute\n",
    "        self.name = name  #storing the  name as attribute of object \"self\" of method __init__\n",
    "        print(\"new object created\")#this implies self.name is an attribute alltogether\n",
    "        pass\n",
    "    def say_hi(self):\n",
    "       \n",
    "        print(\"Hello, how are you \" + self.name + \"?\")\n",
    "p = Person(\"Omkar\")\n",
    "p.say_hi()\n",
    "Person.say_hi(p)\n",
    "\n",
    "               "
   ]
  },
  {
   "cell_type": "markdown",
   "id": "fe8d3460-6ef9-462c-9f9b-da9fc7858346",
   "metadata": {},
   "source": [
    "### Dender or Magic Methods"
   ]
  },
  {
   "cell_type": "markdown",
   "id": "045d46ed-442b-4591-ba19-766556037ed7",
   "metadata": {},
   "source": [
    "Life cycle of object \n",
    " - 1 created \n",
    " - 2 Deleted \n",
    " - 3 String \n",
    " - 4 Add\n",
    " - 5 Substract\n",
    " - for each of these event  python has created a dender and magic method "
   ]
  },
  {
   "cell_type": "code",
   "execution_count": null,
   "id": "7b9fd821-c9bf-4908-85c6-66821b1879a9",
   "metadata": {},
   "outputs": [],
   "source": [
    "__init__(self) # this is how we write a dender , whenever object is created\n",
    "__del__(self) #object is deleted\n",
    "__add__(self,other) # a.__add__(b) python is doing this actually\n",
    "__str__(self) #str(a) a.__str__()\n",
    "__eq__(self,other) #a.__eq__(b) --> a ==b."
   ]
  },
  {
   "cell_type": "code",
   "execution_count": 38,
   "id": "0f8083ff-fde9-44b5-b08f-5233acbca24c",
   "metadata": {},
   "outputs": [],
   "source": [
    "class Car :\n",
    "    def __init__(self, model,mileage):\n",
    "        self.model = model\n",
    "        self.mileage = mileage\n",
    "        \n",
    "    def __str__(self):#string represtation of object self\n",
    "        return \"{a}, {b}\".format(a= self.model,b = self.mileage)\n",
    "        \n",
    "    def __repr__(self):#to get the string we need to use this function\n",
    "        return \"()\".format(self.model)\n",
    "        \n",
    "    def __eq__(self,other):\n",
    "        return self.mileage == other.mileage\n",
    "        \n",
    "    def __add__(self, other):\n",
    "        return self.mileage + other.mileage\n",
    "  \n",
    "    \n",
    "        \n",
    "    "
   ]
  },
  {
   "cell_type": "code",
   "execution_count": 39,
   "id": "25c3626e-b821-4ae3-bdf0-46b6a53a571e",
   "metadata": {},
   "outputs": [],
   "source": [
    "#To basically perform operations on it"
   ]
  },
  {
   "cell_type": "code",
   "execution_count": 40,
   "id": "1d395e8e-674f-4667-b14e-11b98317c05b",
   "metadata": {},
   "outputs": [],
   "source": [
    "c1 = Car('a',2)\n",
    "c2 = Car('b',2)"
   ]
  },
  {
   "cell_type": "code",
   "execution_count": 41,
   "id": "465d7b3c-b08c-4d7a-a056-6810e8286897",
   "metadata": {},
   "outputs": [
    {
     "data": {
      "text/plain": [
       "4"
      ]
     },
     "execution_count": 41,
     "metadata": {},
     "output_type": "execute_result"
    }
   ],
   "source": [
    " c1 + c2"
   ]
  },
  {
   "cell_type": "code",
   "execution_count": 42,
   "id": "9b6fd096-1c48-4826-9d0b-c539798ed6d6",
   "metadata": {},
   "outputs": [
    {
     "data": {
      "text/plain": [
       "True"
      ]
     },
     "execution_count": 42,
     "metadata": {},
     "output_type": "execute_result"
    }
   ],
   "source": [
    "c1 == c2 "
   ]
  },
  {
   "cell_type": "code",
   "execution_count": 35,
   "id": "a1ba346f-4ba1-4eb4-aab7-04c48bcde842",
   "metadata": {},
   "outputs": [
    {
     "data": {
      "text/plain": [
       "0"
      ]
     },
     "execution_count": 35,
     "metadata": {},
     "output_type": "execute_result"
    }
   ],
   "source": [
    "c1 - c2"
   ]
  },
  {
   "cell_type": "code",
   "execution_count": 46,
   "id": "4bbdd0cc-90b1-4081-83f3-644b54cbc5ae",
   "metadata": {},
   "outputs": [],
   "source": [
    "class Car2 :\n",
    "    def __init__(self, model,mileage):\n",
    "        self.model = model\n",
    "        self.mileage = mileage\n",
    "        \n",
    "    def __str__(self):#string represtation of object self\n",
    "        return \"{a}, {b}\".format(a= self.model,b = self.mileage)\n",
    "        \n",
    "    def __repr__(self):#to get the string we need to use this function\n",
    "        return \"()\".format(self.model)\n",
    "        \n",
    "    def __eq__(self,other):\n",
    "        return self.mileage == other.mileage\n",
    "        \n",
    "    def __add__(self, other):\n",
    "        return self.mileage + other.mileage\n",
    "        \n",
    "    def __sub__(self, other):\n",
    "        return self.mileage  - other.mileage    "
   ]
  },
  {
   "cell_type": "code",
   "execution_count": 47,
   "id": "6a6f854f-1b9e-4284-9616-ecd0a2cc946e",
   "metadata": {},
   "outputs": [],
   "source": [
    "c1 = Car2('a',2)\n",
    "c2 = Car2('b',2)"
   ]
  },
  {
   "cell_type": "code",
   "execution_count": 48,
   "id": "ab31a766-e25f-4b45-bf49-c8d617ff566b",
   "metadata": {},
   "outputs": [
    {
     "data": {
      "text/plain": [
       "0"
      ]
     },
     "execution_count": 48,
     "metadata": {},
     "output_type": "execute_result"
    }
   ],
   "source": [
    "c1 - c2"
   ]
  },
  {
   "cell_type": "code",
   "execution_count": 53,
   "id": "362eec46-9924-4e20-ac0c-6f973f550ea5",
   "metadata": {},
   "outputs": [
    {
     "name": "stdout",
     "output_type": "stream",
     "text": [
      "Omkar"
     ]
    }
   ],
   "source": []
  },
  {
   "cell_type": "code",
   "execution_count": 26,
   "id": "dc251c69-4b80-4609-8677-40778b44df67",
   "metadata": {},
   "outputs": [],
   "source": [
    "class outputstream:\n",
    "    def __lshift__(self,other):#lefshift fuction \n",
    "        print(other, end = '1')\n",
    "      \n",
    "cout = outputstream()"
   ]
  },
  {
   "cell_type": "code",
   "execution_count": 27,
   "id": "891534ec-cd71-4946-9e8e-dc39e28be23d",
   "metadata": {},
   "outputs": [
    {
     "name": "stdout",
     "output_type": "stream",
     "text": [
      "Omkar1"
     ]
    }
   ],
   "source": [
    "cout <<\"Omkar\""
   ]
  },
  {
   "cell_type": "code",
   "execution_count": 28,
   "id": "8ca8ded2-c4b4-4157-ae33-aa6a0e47b8a1",
   "metadata": {},
   "outputs": [],
   "source": [
    "class Ostream:\n",
    "    def __lshift__(self,other):\n",
    "        print(other, end = '1')\n",
    "        return self # why this self ? ans --> it will back to our argument again\n",
    "      \n",
    "cout = Ostream()"
   ]
  },
  {
   "cell_type": "code",
   "execution_count": 30,
   "id": "e845033d-204e-4b4e-b423-546e24a88410",
   "metadata": {},
   "outputs": [
    {
     "name": "stdout",
     "output_type": "stream",
     "text": [
      "Omkar1Nath1"
     ]
    },
    {
     "data": {
      "text/plain": [
       "<__main__.Ostream at 0x1123c23d0>"
      ]
     },
     "execution_count": 30,
     "metadata": {},
     "output_type": "execute_result"
    }
   ],
   "source": [
    "cout << \"Omkar\"<<\"Nath\" # it will store it in memory"
   ]
  },
  {
   "cell_type": "code",
   "execution_count": 33,
   "id": "b49307e5-0861-4ac1-95b0-0e88d90db46e",
   "metadata": {},
   "outputs": [],
   "source": [
    "class Dog:\n",
    "    kind = \"canine\" #class variable shared by all instance\n",
    "    def __init__(self,name):\n",
    "        self.name = name #instance variable unique to each instance\n",
    "        print(\"how are you \" + self.name)\n"
   ]
  },
  {
   "cell_type": "code",
   "execution_count": 34,
   "id": "7fcd1927-d4a8-4388-9ef4-89c1743b53ed",
   "metadata": {},
   "outputs": [
    {
     "name": "stdout",
     "output_type": "stream",
     "text": [
      "how are you tuffy\n"
     ]
    },
    {
     "data": {
      "text/plain": [
       "<__main__.Dog at 0x1123c0910>"
      ]
     },
     "execution_count": 34,
     "metadata": {},
     "output_type": "execute_result"
    }
   ],
   "source": [
    "a = Dog(\"tuffy\")\n",
    "a"
   ]
  },
  {
   "cell_type": "code",
   "execution_count": 35,
   "id": "83d681f9-058e-4de9-8609-8284447caf49",
   "metadata": {},
   "outputs": [
    {
     "data": {
      "text/plain": [
       "'canine'"
      ]
     },
     "execution_count": 35,
     "metadata": {},
     "output_type": "execute_result"
    }
   ],
   "source": [
    "a.kind"
   ]
  },
  {
   "cell_type": "code",
   "execution_count": 36,
   "id": "a6c2168e-ec2a-4b4d-934f-718c5eec5518",
   "metadata": {},
   "outputs": [
    {
     "name": "stdout",
     "output_type": "stream",
     "text": [
      "how are you max\n"
     ]
    }
   ],
   "source": [
    "b = Dog(\"max\")"
   ]
  },
  {
   "cell_type": "code",
   "execution_count": 39,
   "id": "e72fb1ad-3a25-46dd-aedc-c988d88b752f",
   "metadata": {},
   "outputs": [],
   "source": [
    "b.kind = \"something\"\n"
   ]
  },
  {
   "cell_type": "code",
   "execution_count": 40,
   "id": "65628575-2a95-4aad-9a0a-90cd6c8c98b1",
   "metadata": {},
   "outputs": [
    {
     "data": {
      "text/plain": [
       "'something'"
      ]
     },
     "execution_count": 40,
     "metadata": {},
     "output_type": "execute_result"
    }
   ],
   "source": [
    "b.kind"
   ]
  },
  {
   "cell_type": "code",
   "execution_count": 41,
   "id": "5253de80-b54b-4ee2-8d57-62ec4de178b4",
   "metadata": {},
   "outputs": [
    {
     "data": {
      "text/plain": [
       "'canine'"
      ]
     },
     "execution_count": 41,
     "metadata": {},
     "output_type": "execute_result"
    }
   ],
   "source": [
    "a.kind"
   ]
  },
  {
   "cell_type": "code",
   "execution_count": 43,
   "id": "9dc9f00e-f7a4-4957-bda3-ceddd714a7a0",
   "metadata": {},
   "outputs": [],
   "source": [
    "class Dog:\n",
    "    tricks = [] # as a attribute of class\n",
    "    def __init__(self,name):\n",
    "        self.name = name\n",
    "    def add_trick(self, trick):\n",
    "        self.tricks.append(trick)\n",
    "    \n",
    "        "
   ]
  },
  {
   "cell_type": "code",
   "execution_count": 44,
   "id": "e3410d0d-67dc-471e-8703-b84fe3a5aade",
   "metadata": {},
   "outputs": [],
   "source": [
    "a = Dog('bruno')"
   ]
  },
  {
   "cell_type": "code",
   "execution_count": 45,
   "id": "37ffd33a-7232-4419-bfec-7241c69750f4",
   "metadata": {},
   "outputs": [
    {
     "ename": "AttributeError",
     "evalue": "'Dog' object has no attribute 'kind'",
     "output_type": "error",
     "traceback": [
      "\u001b[0;31m---------------------------------------------------------------------------\u001b[0m",
      "\u001b[0;31mAttributeError\u001b[0m                            Traceback (most recent call last)",
      "Cell \u001b[0;32mIn[45], line 1\u001b[0m\n\u001b[0;32m----> 1\u001b[0m a\u001b[38;5;241m.\u001b[39mkind\n",
      "\u001b[0;31mAttributeError\u001b[0m: 'Dog' object has no attribute 'kind'"
     ]
    }
   ],
   "source": [
    "a.kind"
   ]
  },
  {
   "cell_type": "code",
   "execution_count": 46,
   "id": "220cc9a9-06dc-4950-a2a2-e157361d3e95",
   "metadata": {},
   "outputs": [],
   "source": [
    "b = Dog('max')"
   ]
  },
  {
   "cell_type": "code",
   "execution_count": 47,
   "id": "f9a1f4a7-4a66-4563-a57b-5bd603eed359",
   "metadata": {},
   "outputs": [],
   "source": [
    "a.add_trick(\"fetch\")\n",
    "a.add_trick(\"talk\")"
   ]
  },
  {
   "cell_type": "code",
   "execution_count": 48,
   "id": "1be40034-4120-4c7b-a6c7-e1a5fb46a690",
   "metadata": {},
   "outputs": [
    {
     "data": {
      "text/plain": [
       "['fetch', 'talk']"
      ]
     },
     "execution_count": 48,
     "metadata": {},
     "output_type": "execute_result"
    }
   ],
   "source": [
    "a.tricks"
   ]
  },
  {
   "cell_type": "code",
   "execution_count": 49,
   "id": "769b53a3-236c-4800-991f-62ec2e23fe63",
   "metadata": {},
   "outputs": [
    {
     "data": {
      "text/plain": [
       "['fetch', 'talk']"
      ]
     },
     "execution_count": 49,
     "metadata": {},
     "output_type": "execute_result"
    }
   ],
   "source": [
    "b.tricks #what just happend ? why b has also the same attributes as a "
   ]
  },
  {
   "cell_type": "code",
   "execution_count": 96,
   "id": "6aaa1940-d1c4-425e-b3fd-0154e9e8fad8",
   "metadata": {},
   "outputs": [],
   "source": [
    "#beacuse set , dictionary and lists are mutable hence they are updating the values of 2 also"
   ]
  },
  {
   "cell_type": "code",
   "execution_count": 4,
   "id": "40415f76-7e13-45a5-8ef3-791079645b46",
   "metadata": {},
   "outputs": [],
   "source": [
    "#as this is mutable it get updated across all the instances variable \n",
    "    #that is why even b get get those tricks"
   ]
  },
  {
   "cell_type": "code",
   "execution_count": 50,
   "id": "34d01921-5d0d-4e71-bedd-69fc20d9cd13",
   "metadata": {},
   "outputs": [
    {
     "data": {
      "text/plain": [
       "4600885440"
      ]
     },
     "execution_count": 50,
     "metadata": {},
     "output_type": "execute_result"
    }
   ],
   "source": [
    "id(a.tricks)"
   ]
  },
  {
   "cell_type": "code",
   "execution_count": 51,
   "id": "5de09bcc-b444-4194-ba22-efff43f2cb01",
   "metadata": {},
   "outputs": [
    {
     "data": {
      "text/plain": [
       "4600885440"
      ]
     },
     "execution_count": 51,
     "metadata": {},
     "output_type": "execute_result"
    }
   ],
   "source": [
    "id(b.tricks) # as same address"
   ]
  },
  {
   "cell_type": "code",
   "execution_count": 52,
   "id": "4575ceb3-3c69-4fbf-93c9-ca78335019a1",
   "metadata": {},
   "outputs": [
    {
     "data": {
      "text/plain": [
       "4600885440"
      ]
     },
     "execution_count": 52,
     "metadata": {},
     "output_type": "execute_result"
    }
   ],
   "source": [
    "id(Dog.tricks) #even the class attribute , and a and b object attributes are same address\n",
    "#how we cant let the b object's attribute not getting updated."
   ]
  },
  {
   "cell_type": "code",
   "execution_count": 53,
   "id": "f92eaab7-b0e4-477c-a943-52a3e0768b0e",
   "metadata": {},
   "outputs": [],
   "source": [
    "class Dog:\n",
    "   \n",
    "    def __init__(self,name):\n",
    "        self.name = name\n",
    "        self.tricks = [] # as a attribute of object\n",
    "    def add_trick(self, trick):\n",
    "        self.tricks.append(trick)\n",
    "        "
   ]
  },
  {
   "cell_type": "code",
   "execution_count": 71,
   "id": "90b06219-433b-42fc-a539-c408a11a9e84",
   "metadata": {},
   "outputs": [],
   "source": [
    "class Dog:\n",
    "    tricks = []\n",
    "    def __init__(self,name):\n",
    "        self.name = name\n",
    "        self.tricks = [] #as a attribute of object\n",
    "    def add_trick(self, trick):\n",
    "        self.tricks.append(trick)\n",
    "        "
   ]
  },
  {
   "cell_type": "code",
   "execution_count": 63,
   "id": "4004e638-1af5-4981-b03d-eda565561cab",
   "metadata": {},
   "outputs": [],
   "source": [
    "a = Dog(\"burno\")"
   ]
  },
  {
   "cell_type": "code",
   "execution_count": 64,
   "id": "70d4af03-2c73-41f6-afc4-38f3c5e5f854",
   "metadata": {},
   "outputs": [],
   "source": [
    "a.add_trick(\"fetch\")\n",
    "a.add_trick(\"talk\")"
   ]
  },
  {
   "cell_type": "code",
   "execution_count": 65,
   "id": "1a9ab30c-dea2-40b7-a564-8fbfc584f6a6",
   "metadata": {},
   "outputs": [
    {
     "data": {
      "text/plain": [
       "['fetch', 'talk']"
      ]
     },
     "execution_count": 65,
     "metadata": {},
     "output_type": "execute_result"
    }
   ],
   "source": [
    "a.tricks"
   ]
  },
  {
   "cell_type": "code",
   "execution_count": 66,
   "id": "8f88ead8-8fd3-4a27-89f5-086933206e74",
   "metadata": {},
   "outputs": [],
   "source": [
    "b = Dog('max')"
   ]
  },
  {
   "cell_type": "code",
   "execution_count": 67,
   "id": "9341aad6-af76-4ce1-b32b-8e8f7fa8741c",
   "metadata": {},
   "outputs": [
    {
     "data": {
      "text/plain": [
       "[]"
      ]
     },
     "execution_count": 67,
     "metadata": {},
     "output_type": "execute_result"
    }
   ],
   "source": [
    "b.tricks"
   ]
  },
  {
   "cell_type": "code",
   "execution_count": 68,
   "id": "b5d03b3a-65b3-40bb-8173-6e25de25cf0b",
   "metadata": {},
   "outputs": [
    {
     "data": {
      "text/plain": [
       "4600830272"
      ]
     },
     "execution_count": 68,
     "metadata": {},
     "output_type": "execute_result"
    }
   ],
   "source": [
    "id(a.tricks)"
   ]
  },
  {
   "cell_type": "code",
   "execution_count": 69,
   "id": "3c034d90-6f75-4ab5-9585-03d99fb92f08",
   "metadata": {},
   "outputs": [
    {
     "data": {
      "text/plain": [
       "4597655872"
      ]
     },
     "execution_count": 69,
     "metadata": {},
     "output_type": "execute_result"
    }
   ],
   "source": [
    "id(b.tricks)"
   ]
  },
  {
   "cell_type": "markdown",
   "id": "4afcc2b9-6297-4b52-bdb9-7a06cdf86119",
   "metadata": {},
   "source": [
    "### Inheritence\n"
   ]
  },
  {
   "cell_type": "code",
   "execution_count": 70,
   "id": "c0225486-a6a6-419a-a627-399a2f816828",
   "metadata": {},
   "outputs": [],
   "source": [
    "#we use overriding in python rather than overloading ,we use this thing in inheritence"
   ]
  },
  {
   "cell_type": "code",
   "execution_count": 26,
   "id": "e6cd0a96-ab56-443e-be29-d28a9faa0cc7",
   "metadata": {},
   "outputs": [],
   "source": [
    "class SchoolMember :\n",
    "    '''represents any school memeber'''\n",
    "    def __init__(self,name,age):\n",
    "        self.name = name\n",
    "        self.age = age \n",
    "        print(\"(Initially SchoolMemeber: {})\".format(self.name))\n",
    "    def tell(self):\n",
    "        \"\"\"tell my details.\"\"\"\n",
    "        print('Name:\"{}\" Age:\"{}\"'.format(self.name, self.age), end = \" \")"
   ]
  },
  {
   "cell_type": "code",
   "execution_count": 27,
   "id": "37a578d8-52dd-49d0-a863-3a7ad345f4aa",
   "metadata": {},
   "outputs": [
    {
     "ename": "SyntaxError",
     "evalue": "expected ':' (3083705630.py, line 3)",
     "output_type": "error",
     "traceback": [
      "\u001b[0;36m  Cell \u001b[0;32mIn[27], line 3\u001b[0;36m\u001b[0m\n\u001b[0;31m    def __init__(self, name, age, salary)\u001b[0m\n\u001b[0m                                         ^\u001b[0m\n\u001b[0;31mSyntaxError\u001b[0m\u001b[0;31m:\u001b[0m expected ':'\n"
     ]
    }
   ],
   "source": [
    "class Teacher(SchoolMemeber):\n",
    "    \"\"\"Represent a Teacher\"\"\"\n",
    "    def __init__(self, name, age, salary)\n",
    "    "
   ]
  },
  {
   "cell_type": "markdown",
   "id": "61958fb8-916d-4523-9e75-1758736b0d4d",
   "metadata": {},
   "source": [
    "### Method Resolution Order"
   ]
  },
  {
   "cell_type": "markdown",
   "id": "9fe2b9aa-4239-4633-9cbe-c3a5f88a417d",
   "metadata": {},
   "source": [
    "c3 linearization  used in this , used for diamond shaped files or etc."
   ]
  },
  {
   "cell_type": "markdown",
   "id": "54eb8c08-5921-4ace-a545-68b9360074c8",
   "metadata": {},
   "source": [
    "we use backtrack method "
   ]
  },
  {
   "cell_type": "code",
   "execution_count": 1,
   "id": "21b12165-de95-4b6c-9ee7-8fcddb9941ee",
   "metadata": {},
   "outputs": [],
   "source": [
    "class A:\n",
    "    pass\n",
    "class B(A):\n",
    "    pass\n",
    "class C(A):\n",
    "    pass\n",
    "class D(C):\n",
    "    pass\n",
    "class E(B, D):\n",
    "    pass\n"
   ]
  },
  {
   "cell_type": "code",
   "execution_count": 2,
   "id": "204e70a9-b867-4659-a2b9-6f3f757a0ee4",
   "metadata": {},
   "outputs": [],
   "source": [
    "class A:\n",
    "     x = 10\n",
    "class B(A):\n",
    "    pass\n",
    "class C(A):\n",
    "   x = 5\n",
    "class D(C):\n",
    "    pass\n",
    "class E(B, D):\n",
    "    pass"
   ]
  },
  {
   "cell_type": "code",
   "execution_count": 3,
   "id": "4de046e0-a956-4943-8dd5-f23e335d576a",
   "metadata": {},
   "outputs": [
    {
     "data": {
      "text/plain": [
       "5"
      ]
     },
     "execution_count": 3,
     "metadata": {},
     "output_type": "execute_result"
    }
   ],
   "source": [
    "E.x"
   ]
  },
  {
   "cell_type": "code",
   "execution_count": 4,
   "id": "f7fd6afc-097e-47ae-9dc0-0faf3b12f294",
   "metadata": {},
   "outputs": [
    {
     "data": {
      "text/plain": [
       "5"
      ]
     },
     "execution_count": 4,
     "metadata": {},
     "output_type": "execute_result"
    }
   ],
   "source": [
    "E.x"
   ]
  },
  {
   "cell_type": "code",
   "execution_count": 5,
   "id": "db7ddd63-9b33-4c44-a83c-b318279060b4",
   "metadata": {},
   "outputs": [
    {
     "data": {
      "text/plain": [
       "(__main__.E, __main__.B, __main__.D, __main__.C, __main__.A, object)"
      ]
     },
     "execution_count": 5,
     "metadata": {},
     "output_type": "execute_result"
    }
   ],
   "source": [
    "E.__mro__"
   ]
  },
  {
   "cell_type": "code",
   "execution_count": null,
   "id": "a1842c6a-522c-47bf-9388-381f4163015e",
   "metadata": {},
   "outputs": [],
   "source": []
  }
 ],
 "metadata": {
  "kernelspec": {
   "display_name": "Python 3 (ipykernel)",
   "language": "python",
   "name": "python3"
  },
  "language_info": {
   "codemirror_mode": {
    "name": "ipython",
    "version": 3
   },
   "file_extension": ".py",
   "mimetype": "text/x-python",
   "name": "python",
   "nbconvert_exporter": "python",
   "pygments_lexer": "ipython3",
   "version": "3.11.7"
  }
 },
 "nbformat": 4,
 "nbformat_minor": 5
}
