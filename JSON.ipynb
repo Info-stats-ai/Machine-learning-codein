{
 "cells": [
  {
   "cell_type": "code",
   "execution_count": 3,
   "id": "f9c69701-95f1-44d1-9f63-94a222b70e6c",
   "metadata": {},
   "outputs": [],
   "source": [
    "a = {'name' : 'omkar', \"marks \" : '93' ,'cs' : '94'}"
   ]
  },
  {
   "cell_type": "code",
   "execution_count": 4,
   "id": "c40d9a2a-90bd-4eac-ac99-d1e15fa682ea",
   "metadata": {},
   "outputs": [
    {
     "data": {
      "text/plain": [
       "{'name': 'omkar', 'marks ': '93', 'cs': '94'}"
      ]
     },
     "execution_count": 4,
     "metadata": {},
     "output_type": "execute_result"
    }
   ],
   "source": [
    "a"
   ]
  },
  {
   "cell_type": "code",
   "execution_count": 6,
   "id": "bbf941f9-3ce6-4786-8aaa-9b10f06c2229",
   "metadata": {},
   "outputs": [
    {
     "data": {
      "text/plain": [
       "'omkar'"
      ]
     },
     "execution_count": 6,
     "metadata": {},
     "output_type": "execute_result"
    }
   ],
   "source": [
    "a[\"name\"]"
   ]
  },
  {
   "cell_type": "code",
   "execution_count": null,
   "id": "d99a6d69-ff3e-4133-87da-329fa6b53669",
   "metadata": {},
   "outputs": [],
   "source": []
  },
  {
   "cell_type": "code",
   "execution_count": 8,
   "id": "c13fa728-edeb-4fdd-85eb-567e016195b5",
   "metadata": {},
   "outputs": [],
   "source": [
    "import json"
   ]
  },
  {
   "cell_type": "code",
   "execution_count": 10,
   "id": "c4be3713-db30-4502-8b40-fa97b5bb7ef2",
   "metadata": {},
   "outputs": [],
   "source": [
    "json_string  = json.dumps(a)"
   ]
  },
  {
   "cell_type": "code",
   "execution_count": 11,
   "id": "b067ffc4-1a87-49ec-8f8d-bc117a2ba770",
   "metadata": {},
   "outputs": [
    {
     "name": "stdout",
     "output_type": "stream",
     "text": [
      "{\"name\": \"omkar\", \"marks \": \"93\", \"cs\": \"94\"}\n"
     ]
    }
   ],
   "source": [
    "print(json_string)"
   ]
  },
  {
   "cell_type": "code",
   "execution_count": 12,
   "id": "5555c719-3ce4-4d1b-b6f3-cbc648cf4f48",
   "metadata": {},
   "outputs": [
    {
     "name": "stdout",
     "output_type": "stream",
     "text": [
      "<class 'str'>\n"
     ]
    }
   ],
   "source": [
    "print(type(json_string))"
   ]
  },
  {
   "cell_type": "code",
   "execution_count": null,
   "id": "37a794c4-f6da-49d7-af3c-b01014e8fc45",
   "metadata": {},
   "outputs": [],
   "source": [
    "with open(\"data2.json\", \"w\""
   ]
  }
 ],
 "metadata": {
  "kernelspec": {
   "display_name": "Python 3 (ipykernel)",
   "language": "python",
   "name": "python3"
  },
  "language_info": {
   "codemirror_mode": {
    "name": "ipython",
    "version": 3
   },
   "file_extension": ".py",
   "mimetype": "text/x-python",
   "name": "python",
   "nbconvert_exporter": "python",
   "pygments_lexer": "ipython3",
   "version": "3.11.7"
  }
 },
 "nbformat": 4,
 "nbformat_minor": 5
}
