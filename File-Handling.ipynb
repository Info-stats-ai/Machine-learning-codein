{
 "cells": [
  {
   "cell_type": "markdown",
   "id": "cc3eb71a-e7cf-420b-ab99-c32c78d3cbf1",
   "metadata": {},
   "source": [
    "### 1. Text files"
   ]
  },
  {
   "cell_type": "markdown",
   "id": "ffdef027-3b1c-48f7-a728-f0690eed1723",
   "metadata": {},
   "source": [
    "opening a file"
   ]
  },
  {
   "cell_type": "code",
   "execution_count": 3,
   "id": "ddd488d2-18d1-43d9-adc3-c799166c2522",
   "metadata": {},
   "outputs": [],
   "source": [
    "file = open(\"hello.txt\", \"r\") #as file is with besides with jupyter "
   ]
  },
  {
   "cell_type": "code",
   "execution_count": 4,
   "id": "a1643ae5-502e-4c7d-aa8c-71cd1a352f6c",
   "metadata": {},
   "outputs": [
    {
     "data": {
      "text/plain": [
       "'Hello World!\\nHow are you.\\nI am learning and struggling.'"
      ]
     },
     "execution_count": 4,
     "metadata": {},
     "output_type": "execute_result"
    }
   ],
   "source": [
    "file.read()"
   ]
  },
  {
   "cell_type": "code",
   "execution_count": 5,
   "id": "92d36625-9a27-4c4d-a66d-291c91c3c192",
   "metadata": {},
   "outputs": [
    {
     "data": {
      "text/plain": [
       "''"
      ]
     },
     "execution_count": 5,
     "metadata": {},
     "output_type": "execute_result"
    }
   ],
   "source": [
    "file.read(1)"
   ]
  },
  {
   "cell_type": "markdown",
   "id": "f37bbd3a-5c4f-4bda-9a7b-86653b43feff",
   "metadata": {},
   "source": [
    "### Closing a file"
   ]
  },
  {
   "cell_type": "code",
   "execution_count": 6,
   "id": "7bf2531b-7b99-46a4-af4f-b49401e4d56f",
   "metadata": {},
   "outputs": [],
   "source": [
    "file.close()"
   ]
  },
  {
   "cell_type": "markdown",
   "id": "ce5e04e4-e73d-4bf9-8458-37ac1ec7387f",
   "metadata": {},
   "source": [
    "### Writing to a file"
   ]
  },
  {
   "cell_type": "code",
   "execution_count": 7,
   "id": "c55640c6-3337-4bb9-ad9a-53600a487486",
   "metadata": {},
   "outputs": [],
   "source": [
    "file = open(\"hello.txt\", \"w\")"
   ]
  },
  {
   "cell_type": "code",
   "execution_count": 8,
   "id": "4bb90082-f9a1-43a6-af86-df9ad9b0bd83",
   "metadata": {},
   "outputs": [
    {
     "data": {
      "text/plain": [
       "25"
      ]
     },
     "execution_count": 8,
     "metadata": {},
     "output_type": "execute_result"
    }
   ],
   "source": [
    "file.write('hello from the other side') #no. of bytes written or added to the text"
   ]
  },
  {
   "cell_type": "code",
   "execution_count": 9,
   "id": "bdb32c54-1a30-4f1f-80f8-9617c1d97f56",
   "metadata": {},
   "outputs": [],
   "source": [
    "file.close()"
   ]
  },
  {
   "cell_type": "markdown",
   "id": "a8cd3444-f01e-4ec0-b6f8-b18219ea405c",
   "metadata": {},
   "source": [
    "### Reading from a File\n",
    "-  read\n",
    "-  readline\n",
    "-  realines"
   ]
  },
  {
   "cell_type": "code",
   "execution_count": 10,
   "id": "0c52d9ed-3a69-44dd-9e57-490dc4c99257",
   "metadata": {},
   "outputs": [],
   "source": [
    "file = open(\"hello.txt\", \"r\")"
   ]
  },
  {
   "cell_type": "code",
   "execution_count": 11,
   "id": "4d91ea1b-46a4-4745-aa20-c5d4620e0bc8",
   "metadata": {},
   "outputs": [
    {
     "data": {
      "text/plain": [
       "['hello from the other side']"
      ]
     },
     "execution_count": 11,
     "metadata": {},
     "output_type": "execute_result"
    }
   ],
   "source": [
    "file.readlines()"
   ]
  },
  {
   "cell_type": "code",
   "execution_count": 12,
   "id": "eb598553-30ff-44cc-a395-f748a724fb9b",
   "metadata": {},
   "outputs": [
    {
     "data": {
      "text/plain": [
       "''"
      ]
     },
     "execution_count": 12,
     "metadata": {},
     "output_type": "execute_result"
    }
   ],
   "source": [
    "file.readline() # every time execution"
   ]
  },
  {
   "cell_type": "code",
   "execution_count": 13,
   "id": "ff43df84-5482-4ae2-bc6f-93268cfd9170",
   "metadata": {},
   "outputs": [],
   "source": [
    "file.close()"
   ]
  },
  {
   "cell_type": "markdown",
   "id": "a82b29bf-6a63-4034-8d44-8d6271dd3b53",
   "metadata": {},
   "source": [
    "### Moving a cursor"
   ]
  },
  {
   "cell_type": "code",
   "execution_count": 14,
   "id": "6e0d4159-c316-448e-9eb5-a3e80fd0414a",
   "metadata": {},
   "outputs": [],
   "source": [
    "file = open(\"hello.txt\", \"r\")"
   ]
  },
  {
   "cell_type": "code",
   "execution_count": 15,
   "id": "13a8130a-2781-4bcf-b519-980ebc341a8a",
   "metadata": {},
   "outputs": [
    {
     "data": {
      "text/plain": [
       "'hello'"
      ]
     },
     "execution_count": 15,
     "metadata": {},
     "output_type": "execute_result"
    }
   ],
   "source": [
    "file.read(5)"
   ]
  },
  {
   "cell_type": "code",
   "execution_count": 16,
   "id": "3cb96954-d9ad-4095-b486-83ca0ca0ec23",
   "metadata": {},
   "outputs": [
    {
     "data": {
      "text/plain": [
       "' from the other side'"
      ]
     },
     "execution_count": 16,
     "metadata": {},
     "output_type": "execute_result"
    }
   ],
   "source": [
    "file.read()"
   ]
  },
  {
   "cell_type": "code",
   "execution_count": 17,
   "id": "18ee25d3-4053-4fc6-bc3d-6eae62025604",
   "metadata": {},
   "outputs": [
    {
     "data": {
      "text/plain": [
       "0"
      ]
     },
     "execution_count": 17,
     "metadata": {},
     "output_type": "execute_result"
    }
   ],
   "source": [
    "file.seek(0)"
   ]
  },
  {
   "cell_type": "code",
   "execution_count": 18,
   "id": "69eb0ddb-71d1-42a0-b378-11c6edb7fe9f",
   "metadata": {},
   "outputs": [
    {
     "data": {
      "text/plain": [
       "'hello from the other side'"
      ]
     },
     "execution_count": 18,
     "metadata": {},
     "output_type": "execute_result"
    }
   ],
   "source": [
    "file.read()"
   ]
  },
  {
   "cell_type": "code",
   "execution_count": 19,
   "id": "5b7d2b6c-f2a5-4501-bbf7-c301e4b2ef6f",
   "metadata": {},
   "outputs": [],
   "source": [
    "file.close()"
   ]
  },
  {
   "cell_type": "markdown",
   "id": "1acad8d9-50ca-455b-b42b-c2bf341ebf7e",
   "metadata": {},
   "source": [
    "### Smarter way of opening files\n",
    "##### with helps to close file automatcially , it =handels the file in better ways "
   ]
  },
  {
   "cell_type": "code",
   "execution_count": 20,
   "id": "860b57fe-4299-4a9e-8e65-3c6e2ff6868f",
   "metadata": {},
   "outputs": [
    {
     "name": "stdout",
     "output_type": "stream",
     "text": [
      "hello from the other side\n",
      " from the other side\n"
     ]
    },
    {
     "ename": "ValueError",
     "evalue": "I/O operation on closed file.",
     "output_type": "error",
     "traceback": [
      "\u001b[0;31m---------------------------------------------------------------------------\u001b[0m",
      "\u001b[0;31mValueError\u001b[0m                                Traceback (most recent call last)",
      "Cell \u001b[0;32mIn[20], line 5\u001b[0m\n\u001b[1;32m      3\u001b[0m     file\u001b[38;5;241m.\u001b[39mseek(\u001b[38;5;241m5\u001b[39m)\n\u001b[1;32m      4\u001b[0m     \u001b[38;5;28mprint\u001b[39m(file\u001b[38;5;241m.\u001b[39mread())\n\u001b[0;32m----> 5\u001b[0m file\u001b[38;5;241m.\u001b[39mread()\n",
      "\u001b[0;31mValueError\u001b[0m: I/O operation on closed file."
     ]
    }
   ],
   "source": [
    "with open(\"hello.txt\", \"r\") as file:\n",
    "    print(file.read())\n",
    "    file.seek(5)\n",
    "    print(file.read())\n",
    "file.read() # as file is already closed\n",
    "    "
   ]
  },
  {
   "cell_type": "markdown",
   "id": "377d7a35-79a2-4582-856d-f37baac266f8",
   "metadata": {},
   "source": [
    "### JSON FILE\n",
    "###### Java script object Notation -- used in web for handling files"
   ]
  },
  {
   "cell_type": "code",
   "execution_count": null,
   "id": "3998623f-c630-477a-8881-b453486c0c25",
   "metadata": {},
   "outputs": [],
   "source": []
  }
 ],
 "metadata": {
  "kernelspec": {
   "display_name": "Python 3 (ipykernel)",
   "language": "python",
   "name": "python3"
  },
  "language_info": {
   "codemirror_mode": {
    "name": "ipython",
    "version": 3
   },
   "file_extension": ".py",
   "mimetype": "text/x-python",
   "name": "python",
   "nbconvert_exporter": "python",
   "pygments_lexer": "ipython3",
   "version": "3.11.7"
  }
 },
 "nbformat": 4,
 "nbformat_minor": 5
}
