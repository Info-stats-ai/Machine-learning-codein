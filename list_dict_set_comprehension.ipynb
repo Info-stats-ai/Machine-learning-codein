{
 "cells": [
  {
   "cell_type": "markdown",
   "id": "4c026785-2157-4959-a8ba-e6e87336e2c2",
   "metadata": {},
   "source": [
    "List Comprehension"
   ]
  },
  {
   "cell_type": "code",
   "execution_count": 3,
   "id": "1e00be7e-5a11-4e3f-b7ea-2c0eed0ea699",
   "metadata": {},
   "outputs": [
    {
     "data": {
      "text/plain": [
       "[1, 4, 9, 16, 25, 36, 49, 64, 81]"
      ]
     },
     "execution_count": 3,
     "metadata": {},
     "output_type": "execute_result"
    }
   ],
   "source": [
    "a = []\n",
    "for i in range(1,10):\n",
    "    a.append(i**2)\n",
    "a"
   ]
  },
  {
   "cell_type": "code",
   "execution_count": 5,
   "id": "8d6b6ed4-8145-46c5-8a8f-f4c7f11642b1",
   "metadata": {},
   "outputs": [
    {
     "data": {
      "text/plain": [
       "[1, 4, 9, 16, 25, 36, 49, 64, 81]"
      ]
     },
     "execution_count": 5,
     "metadata": {},
     "output_type": "execute_result"
    }
   ],
   "source": [
    "[x**2 for  x in range(1,10)]"
   ]
  },
  {
   "cell_type": "code",
   "execution_count": 6,
   "id": "3ef3daf4-307a-47d6-a6c2-0e6b7146b793",
   "metadata": {},
   "outputs": [
    {
     "data": {
      "text/plain": [
       "[4, 16, 36, 64]"
      ]
     },
     "execution_count": 6,
     "metadata": {},
     "output_type": "execute_result"
    }
   ],
   "source": [
    "[x**2 for  x in range(1,10) if x %2 == 0]"
   ]
  },
  {
   "cell_type": "markdown",
   "id": "dcbb491b-b91f-4546-b053-8d534ae1c382",
   "metadata": {},
   "source": [
    "dict Comprehension"
   ]
  },
  {
   "cell_type": "code",
   "execution_count": 7,
   "id": "f861e3c1-1c2a-4275-a520-4d2616969a01",
   "metadata": {},
   "outputs": [
    {
     "data": {
      "text/plain": [
       "{2: 4, 4: 16, 6: 36, 8: 64}"
      ]
     },
     "execution_count": 7,
     "metadata": {},
     "output_type": "execute_result"
    }
   ],
   "source": [
    "{i : i**2 for i in range(1,10) if i% 2 == 0}"
   ]
  },
  {
   "cell_type": "markdown",
   "id": "1569ea79-463c-443f-8a23-6274b3ea73cb",
   "metadata": {},
   "source": [
    "Set comprehension"
   ]
  },
  {
   "cell_type": "code",
   "execution_count": 8,
   "id": "05a0ad90-303e-4206-848b-7f9f8cedd049",
   "metadata": {},
   "outputs": [
    {
     "data": {
      "text/plain": [
       "{4, 16, 36, 64}"
      ]
     },
     "execution_count": 8,
     "metadata": {},
     "output_type": "execute_result"
    }
   ],
   "source": [
    "{i**2 for i in range(1,10) if i% 2 == 0}"
   ]
  },
  {
   "cell_type": "markdown",
   "id": "a579f8a4-e109-464b-99a4-b20b2ab0d066",
   "metadata": {},
   "source": [
    "Tuple Comprehension"
   ]
  },
  {
   "cell_type": "code",
   "execution_count": 10,
   "id": "477315ad-03e6-4959-b657-634855b9ef98",
   "metadata": {},
   "outputs": [],
   "source": [
    "a = (i**2 for i in range(1,10) if i% 2 == 0)"
   ]
  },
  {
   "cell_type": "code",
   "execution_count": 11,
   "id": "4b66d585-ea68-48a3-b988-14f7f7a03d95",
   "metadata": {},
   "outputs": [
    {
     "data": {
      "text/plain": [
       "<generator object <genexpr> at 0x1144fa190>"
      ]
     },
     "execution_count": 11,
     "metadata": {},
     "output_type": "execute_result"
    }
   ],
   "source": [
    "a"
   ]
  },
  {
   "cell_type": "code",
   "execution_count": 12,
   "id": "2a849ebf-9f9a-4717-9c34-42f06c14d712",
   "metadata": {},
   "outputs": [],
   "source": [
    "a = [1,2,3,4]"
   ]
  },
  {
   "cell_type": "code",
   "execution_count": 13,
   "id": "dd345d6f-169c-4ac0-a3aa-a63039885d0c",
   "metadata": {},
   "outputs": [],
   "source": [
    "a[0] = 5"
   ]
  },
  {
   "cell_type": "code",
   "execution_count": 14,
   "id": "33911139-20c4-44cb-8278-e1aa7cf59923",
   "metadata": {},
   "outputs": [
    {
     "data": {
      "text/plain": [
       "[5, 2, 3, 4]"
      ]
     },
     "execution_count": 14,
     "metadata": {},
     "output_type": "execute_result"
    }
   ],
   "source": [
    "a"
   ]
  },
  {
   "cell_type": "code",
   "execution_count": 15,
   "id": "86d021be-d943-4ec7-b96b-f97201e6d08b",
   "metadata": {},
   "outputs": [
    {
     "data": {
      "text/plain": [
       "4644611264"
      ]
     },
     "execution_count": 15,
     "metadata": {},
     "output_type": "execute_result"
    }
   ],
   "source": [
    "id(a)"
   ]
  },
  {
   "cell_type": "code",
   "execution_count": 16,
   "id": "05460da1-21ec-4359-ba76-d711f297d1ba",
   "metadata": {},
   "outputs": [],
   "source": [
    "a[1] = 7"
   ]
  },
  {
   "cell_type": "code",
   "execution_count": 17,
   "id": "f963d267-ae6e-4266-a409-c598a6176765",
   "metadata": {},
   "outputs": [
    {
     "data": {
      "text/plain": [
       "4644611264"
      ]
     },
     "execution_count": 17,
     "metadata": {},
     "output_type": "execute_result"
    }
   ],
   "source": [
    "id(a)"
   ]
  },
  {
   "cell_type": "code",
   "execution_count": 18,
   "id": "fade974e-9aa0-4fd2-b7b8-0078e74393f1",
   "metadata": {},
   "outputs": [],
   "source": [
    "#in list ,memory address remains the same "
   ]
  },
  {
   "cell_type": "code",
   "execution_count": 19,
   "id": "5e65503e-ada3-4fda-a3a0-3c3f9d88bb6f",
   "metadata": {},
   "outputs": [],
   "source": [
    "a = (1,2,3,4,5,6)\n"
   ]
  },
  {
   "cell_type": "code",
   "execution_count": 20,
   "id": "22265838-84bb-4d5c-919c-50db04f06a6a",
   "metadata": {},
   "outputs": [
    {
     "ename": "TypeError",
     "evalue": "'tuple' object does not support item assignment",
     "output_type": "error",
     "traceback": [
      "\u001b[0;31m---------------------------------------------------------------------------\u001b[0m",
      "\u001b[0;31mTypeError\u001b[0m                                 Traceback (most recent call last)",
      "Cell \u001b[0;32mIn[20], line 1\u001b[0m\n\u001b[0;32m----> 1\u001b[0m a[\u001b[38;5;241m0\u001b[39m] \u001b[38;5;241m=\u001b[39m \u001b[38;5;241m7\u001b[39m\n",
      "\u001b[0;31mTypeError\u001b[0m: 'tuple' object does not support item assignment"
     ]
    }
   ],
   "source": [
    "a[0] = 7"
   ]
  },
  {
   "cell_type": "code",
   "execution_count": 21,
   "id": "2d2b7471-801d-4da8-a449-8c33b5cfd659",
   "metadata": {},
   "outputs": [],
   "source": [
    "def func(*args):\n",
    "    print(args)"
   ]
  },
  {
   "cell_type": "code",
   "execution_count": 22,
   "id": "049379ba-fe77-4020-8665-a57ba029aed1",
   "metadata": {},
   "outputs": [
    {
     "name": "stdout",
     "output_type": "stream",
     "text": [
      "(1, 2, 3, 4)\n"
     ]
    }
   ],
   "source": [
    "func(1,2,3,4) # a tuble --->>>args"
   ]
  },
  {
   "cell_type": "code",
   "execution_count": 26,
   "id": "8a070d86-8605-4ab3-8689-0d220725cdeb",
   "metadata": {},
   "outputs": [],
   "source": [
    "a = 5\n",
    "b = 9 "
   ]
  },
  {
   "cell_type": "code",
   "execution_count": 43,
   "id": "1220634d-9fd4-4733-b0e6-77b26a9ef1b6",
   "metadata": {},
   "outputs": [],
   "source": [
    "def reverse_values(a, b):\n",
    "    temp = a\n",
    "    a = b\n",
    "    b = temp \n",
    "    return a,b"
   ]
  },
  {
   "cell_type": "code",
   "execution_count": 41,
   "id": "5fccddec-048e-4dd4-b8ea-162ad42c92bd",
   "metadata": {},
   "outputs": [],
   "source": [
    "a = 29 \n",
    "b = 31"
   ]
  },
  {
   "cell_type": "code",
   "execution_count": 42,
   "id": "5ae66cee-0554-4ea6-91ed-4b9b9ae80e43",
   "metadata": {},
   "outputs": [
    {
     "data": {
      "text/plain": [
       "(31, 29)"
      ]
     },
     "execution_count": 42,
     "metadata": {},
     "output_type": "execute_result"
    }
   ],
   "source": [
    "reverse_values(a, b)"
   ]
  },
  {
   "cell_type": "code",
   "execution_count": 46,
   "id": "efd4d736-53ad-4feb-b105-0eac65506876",
   "metadata": {},
   "outputs": [],
   "source": [
    "a = 1, 2 #comma seperated values is tuple"
   ]
  },
  {
   "cell_type": "code",
   "execution_count": 47,
   "id": "481e2ea5-a64e-428d-a1c3-b7633212d6e4",
   "metadata": {},
   "outputs": [
    {
     "data": {
      "text/plain": [
       "(1, 2)"
      ]
     },
     "execution_count": 47,
     "metadata": {},
     "output_type": "execute_result"
    }
   ],
   "source": [
    "a"
   ]
  },
  {
   "cell_type": "code",
   "execution_count": 48,
   "id": "18110311-27fb-432e-9a90-46d178e8c70e",
   "metadata": {},
   "outputs": [],
   "source": [
    "c, d = a"
   ]
  },
  {
   "cell_type": "code",
   "execution_count": 49,
   "id": "a3e1dbe4-496f-4cd1-82f0-73930f57589c",
   "metadata": {},
   "outputs": [
    {
     "data": {
      "text/plain": [
       "(1, 2)"
      ]
     },
     "execution_count": 49,
     "metadata": {},
     "output_type": "execute_result"
    }
   ],
   "source": [
    "c, d"
   ]
  },
  {
   "cell_type": "code",
   "execution_count": 50,
   "id": "d93fe697-86ba-4f15-9515-a3ac37a37256",
   "metadata": {},
   "outputs": [
    {
     "data": {
      "text/plain": [
       "1"
      ]
     },
     "execution_count": 50,
     "metadata": {},
     "output_type": "execute_result"
    }
   ],
   "source": [
    "c"
   ]
  },
  {
   "cell_type": "code",
   "execution_count": 51,
   "id": "7d577cd0-fe04-4f1e-afa2-5153c76d0252",
   "metadata": {},
   "outputs": [
    {
     "data": {
      "text/plain": [
       "2"
      ]
     },
     "execution_count": 51,
     "metadata": {},
     "output_type": "execute_result"
    }
   ],
   "source": [
    "d"
   ]
  },
  {
   "cell_type": "code",
   "execution_count": 52,
   "id": "fefcaccd-5215-4a8d-b42f-fa8f535cf750",
   "metadata": {},
   "outputs": [],
   "source": [
    "a = list(\"jatin\")"
   ]
  },
  {
   "cell_type": "code",
   "execution_count": 53,
   "id": "20c96b9f-afa8-4ea5-b539-43f4928b1dca",
   "metadata": {},
   "outputs": [
    {
     "data": {
      "text/plain": [
       "['j', 'a', 't', 'i', 'n']"
      ]
     },
     "execution_count": 53,
     "metadata": {},
     "output_type": "execute_result"
    }
   ],
   "source": [
    "a"
   ]
  },
  {
   "cell_type": "code",
   "execution_count": 54,
   "id": "4f71321c-bc91-49ce-82af-cf049cb35fa8",
   "metadata": {},
   "outputs": [],
   "source": [
    "a = tuple(a)"
   ]
  },
  {
   "cell_type": "code",
   "execution_count": 55,
   "id": "bfb54023-7b31-48eb-aef4-db7b85f800f1",
   "metadata": {},
   "outputs": [
    {
     "data": {
      "text/plain": [
       "('j', 'a', 't', 'i', 'n')"
      ]
     },
     "execution_count": 55,
     "metadata": {},
     "output_type": "execute_result"
    }
   ],
   "source": [
    "a"
   ]
  },
  {
   "cell_type": "code",
   "execution_count": null,
   "id": "840cdc90-eb42-4765-890e-cfef8763d2aa",
   "metadata": {},
   "outputs": [],
   "source": [
    "def addsubstract(a,b):\n",
    "    return a+b\n",
    "    return a-"
   ]
  }
 ],
 "metadata": {
  "kernelspec": {
   "display_name": "Python 3 (ipykernel)",
   "language": "python",
   "name": "python3"
  },
  "language_info": {
   "codemirror_mode": {
    "name": "ipython",
    "version": 3
   },
   "file_extension": ".py",
   "mimetype": "text/x-python",
   "name": "python",
   "nbconvert_exporter": "python",
   "pygments_lexer": "ipython3",
   "version": "3.11.7"
  }
 },
 "nbformat": 4,
 "nbformat_minor": 5
}
