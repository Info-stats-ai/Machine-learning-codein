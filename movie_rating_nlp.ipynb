{
 "cells": [
  {
   "cell_type": "markdown",
   "id": "d193df4b-42de-4138-8668-c2266630e9bd",
   "metadata": {},
   "source": [
    "### Create a NLP Pipeline to 'clean' Reviews Data:\n",
    "- Load Input File and Read Reviews\n",
    "- Tokenize\n",
    "- Remove Stopwords\n",
    "- Perform Stemming\n",
    "- write cleaned data to output file"
   ]
  },
  {
   "cell_type": "code",
   "execution_count": 219,
   "id": "62bf4dce-08ba-4ebf-ba18-4f73af3d529e",
   "metadata": {},
   "outputs": [],
   "source": [
    "sample_text = \"\"\" I <br /><br />loved this movie since I was 7 and I saw it on the opening day. It was so touching and beautiful. I strongly recommend seeing for all. It's a movie to watch with your family by far.<br /><br />My MPAA rating: PG-13 for thematic elements, prolonged scenes of disastor, nudity/sexuality and some language.\"\"\""
   ]
  },
  {
   "cell_type": "markdown",
   "id": "07f30e8a-5b67-470c-9284-a6b434dc0264",
   "metadata": {},
   "source": [
    "### NLTK\n",
    "Step 1 : Clean the data"
   ]
  },
  {
   "cell_type": "code",
   "execution_count": 220,
   "id": "f39604be-a421-4736-885f-45576389479d",
   "metadata": {},
   "outputs": [],
   "source": [
    "from nltk.tokenize import RegexpTokenizer\n",
    "from nltk.stem.porter import PorterStemmer\n",
    "from nltk.corpus import stopwords"
   ]
  },
  {
   "cell_type": "code",
   "execution_count": 221,
   "id": "6c4f4827-4990-435e-9034-17a7726ee23d",
   "metadata": {},
   "outputs": [],
   "source": [
    "## initialize objects \n",
    "tokenizer  = RegexpTokenizer(r'\\w+')# It extract all the words\n",
    "# \"\\w+ means extract all the words\n",
    "en_stopwords = stopwords.words('english')\n",
    "# english stopwords\n",
    "ps =PorterStemmer()"
   ]
  },
  {
   "cell_type": "code",
   "execution_count": 222,
   "id": "dc735afa-34ef-41c2-974b-d2fbdf532eaa",
   "metadata": {},
   "outputs": [],
   "source": [
    "def getStemmedReview(reviews):\n",
    "    reviews = reviews.lower() # first convert everything to lower case\n",
    "    reviews = reviews.replace(\"<br /><br />\",\" \")\n",
    "\n",
    "#Tokenize \n",
    "    tokens = tokenizer.tokenize(reviews)\n",
    "#filterstopwords\n",
    "    filtered_tokens = [t for t in tokens if t not in en_stopwords]\n",
    "    stemmed_tokens = [ps.stem(t) for t in filtered_tokens]\n",
    "    cleaned_review = ' '.join(stemmed_tokens)\n",
    "    \n",
    "    return cleaned_review\n",
    "    "
   ]
  },
  {
   "cell_type": "code",
   "execution_count": 223,
   "id": "e35a64cd-5312-427b-bb45-0afc5a22dcda",
   "metadata": {},
   "outputs": [
    {
     "data": {
      "text/plain": [
       "'love movi sinc 7 saw open day touch beauti strongli recommend see movi watch famili far mpaa rate pg 13 themat element prolong scene disastor nuditi sexual languag'"
      ]
     },
     "execution_count": 223,
     "metadata": {},
     "output_type": "execute_result"
    }
   ],
   "source": [
    "getStemmedReview(sample_text)"
   ]
  },
  {
   "cell_type": "code",
   "execution_count": 224,
   "id": "7e0aa8a4-8f95-41f9-a253-5614a85e4125",
   "metadata": {},
   "outputs": [],
   "source": [
    "#write a function that accepts input file and return lean output file of movie\n",
    "# reviews."
   ]
  },
  {
   "cell_type": "code",
   "execution_count": 225,
   "id": "0a0ab8ed-e647-43f5-8c95-44e3e367bcf3",
   "metadata": {},
   "outputs": [],
   "source": [
    "import sys"
   ]
  },
  {
   "cell_type": "code",
   "execution_count": 226,
   "id": "2c521323-9c86-4a89-9422-0896ae7ef22a",
   "metadata": {},
   "outputs": [
    {
     "ename": "FileNotFoundError",
     "evalue": "[Errno 2] No such file or directory: '-f'",
     "output_type": "error",
     "traceback": [
      "\u001b[0;31m---------------------------------------------------------------------------\u001b[0m",
      "\u001b[0;31mFileNotFoundError\u001b[0m                         Traceback (most recent call last)",
      "Cell \u001b[0;32mIn[226], line 14\u001b[0m\n\u001b[1;32m     12\u001b[0m inputFile  \u001b[38;5;241m=\u001b[39m sys\u001b[38;5;241m.\u001b[39margv[\u001b[38;5;241m1\u001b[39m]\n\u001b[1;32m     13\u001b[0m outputFile \u001b[38;5;241m=\u001b[39m sys\u001b[38;5;241m.\u001b[39margv[\u001b[38;5;241m2\u001b[39m]\n\u001b[0;32m---> 14\u001b[0m getStemmedDocument(inputFile, outputFile)\n",
      "Cell \u001b[0;32mIn[226], line 3\u001b[0m, in \u001b[0;36mgetStemmedDocument\u001b[0;34m(inputFile, outputFile)\u001b[0m\n\u001b[1;32m      1\u001b[0m \u001b[38;5;28;01mdef\u001b[39;00m \u001b[38;5;21mgetStemmedDocument\u001b[39m(inputFile, outputFile):\n\u001b[1;32m      2\u001b[0m     out \u001b[38;5;241m=\u001b[39m \u001b[38;5;28mopen\u001b[39m(outputFile,\u001b[38;5;124m'\u001b[39m\u001b[38;5;124mw\u001b[39m\u001b[38;5;124m'\u001b[39m, encoding\u001b[38;5;241m=\u001b[39m \u001b[38;5;124m\"\u001b[39m\u001b[38;5;124mutf8\u001b[39m\u001b[38;5;124m\"\u001b[39m)\n\u001b[0;32m----> 3\u001b[0m     \u001b[38;5;28;01mwith\u001b[39;00m \u001b[38;5;28mopen\u001b[39m(inputFile, encoding\u001b[38;5;241m=\u001b[39m \u001b[38;5;124m\"\u001b[39m\u001b[38;5;124mutf8\u001b[39m\u001b[38;5;124m\"\u001b[39m) \u001b[38;5;28;01mas\u001b[39;00m f:\n\u001b[1;32m      4\u001b[0m         reviews \u001b[38;5;241m=\u001b[39m f\u001b[38;5;241m.\u001b[39mreadlines()\n\u001b[1;32m      5\u001b[0m     \u001b[38;5;28;01mfor\u001b[39;00m r \u001b[38;5;129;01min\u001b[39;00m reviews :\n",
      "File \u001b[0;32m/opt/anaconda3/lib/python3.11/site-packages/IPython/core/interactiveshell.py:310\u001b[0m, in \u001b[0;36m_modified_open\u001b[0;34m(file, *args, **kwargs)\u001b[0m\n\u001b[1;32m    303\u001b[0m \u001b[38;5;28;01mif\u001b[39;00m file \u001b[38;5;129;01min\u001b[39;00m {\u001b[38;5;241m0\u001b[39m, \u001b[38;5;241m1\u001b[39m, \u001b[38;5;241m2\u001b[39m}:\n\u001b[1;32m    304\u001b[0m     \u001b[38;5;28;01mraise\u001b[39;00m \u001b[38;5;167;01mValueError\u001b[39;00m(\n\u001b[1;32m    305\u001b[0m         \u001b[38;5;124mf\u001b[39m\u001b[38;5;124m\"\u001b[39m\u001b[38;5;124mIPython won\u001b[39m\u001b[38;5;124m'\u001b[39m\u001b[38;5;124mt let you open fd=\u001b[39m\u001b[38;5;132;01m{\u001b[39;00mfile\u001b[38;5;132;01m}\u001b[39;00m\u001b[38;5;124m by default \u001b[39m\u001b[38;5;124m\"\u001b[39m\n\u001b[1;32m    306\u001b[0m         \u001b[38;5;124m\"\u001b[39m\u001b[38;5;124mas it is likely to crash IPython. If you know what you are doing, \u001b[39m\u001b[38;5;124m\"\u001b[39m\n\u001b[1;32m    307\u001b[0m         \u001b[38;5;124m\"\u001b[39m\u001b[38;5;124myou can use builtins\u001b[39m\u001b[38;5;124m'\u001b[39m\u001b[38;5;124m open.\u001b[39m\u001b[38;5;124m\"\u001b[39m\n\u001b[1;32m    308\u001b[0m     )\n\u001b[0;32m--> 310\u001b[0m \u001b[38;5;28;01mreturn\u001b[39;00m io_open(file, \u001b[38;5;241m*\u001b[39margs, \u001b[38;5;241m*\u001b[39m\u001b[38;5;241m*\u001b[39mkwargs)\n",
      "\u001b[0;31mFileNotFoundError\u001b[0m: [Errno 2] No such file or directory: '-f'"
     ]
    }
   ],
   "source": [
    "def getStemmedDocument(inputFile, outputFile):\n",
    "    out = open(outputFile,'w', encoding= \"utf8\")\n",
    "    with open(inputFile, encoding= \"utf8\") as f:\n",
    "        reviews = f.readlines()\n",
    "    for r in reviews :\n",
    "        cleaned_review = getStemmedReview(reviews)\n",
    "        print((cleaned_review), file = out)\n",
    "    out.close()\n",
    "\n",
    "\n",
    "# Read commandline arguments:\n",
    "inputFile  = sys.argv[1]\n",
    "outputFile = sys.argv[2]\n",
    "getStemmedDocument(inputFile, outputFile)"
   ]
  },
  {
   "cell_type": "markdown",
   "id": "692f69ba-ba2a-46d3-91fd-f082edad4a55",
   "metadata": {},
   "source": [
    "### Text Classification - Naive Bayes"
   ]
  },
  {
   "cell_type": "markdown",
   "id": "0e1853e4-16cd-45b5-b9da-38793b499609",
   "metadata": {},
   "source": [
    "#### Multinomial Event Model"
   ]
  },
  {
   "cell_type": "code",
   "execution_count": 227,
   "id": "4f846bd5-bf46-46de-8e36-0fc99c4ebe30",
   "metadata": {},
   "outputs": [],
   "source": [
    "x = [\" I <br /><br />loved this movie since I was 7 and I saw it on the opening day. It was so touching and beautiful. I strongly recommend seeing for all. It's a movie to watch with your family by far.<br /><br />My MPAA rating: PG-13 for thematic elements, prolonged scenes of disastor, nudity/sexuality and some language.\",\n",
    "     \"A wonderful little production. <br /><br />The filming technique is very unassuming- very old-time-BBC fashion and gives a comforting, and sometimes discomforting, sense of realism to the entire piece. <br /><br />The actors are extremely well chosen- Michael Sheen not only \"\"has got all the polari\"\" but he has all the voices down pat too! You can truly see the seamless editing guided by the references to Williams' diary entries, not only is it well worth the watching but it is a terrificly written and performed piece. A masterful production about one of the great master's of comedy and his life. <br /><br />The realism really comes home with the little things: the fantasy of the guard which, rather than use the traditional 'dream' techniques remains solid then disappears. It plays on our knowledge and our senses, particularly with the scenes concerning Orton and Halliwell and the sets (particularly of their flat with Halliwell's murals decorating every surface) are terribly well done.\",\n",
    "     \"I thought this was a wonderful way to spend time on a too hot summer weekend, sitting in the air conditioned theater and watching a light-hearted comedy. The plot is simplistic, but the dialogue is witty and the characters are likable (even the well bread suspected serial killer). While some may be disappointed when they realize this is not Match Point 2: Risk Addiction, I thought it was proof that Woody Allen is still fully in control of the style many of us have grown to love.<br /><br />This was the most I'd laughed at one of Woody's comedies in years (dare I say a decade?). While I've never been impressed with Scarlet Johanson, in this she managed to tone down her \"\"sexy\"\" image and jumped right into a average, but spirited young woman.<br /><br />This may not be the crown jewel of his career, but it was wittier than \"\"Devil Wears Prada\"\" and more interesting than \"\"Superman\"\" a great comedy to go see with friend\",\n",
    "     \"Basically there's a family where a little boy (Jake) thinks there's a zombie in his closet & his parents are fighting all the time.<br /><br />This movie is slower than a soap opera... and suddenly, Jake decides to become Rambo and kill the zombie.<br /><br />OK, first of all when you're going to make a film you must Decide if its a thriller or a drama! As a drama the movie is watchable. Parents are divorcing & arguing like in real life. And then we have Jake with his closet which totally ruins all the film! I expected to see a BOOGEYMAN similar movie, and instead i watched a drama with some meaningless thriller spots.<br /><br />3 out of 10 just for the well playing parents & descent dialogs. As for the shots with Jake: just ignore them\",\n",
    "     \"Encouraged by the positive comments about this film on here I was looking forward to watching this film. Bad mistake. I've seen 950+ films and this is truly one of the worst of them - it's awful in almost every way: editing, pacing, storyline, 'acting,' soundtrack (the film's only song - a lame country tune - is played no less than four times). The film looks cheap and nasty and is boring in the extreme. Rarely have I been so happy to see the end credits of a film. <br /><br />The only thing that prevents me giving this a 1-score is Harvey Keitel - while this is far from his best performance he at least seems to be making a bit of an effort. One for Keitel obsessives only\"\n",
    "    ]\n",
    "\n",
    "y = [1, 1, 1, 0, 0 ] # 1 - positive , 0 - negative class \n"
   ]
  },
  {
   "cell_type": "code",
   "execution_count": 262,
   "id": "88396a92-0710-4bf7-a32c-a32022f8da3e",
   "metadata": {},
   "outputs": [],
   "source": [
    "test_x = [\"I loved the acting in the movie\",\n",
    "          \"The movie I saw was not bad\"]"
   ]
  },
  {
   "cell_type": "markdown",
   "id": "890e7501-d075-4f3b-ab58-a889327f1919",
   "metadata": {},
   "source": [
    "### 1. Cleaning of the data \n"
   ]
  },
  {
   "cell_type": "code",
   "execution_count": 230,
   "id": "25d99948-d5bd-4a74-bc9a-c109105a9b34",
   "metadata": {},
   "outputs": [],
   "source": [
    "x_clean = [getStemmedReview(i) for i in x]"
   ]
  },
  {
   "cell_type": "code",
   "execution_count": 231,
   "id": "69cb183b-c240-4330-ba36-6097915dddf2",
   "metadata": {},
   "outputs": [
    {
     "data": {
      "text/plain": [
       "list"
      ]
     },
     "execution_count": 231,
     "metadata": {},
     "output_type": "execute_result"
    }
   ],
   "source": [
    "type(x_clean)"
   ]
  },
  {
   "cell_type": "code",
   "execution_count": 232,
   "id": "1506eb34-b62a-478f-bc7f-d98b4e94c508",
   "metadata": {},
   "outputs": [
    {
     "data": {
      "text/plain": [
       "['love movi sinc 7 saw open day touch beauti strongli recommend see movi watch famili far mpaa rate pg 13 themat element prolong scene disastor nuditi sexual languag',\n",
       " 'wonder littl product film techniqu unassum old time bbc fashion give comfort sometim discomfort sens realism entir piec actor extrem well chosen michael sheen got polari voic pat truli see seamless edit guid refer william diari entri well worth watch terrificli written perform piec master product one great master comedi life realism realli come home littl thing fantasi guard rather use tradit dream techniqu remain solid disappear play knowledg sens particularli scene concern orton halliwel set particularli flat halliwel mural decor everi surfac terribl well done',\n",
       " 'thought wonder way spend time hot summer weekend sit air condit theater watch light heart comedi plot simplist dialogu witti charact likabl even well bread suspect serial killer may disappoint realiz match point 2 risk addict thought proof woodi allen still fulli control style mani us grown love laugh one woodi comedi year dare say decad never impress scarlet johanson manag tone sexi imag jump right averag spirit young woman may crown jewel career wittier devil wear prada interest superman great comedi go see friend',\n",
       " 'basic famili littl boy jake think zombi closet parent fight time movi slower soap opera suddenli jake decid becom rambo kill zombi ok first go make film must decid thriller drama drama movi watchabl parent divorc argu like real life jake closet total ruin film expect see boogeyman similar movi instead watch drama meaningless thriller spot 3 10 well play parent descent dialog shot jake ignor',\n",
       " 'encourag posit comment film look forward watch film bad mistak seen 950 film truli one worst aw almost everi way edit pace storylin act soundtrack film song lame countri tune play less four time film look cheap nasti bore extrem rare happi see end credit film thing prevent give 1 score harvey keitel far best perform least seem make bit effort one keitel obsess']"
      ]
     },
     "execution_count": 232,
     "metadata": {},
     "output_type": "execute_result"
    }
   ],
   "source": [
    "x_clean"
   ]
  },
  {
   "cell_type": "code",
   "execution_count": 233,
   "id": "492113cf-c765-45bc-9785-4512068fd04f",
   "metadata": {},
   "outputs": [
    {
     "data": {
      "text/plain": [
       "5"
      ]
     },
     "execution_count": 233,
     "metadata": {},
     "output_type": "execute_result"
    }
   ],
   "source": [
    "len(x_clean)"
   ]
  },
  {
   "cell_type": "code",
   "execution_count": 263,
   "id": "519b2176-03d1-4cd8-afd8-fee762b84027",
   "metadata": {},
   "outputs": [
    {
     "data": {
      "text/plain": [
       "['I loved the acting in the movie', 'The movie I saw was not bad']"
      ]
     },
     "execution_count": 263,
     "metadata": {},
     "output_type": "execute_result"
    }
   ],
   "source": [
    "test_x"
   ]
  },
  {
   "cell_type": "code",
   "execution_count": 264,
   "id": "76746af5-3953-4028-a3ab-45c75ad1cd73",
   "metadata": {},
   "outputs": [],
   "source": [
    "x_test_clean = [getStemmedReview(i) for i in test_x]"
   ]
  },
  {
   "cell_type": "code",
   "execution_count": 265,
   "id": "a4127c20-c3d0-437a-87e2-6a3bf31e38b4",
   "metadata": {},
   "outputs": [
    {
     "data": {
      "text/plain": [
       "['love act movi', 'movi saw bad']"
      ]
     },
     "execution_count": 265,
     "metadata": {},
     "output_type": "execute_result"
    }
   ],
   "source": [
    "x_test_clean"
   ]
  },
  {
   "cell_type": "markdown",
   "id": "e55912b5-b17b-4eff-ab44-7d2999f11473",
   "metadata": {},
   "source": [
    "### Step 2 : Use scikit learn \n",
    "- Multinomial Naive Bayes\n",
    "- Vectorization"
   ]
  },
  {
   "cell_type": "code",
   "execution_count": 242,
   "id": "bcc66967-e17c-4fa9-92b1-18cb48da0afb",
   "metadata": {},
   "outputs": [],
   "source": [
    "from sklearn.feature_extraction.text import CountVectorizer"
   ]
  },
  {
   "cell_type": "code",
   "execution_count": 243,
   "id": "8be55a4c-ab45-4fdc-903d-87b250acff7b",
   "metadata": {},
   "outputs": [],
   "source": [
    "cv = CountVectorizer()\n",
    "x_vector = cv.fit_transform(x_clean)"
   ]
  },
  {
   "cell_type": "code",
   "execution_count": 244,
   "id": "5d6e0a3a-1913-4626-8ed8-f004af77865f",
   "metadata": {},
   "outputs": [
    {
     "name": "stdout",
     "output_type": "stream",
     "text": [
      "  (0, 116)\t1\n",
      "  (0, 126)\t2\n",
      "  (0, 189)\t1\n",
      "  (0, 171)\t1\n",
      "  (0, 137)\t1\n",
      "  (0, 39)\t1\n",
      "  (0, 221)\t1\n",
      "  (0, 15)\t1\n",
      "  (0, 202)\t1\n",
      "  (0, 165)\t1\n",
      "  (0, 177)\t1\n",
      "  (0, 229)\t1\n",
      "  (0, 67)\t1\n",
      "  (0, 69)\t1\n",
      "  (0, 127)\t1\n",
      "  (0, 159)\t1\n",
      "  (0, 145)\t1\n",
      "  (0, 1)\t1\n",
      "  (0, 213)\t1\n",
      "  (0, 58)\t1\n",
      "  (0, 155)\t1\n",
      "  (0, 174)\t1\n",
      "  (0, 50)\t1\n",
      "  (0, 132)\t1\n",
      "  (0, 184)\t1\n",
      "  :\t:\n",
      "  (4, 3)\t1\n",
      "  (4, 196)\t1\n",
      "  (4, 195)\t1\n",
      "  (4, 105)\t1\n",
      "  (4, 35)\t1\n",
      "  (4, 224)\t1\n",
      "  (4, 109)\t1\n",
      "  (4, 76)\t1\n",
      "  (4, 25)\t1\n",
      "  (4, 130)\t1\n",
      "  (4, 20)\t1\n",
      "  (4, 158)\t1\n",
      "  (4, 87)\t1\n",
      "  (4, 60)\t1\n",
      "  (4, 36)\t1\n",
      "  (4, 153)\t1\n",
      "  (4, 175)\t1\n",
      "  (4, 88)\t1\n",
      "  (4, 101)\t2\n",
      "  (4, 17)\t1\n",
      "  (4, 108)\t1\n",
      "  (4, 178)\t1\n",
      "  (4, 18)\t1\n",
      "  (4, 57)\t1\n",
      "  (4, 133)\t1\n"
     ]
    }
   ],
   "source": [
    "print(x_vector)"
   ]
  },
  {
   "cell_type": "code",
   "execution_count": 245,
   "id": "ad5d6c27-7d69-45f7-963a-22e0170d3466",
   "metadata": {},
   "outputs": [],
   "source": [
    "x_vector = x_vector.toarray()"
   ]
  },
  {
   "cell_type": "code",
   "execution_count": 246,
   "id": "d6a15433-4cca-4cc0-9f28-d615f7313486",
   "metadata": {},
   "outputs": [
    {
     "data": {
      "text/plain": [
       "array([[0, 1, 0, ..., 0, 0, 0],\n",
       "       [0, 0, 0, ..., 0, 0, 0],\n",
       "       [0, 0, 0, ..., 1, 1, 0],\n",
       "       [1, 0, 0, ..., 0, 0, 2],\n",
       "       [0, 0, 1, ..., 0, 0, 0]])"
      ]
     },
     "execution_count": 246,
     "metadata": {},
     "output_type": "execute_result"
    }
   ],
   "source": [
    "x_vector"
   ]
  },
  {
   "cell_type": "code",
   "execution_count": 247,
   "id": "eee97e9d-a666-48bc-b6c3-02becf65df31",
   "metadata": {},
   "outputs": [
    {
     "data": {
      "text/plain": [
       "(5, 247)"
      ]
     },
     "execution_count": 247,
     "metadata": {},
     "output_type": "execute_result"
    }
   ],
   "source": [
    "x_vector.shape"
   ]
  },
  {
   "cell_type": "code",
   "execution_count": 248,
   "id": "677f5da9-780d-4aae-bc8c-60ac7a162b07",
   "metadata": {},
   "outputs": [
    {
     "name": "stdout",
     "output_type": "stream",
     "text": [
      "['10' '13' '950' 'act' 'actor' 'addict' 'air' 'allen' 'almost' 'argu'\n",
      " 'averag' 'aw' 'bad' 'basic' 'bbc' 'beauti' 'becom' 'best' 'bit'\n",
      " 'boogeyman' 'bore' 'boy' 'bread' 'career' 'charact' 'cheap' 'chosen'\n",
      " 'closet' 'come' 'comedi' 'comfort' 'comment' 'concern' 'condit' 'control'\n",
      " 'countri' 'credit' 'crown' 'dare' 'day' 'decad' 'decid' 'decor' 'descent'\n",
      " 'devil' 'dialog' 'dialogu' 'diari' 'disappear' 'disappoint' 'disastor'\n",
      " 'discomfort' 'divorc' 'done' 'drama' 'dream' 'edit' 'effort' 'element'\n",
      " 'encourag' 'end' 'entir' 'entri' 'even' 'everi' 'expect' 'extrem'\n",
      " 'famili' 'fantasi' 'far' 'fashion' 'fight' 'film' 'first' 'flat'\n",
      " 'forward' 'four' 'friend' 'fulli' 'give' 'go' 'got' 'great' 'grown'\n",
      " 'guard' 'guid' 'halliwel' 'happi' 'harvey' 'heart' 'home' 'hot' 'ignor'\n",
      " 'imag' 'impress' 'instead' 'interest' 'jake' 'jewel' 'johanson' 'jump'\n",
      " 'keitel' 'kill' 'killer' 'knowledg' 'lame' 'languag' 'laugh' 'least'\n",
      " 'less' 'life' 'light' 'likabl' 'like' 'littl' 'look' 'love' 'make'\n",
      " 'manag' 'mani' 'master' 'match' 'may' 'meaningless' 'michael' 'mistak'\n",
      " 'movi' 'mpaa' 'mural' 'must' 'nasti' 'never' 'nuditi' 'obsess' 'ok' 'old'\n",
      " 'one' 'open' 'opera' 'orton' 'pace' 'parent' 'particularli' 'pat'\n",
      " 'perform' 'pg' 'piec' 'play' 'plot' 'point' 'polari' 'posit' 'prada'\n",
      " 'prevent' 'product' 'prolong' 'proof' 'rambo' 'rare' 'rate' 'rather'\n",
      " 'real' 'realism' 'realiz' 'realli' 'recommend' 'refer' 'remain' 'right'\n",
      " 'risk' 'ruin' 'saw' 'say' 'scarlet' 'scene' 'score' 'seamless' 'see'\n",
      " 'seem' 'seen' 'sens' 'serial' 'set' 'sexi' 'sexual' 'sheen' 'shot'\n",
      " 'similar' 'simplist' 'sinc' 'sit' 'slower' 'soap' 'solid' 'sometim'\n",
      " 'song' 'soundtrack' 'spend' 'spirit' 'spot' 'still' 'storylin' 'strongli'\n",
      " 'style' 'suddenli' 'summer' 'superman' 'surfac' 'suspect' 'techniqu'\n",
      " 'terribl' 'terrificli' 'theater' 'themat' 'thing' 'think' 'thought'\n",
      " 'thriller' 'time' 'tone' 'total' 'touch' 'tradit' 'truli' 'tune'\n",
      " 'unassum' 'us' 'use' 'voic' 'watch' 'watchabl' 'way' 'wear' 'weekend'\n",
      " 'well' 'william' 'witti' 'wittier' 'woman' 'wonder' 'woodi' 'worst'\n",
      " 'worth' 'written' 'year' 'young' 'zombi'] 247\n"
     ]
    }
   ],
   "source": [
    "print(cv.get_feature_names_out(), len(cv.get_feature_names_out()))"
   ]
  },
  {
   "cell_type": "code",
   "execution_count": 249,
   "id": "67550627-a84e-4406-ae6a-35562ff35f27",
   "metadata": {},
   "outputs": [
    {
     "data": {
      "text/plain": [
       "['I loved the acting in the movie', 'The movie I saw was bad']"
      ]
     },
     "execution_count": 249,
     "metadata": {},
     "output_type": "execute_result"
    }
   ],
   "source": [
    "test_x"
   ]
  },
  {
   "cell_type": "code",
   "execution_count": 121,
   "id": "d63b3b0a-4075-476f-8730-97d6f3ba0eba",
   "metadata": {},
   "outputs": [],
   "source": [
    "# Now we apply on test set :\n",
    "test_x_vector = cv.fit_transform(x_test_clean).toarray()"
   ]
  },
  {
   "cell_type": "code",
   "execution_count": 122,
   "id": "7e027d2e-78f3-4a79-bbd6-90c5113866fb",
   "metadata": {},
   "outputs": [
    {
     "data": {
      "text/plain": [
       "array([[1, 0, 2, 1, 1, 0],\n",
       "       [0, 1, 0, 0, 1, 1]])"
      ]
     },
     "execution_count": 122,
     "metadata": {},
     "output_type": "execute_result"
    }
   ],
   "source": [
    "test_x_vector"
   ]
  },
  {
   "cell_type": "markdown",
   "id": "0fdec9b9-58ac-49c8-b032-e543464edf8e",
   "metadata": {},
   "source": [
    " - the array size for the test data is very small\n",
    " - ideally it should be  same as our x_clean data\n",
    " - this is because  we are using the fit_transform \n",
    " - rather than only transform, because fit function is used for \n",
    " -  training data , not on test data"
   ]
  },
  {
   "cell_type": "code",
   "execution_count": 123,
   "id": "5ac9b58d-8716-4ff8-b97c-e81b34460bc1",
   "metadata": {},
   "outputs": [
    {
     "data": {
      "text/plain": [
       "array(['act', 'bad', 'happi', 'love', 'movi', 'saw'], dtype=object)"
      ]
     },
     "execution_count": 123,
     "metadata": {},
     "output_type": "execute_result"
    }
   ],
   "source": [
    "cv.get_feature_names_out()\n"
   ]
  },
  {
   "cell_type": "markdown",
   "id": "a381cb65-753e-43a8-a655-f08fa657cf77",
   "metadata": {},
   "source": [
    "- Here we can see that fit function has made our model to learn from the test data.\n",
    "- To avoid that we are going to use just the test data"
   ]
  },
  {
   "cell_type": "code",
   "execution_count": 250,
   "id": "43e16f5d-e4e0-489b-8e2e-33f6532b8201",
   "metadata": {},
   "outputs": [],
   "source": [
    "test_x_vector = cv.transform(x_test_clean).toarray()"
   ]
  },
  {
   "cell_type": "code",
   "execution_count": 252,
   "id": "0d7fd972-05e1-4d69-8175-0f0e8ede0838",
   "metadata": {},
   "outputs": [
    {
     "name": "stdout",
     "output_type": "stream",
     "text": [
      "[[0 0 0 1 0 0 0 0 0 0 0 0 0 0 0 0 0 0 0 0 0 0 0 0 0 0 0 0 0 0 0 0 0 0 0 0\n",
      "  0 0 0 0 0 0 0 0 0 0 0 0 0 0 0 0 0 0 0 0 0 0 0 0 0 0 0 0 0 0 0 0 0 0 0 0\n",
      "  0 0 0 0 0 0 0 0 0 0 0 0 0 0 0 0 0 0 0 0 0 0 0 0 0 0 0 0 0 0 0 0 0 0 0 0\n",
      "  0 0 0 0 0 0 0 0 1 0 0 0 0 0 0 0 0 0 1 0 0 0 0 0 0 0 0 0 0 0 0 0 0 0 0 0\n",
      "  0 0 0 0 0 0 0 0 0 0 0 0 0 0 0 0 0 0 0 0 0 0 0 0 0 0 0 0 0 0 0 0 0 0 0 0\n",
      "  0 0 0 0 0 0 0 0 0 0 0 0 0 0 0 0 0 0 0 0 0 0 0 0 0 0 0 0 0 0 0 0 0 0 0 0\n",
      "  0 0 0 0 0 0 0 0 0 0 0 0 0 0 0 0 0 0 0 0 0 0 0 0 0 0 0 0 0 0 0]\n",
      " [0 0 0 0 0 0 0 0 0 0 0 0 1 0 0 0 0 0 0 0 0 0 0 0 0 0 0 0 0 0 0 0 0 0 0 0\n",
      "  0 0 0 0 0 0 0 0 0 0 0 0 0 0 0 0 0 0 0 0 0 0 0 0 0 0 0 0 0 0 0 0 0 0 0 0\n",
      "  0 0 0 0 0 0 0 0 0 0 0 0 0 0 0 0 0 0 0 0 0 0 0 0 0 0 0 0 0 0 0 0 0 0 0 0\n",
      "  0 0 0 0 0 0 0 0 0 0 0 0 0 0 0 0 0 0 1 0 0 0 0 0 0 0 0 0 0 0 0 0 0 0 0 0\n",
      "  0 0 0 0 0 0 0 0 0 0 0 0 0 0 0 0 0 0 0 0 0 0 0 0 0 0 0 1 0 0 0 0 0 0 0 0\n",
      "  0 0 0 0 0 0 0 0 0 0 0 0 0 0 0 0 0 0 0 0 0 0 0 0 0 0 0 0 0 0 0 0 0 0 0 0\n",
      "  0 0 0 0 0 0 0 0 0 0 0 0 0 0 0 0 0 0 0 0 0 0 0 0 0 0 0 0 0 0 0]]\n"
     ]
    }
   ],
   "source": [
    "print(test_x_vector) # sparse matrix"
   ]
  },
  {
   "cell_type": "code",
   "execution_count": 253,
   "id": "46bb4b64-38b0-4097-ab8f-12c375f6c10a",
   "metadata": {},
   "outputs": [
    {
     "name": "stdout",
     "output_type": "stream",
     "text": [
      "2 (2, 247)\n"
     ]
    }
   ],
   "source": [
    "print(len(test_x_vector), test_x_vector.shape)"
   ]
  },
  {
   "cell_type": "code",
   "execution_count": 164,
   "id": "901e3bfe-1e8e-400e-9c2b-a9f1c740417e",
   "metadata": {},
   "outputs": [
    {
     "data": {
      "text/plain": [
       "(array(['10', '13', '950', 'act', 'actor', 'addict', 'air', 'allen',\n",
       "        'almost', 'argu', 'averag', 'aw', 'bad', 'basic', 'bbc', 'beauti',\n",
       "        'becom', 'best', 'bit', 'boogeyman', 'bore', 'boy', 'bread',\n",
       "        'career', 'charact', 'cheap', 'chosen', 'closet', 'come', 'comedi',\n",
       "        'comfort', 'comment', 'concern', 'condit', 'control', 'countri',\n",
       "        'credit', 'crown', 'dare', 'day', 'decad', 'decid', 'decor',\n",
       "        'descent', 'devil', 'dialog', 'dialogu', 'diari', 'disappear',\n",
       "        'disappoint', 'disastor', 'discomfort', 'divorc', 'done', 'drama',\n",
       "        'dream', 'edit', 'effort', 'element', 'encourag', 'end', 'entir',\n",
       "        'entri', 'even', 'everi', 'expect', 'extrem', 'famili', 'fantasi',\n",
       "        'far', 'fashion', 'fight', 'film', 'first', 'flat', 'forward',\n",
       "        'four', 'friend', 'fulli', 'give', 'go', 'got', 'great', 'grown',\n",
       "        'guard', 'guid', 'halliwel', 'happi', 'harvey', 'heart', 'home',\n",
       "        'hot', 'ignor', 'imag', 'impress', 'instead', 'interest', 'jake',\n",
       "        'jewel', 'johanson', 'jump', 'keitel', 'kill', 'killer',\n",
       "        'knowledg', 'lame', 'languag', 'laugh', 'least', 'less', 'life',\n",
       "        'light', 'likabl', 'like', 'littl', 'look', 'love', 'make',\n",
       "        'manag', 'mani', 'master', 'match', 'may', 'meaningless',\n",
       "        'michael', 'mistak', 'movi', 'mpaa', 'mural', 'must', 'nasti',\n",
       "        'never', 'nuditi', 'obsess', 'ok', 'old', 'one', 'open', 'opera',\n",
       "        'orton', 'pace', 'parent', 'particularli', 'pat', 'perform', 'pg',\n",
       "        'piec', 'play', 'plot', 'point', 'polari', 'posit', 'prada',\n",
       "        'prevent', 'product', 'prolong', 'proof', 'rambo', 'rare', 'rate',\n",
       "        'rather', 'real', 'realism', 'realiz', 'realli', 'recommend',\n",
       "        'refer', 'remain', 'right', 'risk', 'ruin', 'saw', 'say',\n",
       "        'scarlet', 'scene', 'score', 'seamless', 'see', 'seem', 'seen',\n",
       "        'sens', 'serial', 'set', 'sexi', 'sexual', 'sheen', 'shot',\n",
       "        'similar', 'simplist', 'sinc', 'sit', 'slower', 'soap', 'solid',\n",
       "        'sometim', 'song', 'soundtrack', 'spend', 'spirit', 'spot',\n",
       "        'still', 'storylin', 'strongli', 'style', 'suddenli', 'summer',\n",
       "        'superman', 'surfac', 'suspect', 'techniqu', 'terribl',\n",
       "        'terrificli', 'theater', 'themat', 'thing', 'think', 'thought',\n",
       "        'thriller', 'time', 'tone', 'total', 'touch', 'tradit', 'truli',\n",
       "        'tune', 'unassum', 'us', 'use', 'voic', 'watch', 'watchabl', 'way',\n",
       "        'wear', 'weekend', 'well', 'william', 'witti', 'wittier', 'woman',\n",
       "        'wonder', 'woodi', 'worst', 'worth', 'written', 'year', 'young',\n",
       "        'zombi'], dtype=object),\n",
       " 247)"
      ]
     },
     "execution_count": 164,
     "metadata": {},
     "output_type": "execute_result"
    }
   ],
   "source": [
    "cv.get_feature_names_out() , len(cv.get_feature_names_out())"
   ]
  },
  {
   "cell_type": "code",
   "execution_count": 94,
   "id": "071f8c32-bb7e-4a35-9f60-5c8d352f39df",
   "metadata": {},
   "outputs": [],
   "source": [
    "### Create Our Model and train "
   ]
  },
  {
   "cell_type": "markdown",
   "id": "3593624f-6cb8-47de-b88b-6b8562fa216b",
   "metadata": {},
   "source": [
    "### Step 3 : Multinomial Naive Bayes"
   ]
  },
  {
   "cell_type": "code",
   "execution_count": 254,
   "id": "74a82247-3369-41e7-90e5-d4a14cd98b9e",
   "metadata": {},
   "outputs": [],
   "source": [
    "from sklearn.naive_bayes import MultinomialNB, BernoulliNB, GaussianNB"
   ]
  },
  {
   "cell_type": "code",
   "execution_count": 255,
   "id": "3f6ddefa-fd7c-42ae-a2ce-e1bf77be9fa0",
   "metadata": {},
   "outputs": [
    {
     "name": "stdout",
     "output_type": "stream",
     "text": [
      "MultinomialNB()\n"
     ]
    }
   ],
   "source": [
    "mnb = MultinomialNB()\n",
    "print(mnb)"
   ]
  },
  {
   "cell_type": "code",
   "execution_count": 256,
   "id": "2fcb77b7-cada-4c70-8c7a-a5755a159482",
   "metadata": {},
   "outputs": [
    {
     "data": {
      "text/plain": [
       "\u001b[0;31mType:\u001b[0m        MultinomialNB\n",
       "\u001b[0;31mString form:\u001b[0m MultinomialNB()\n",
       "\u001b[0;31mFile:\u001b[0m        /opt/anaconda3/lib/python3.11/site-packages/sklearn/naive_bayes.py\n",
       "\u001b[0;31mDocstring:\u001b[0m  \n",
       "Naive Bayes classifier for multinomial models.\n",
       "\n",
       "The multinomial Naive Bayes classifier is suitable for classification with\n",
       "discrete features (e.g., word counts for text classification). The\n",
       "multinomial distribution normally requires integer feature counts. However,\n",
       "in practice, fractional counts such as tf-idf may also work.\n",
       "\n",
       "Read more in the :ref:`User Guide <multinomial_naive_bayes>`.\n",
       "\n",
       "Parameters\n",
       "----------\n",
       "alpha : float or array-like of shape (n_features,), default=1.0\n",
       "    Additive (Laplace/Lidstone) smoothing parameter\n",
       "    (set alpha=0 and force_alpha=True, for no smoothing).\n",
       "\n",
       "force_alpha : bool, default=False\n",
       "    If False and alpha is less than 1e-10, it will set alpha to\n",
       "    1e-10. If True, alpha will remain unchanged. This may cause\n",
       "    numerical errors if alpha is too close to 0.\n",
       "\n",
       "    .. versionadded:: 1.2\n",
       "    .. deprecated:: 1.2\n",
       "       The default value of `force_alpha` will change to `True` in v1.4.\n",
       "\n",
       "fit_prior : bool, default=True\n",
       "    Whether to learn class prior probabilities or not.\n",
       "    If false, a uniform prior will be used.\n",
       "\n",
       "class_prior : array-like of shape (n_classes,), default=None\n",
       "    Prior probabilities of the classes. If specified, the priors are not\n",
       "    adjusted according to the data.\n",
       "\n",
       "Attributes\n",
       "----------\n",
       "class_count_ : ndarray of shape (n_classes,)\n",
       "    Number of samples encountered for each class during fitting. This\n",
       "    value is weighted by the sample weight when provided.\n",
       "\n",
       "class_log_prior_ : ndarray of shape (n_classes,)\n",
       "    Smoothed empirical log probability for each class.\n",
       "\n",
       "classes_ : ndarray of shape (n_classes,)\n",
       "    Class labels known to the classifier\n",
       "\n",
       "feature_count_ : ndarray of shape (n_classes, n_features)\n",
       "    Number of samples encountered for each (class, feature)\n",
       "    during fitting. This value is weighted by the sample weight when\n",
       "    provided.\n",
       "\n",
       "feature_log_prob_ : ndarray of shape (n_classes, n_features)\n",
       "    Empirical log probability of features\n",
       "    given a class, ``P(x_i|y)``.\n",
       "\n",
       "n_features_in_ : int\n",
       "    Number of features seen during :term:`fit`.\n",
       "\n",
       "    .. versionadded:: 0.24\n",
       "\n",
       "feature_names_in_ : ndarray of shape (`n_features_in_`,)\n",
       "    Names of features seen during :term:`fit`. Defined only when `X`\n",
       "    has feature names that are all strings.\n",
       "\n",
       "    .. versionadded:: 1.0\n",
       "\n",
       "See Also\n",
       "--------\n",
       "BernoulliNB : Naive Bayes classifier for multivariate Bernoulli models.\n",
       "CategoricalNB : Naive Bayes classifier for categorical features.\n",
       "ComplementNB : Complement Naive Bayes classifier.\n",
       "GaussianNB : Gaussian Naive Bayes.\n",
       "\n",
       "References\n",
       "----------\n",
       "C.D. Manning, P. Raghavan and H. Schuetze (2008). Introduction to\n",
       "Information Retrieval. Cambridge University Press, pp. 234-265.\n",
       "https://nlp.stanford.edu/IR-book/html/htmledition/naive-bayes-text-classification-1.html\n",
       "\n",
       "Examples\n",
       "--------\n",
       ">>> import numpy as np\n",
       ">>> rng = np.random.RandomState(1)\n",
       ">>> X = rng.randint(5, size=(6, 100))\n",
       ">>> y = np.array([1, 2, 3, 4, 5, 6])\n",
       ">>> from sklearn.naive_bayes import MultinomialNB\n",
       ">>> clf = MultinomialNB(force_alpha=True)\n",
       ">>> clf.fit(X, y)\n",
       "MultinomialNB(force_alpha=True)\n",
       ">>> print(clf.predict(X[2:3]))\n",
       "[3]"
      ]
     },
     "metadata": {},
     "output_type": "display_data"
    }
   ],
   "source": [
    "mnb?"
   ]
  },
  {
   "cell_type": "code",
   "execution_count": 257,
   "id": "c619a7ed-e150-43b6-8c58-abdd1df24fb8",
   "metadata": {},
   "outputs": [
    {
     "data": {
      "text/html": [
       "<style>#sk-container-id-8 {color: black;background-color: white;}#sk-container-id-8 pre{padding: 0;}#sk-container-id-8 div.sk-toggleable {background-color: white;}#sk-container-id-8 label.sk-toggleable__label {cursor: pointer;display: block;width: 100%;margin-bottom: 0;padding: 0.3em;box-sizing: border-box;text-align: center;}#sk-container-id-8 label.sk-toggleable__label-arrow:before {content: \"▸\";float: left;margin-right: 0.25em;color: #696969;}#sk-container-id-8 label.sk-toggleable__label-arrow:hover:before {color: black;}#sk-container-id-8 div.sk-estimator:hover label.sk-toggleable__label-arrow:before {color: black;}#sk-container-id-8 div.sk-toggleable__content {max-height: 0;max-width: 0;overflow: hidden;text-align: left;background-color: #f0f8ff;}#sk-container-id-8 div.sk-toggleable__content pre {margin: 0.2em;color: black;border-radius: 0.25em;background-color: #f0f8ff;}#sk-container-id-8 input.sk-toggleable__control:checked~div.sk-toggleable__content {max-height: 200px;max-width: 100%;overflow: auto;}#sk-container-id-8 input.sk-toggleable__control:checked~label.sk-toggleable__label-arrow:before {content: \"▾\";}#sk-container-id-8 div.sk-estimator input.sk-toggleable__control:checked~label.sk-toggleable__label {background-color: #d4ebff;}#sk-container-id-8 div.sk-label input.sk-toggleable__control:checked~label.sk-toggleable__label {background-color: #d4ebff;}#sk-container-id-8 input.sk-hidden--visually {border: 0;clip: rect(1px 1px 1px 1px);clip: rect(1px, 1px, 1px, 1px);height: 1px;margin: -1px;overflow: hidden;padding: 0;position: absolute;width: 1px;}#sk-container-id-8 div.sk-estimator {font-family: monospace;background-color: #f0f8ff;border: 1px dotted black;border-radius: 0.25em;box-sizing: border-box;margin-bottom: 0.5em;}#sk-container-id-8 div.sk-estimator:hover {background-color: #d4ebff;}#sk-container-id-8 div.sk-parallel-item::after {content: \"\";width: 100%;border-bottom: 1px solid gray;flex-grow: 1;}#sk-container-id-8 div.sk-label:hover label.sk-toggleable__label {background-color: #d4ebff;}#sk-container-id-8 div.sk-serial::before {content: \"\";position: absolute;border-left: 1px solid gray;box-sizing: border-box;top: 0;bottom: 0;left: 50%;z-index: 0;}#sk-container-id-8 div.sk-serial {display: flex;flex-direction: column;align-items: center;background-color: white;padding-right: 0.2em;padding-left: 0.2em;position: relative;}#sk-container-id-8 div.sk-item {position: relative;z-index: 1;}#sk-container-id-8 div.sk-parallel {display: flex;align-items: stretch;justify-content: center;background-color: white;position: relative;}#sk-container-id-8 div.sk-item::before, #sk-container-id-8 div.sk-parallel-item::before {content: \"\";position: absolute;border-left: 1px solid gray;box-sizing: border-box;top: 0;bottom: 0;left: 50%;z-index: -1;}#sk-container-id-8 div.sk-parallel-item {display: flex;flex-direction: column;z-index: 1;position: relative;background-color: white;}#sk-container-id-8 div.sk-parallel-item:first-child::after {align-self: flex-end;width: 50%;}#sk-container-id-8 div.sk-parallel-item:last-child::after {align-self: flex-start;width: 50%;}#sk-container-id-8 div.sk-parallel-item:only-child::after {width: 0;}#sk-container-id-8 div.sk-dashed-wrapped {border: 1px dashed gray;margin: 0 0.4em 0.5em 0.4em;box-sizing: border-box;padding-bottom: 0.4em;background-color: white;}#sk-container-id-8 div.sk-label label {font-family: monospace;font-weight: bold;display: inline-block;line-height: 1.2em;}#sk-container-id-8 div.sk-label-container {text-align: center;}#sk-container-id-8 div.sk-container {/* jupyter's `normalize.less` sets `[hidden] { display: none; }` but bootstrap.min.css set `[hidden] { display: none !important; }` so we also need the `!important` here to be able to override the default hidden behavior on the sphinx rendered scikit-learn.org. See: https://github.com/scikit-learn/scikit-learn/issues/21755 */display: inline-block !important;position: relative;}#sk-container-id-8 div.sk-text-repr-fallback {display: none;}</style><div id=\"sk-container-id-8\" class=\"sk-top-container\"><div class=\"sk-text-repr-fallback\"><pre>MultinomialNB()</pre><b>In a Jupyter environment, please rerun this cell to show the HTML representation or trust the notebook. <br />On GitHub, the HTML representation is unable to render, please try loading this page with nbviewer.org.</b></div><div class=\"sk-container\" hidden><div class=\"sk-item\"><div class=\"sk-estimator sk-toggleable\"><input class=\"sk-toggleable__control sk-hidden--visually\" id=\"sk-estimator-id-8\" type=\"checkbox\" checked><label for=\"sk-estimator-id-8\" class=\"sk-toggleable__label sk-toggleable__label-arrow\">MultinomialNB</label><div class=\"sk-toggleable__content\"><pre>MultinomialNB()</pre></div></div></div></div></div>"
      ],
      "text/plain": [
       "MultinomialNB()"
      ]
     },
     "execution_count": 257,
     "metadata": {},
     "output_type": "execute_result"
    }
   ],
   "source": [
    "### Training\n",
    "mnb.fit(x_vector,y)"
   ]
  },
  {
   "cell_type": "code",
   "execution_count": 258,
   "id": "177d4eeb-2011-4f4c-9ada-5c07f40c1d3d",
   "metadata": {},
   "outputs": [
    {
     "data": {
      "text/plain": [
       "array([1, 0])"
      ]
     },
     "execution_count": 258,
     "metadata": {},
     "output_type": "execute_result"
    }
   ],
   "source": [
    "#### predictions\n",
    "mnb.predict(test_x_vector)"
   ]
  },
  {
   "cell_type": "code",
   "execution_count": 259,
   "id": "481ac06a-a7b6-4c5b-b038-135072e10201",
   "metadata": {},
   "outputs": [
    {
     "data": {
      "text/plain": [
       "['I loved the acting in the movie', 'The movie I saw was bad']"
      ]
     },
     "execution_count": 259,
     "metadata": {},
     "output_type": "execute_result"
    }
   ],
   "source": [
    "test_x"
   ]
  },
  {
   "cell_type": "markdown",
   "id": "9c0b4a39-10ce-4ba3-b43b-b415ee41f946",
   "metadata": {},
   "source": [
    "- Sometiimes results can go wrong because , we are using this bag of words\n",
    "- and we are using stopwords which sometimes erradicate some important words\n",
    "- like if I change the text to 'The movie I saw was not  bad', it still respond as a negative reviews because stopword has dismissed this word particularly.\n",
    "- we can have n-gram in countvector ."
   ]
  },
  {
   "cell_type": "code",
   "execution_count": 269,
   "id": "a7a03b39-5272-421c-9a43-9a165fa4654e",
   "metadata": {},
   "outputs": [
    {
     "data": {
      "text/plain": [
       "array([[0.49586196, 0.50413804],\n",
       "       [0.5960209 , 0.4039791 ]])"
      ]
     },
     "execution_count": 269,
     "metadata": {},
     "output_type": "execute_result"
    }
   ],
   "source": [
    "mnb.predict_proba(test_x_vector)# class zero and class 1\n",
    "# took the argmax of these values."
   ]
  },
  {
   "cell_type": "code",
   "execution_count": 286,
   "id": "005fdb99-82b5-495d-859b-79aff429ef5d",
   "metadata": {},
   "outputs": [
    {
     "data": {
      "text/plain": [
       "array([1, 0])"
      ]
     },
     "execution_count": 286,
     "metadata": {},
     "output_type": "execute_result"
    }
   ],
   "source": [
    "mnb.predict(test_x_vector)"
   ]
  },
  {
   "cell_type": "markdown",
   "id": "a905f438-f214-4393-a91a-53ecf7d06598",
   "metadata": {},
   "source": [
    "### 4. Multivariate Bernoulli Event Model Naive Bayes"
   ]
  },
  {
   "cell_type": "markdown",
   "id": "ae8159bd-18c5-4936-94dd-d2d0941bcc4c",
   "metadata": {},
   "source": [
    "- feature_vector = [1 0 0 2 5] ==>>> [1 0 0 1 1]\n"
   ]
  },
  {
   "cell_type": "code",
   "execution_count": 271,
   "id": "cfd4b1f6-7cf9-49c7-9a22-e4bdbb26a4cf",
   "metadata": {},
   "outputs": [],
   "source": [
    "Bnb = BernoulliNB()"
   ]
  },
  {
   "cell_type": "code",
   "execution_count": 278,
   "id": "ad6b8e53-ca44-4416-8087-73cac67fe017",
   "metadata": {},
   "outputs": [
    {
     "data": {
      "text/plain": [
       "\u001b[0;31mType:\u001b[0m        BernoulliNB\n",
       "\u001b[0;31mString form:\u001b[0m BernoulliNB()\n",
       "\u001b[0;31mFile:\u001b[0m        /opt/anaconda3/lib/python3.11/site-packages/sklearn/naive_bayes.py\n",
       "\u001b[0;31mDocstring:\u001b[0m  \n",
       "Naive Bayes classifier for multivariate Bernoulli models.\n",
       "\n",
       "Like MultinomialNB, this classifier is suitable for discrete data. The\n",
       "difference is that while MultinomialNB works with occurrence counts,\n",
       "BernoulliNB is designed for binary/boolean features.\n",
       "\n",
       "Read more in the :ref:`User Guide <bernoulli_naive_bayes>`.\n",
       "\n",
       "Parameters\n",
       "----------\n",
       "alpha : float or array-like of shape (n_features,), default=1.0\n",
       "    Additive (Laplace/Lidstone) smoothing parameter\n",
       "    (set alpha=0 and force_alpha=True, for no smoothing).\n",
       "\n",
       "force_alpha : bool, default=False\n",
       "    If False and alpha is less than 1e-10, it will set alpha to\n",
       "    1e-10. If True, alpha will remain unchanged. This may cause\n",
       "    numerical errors if alpha is too close to 0.\n",
       "\n",
       "    .. versionadded:: 1.2\n",
       "    .. deprecated:: 1.2\n",
       "       The default value of `force_alpha` will change to `True` in v1.4.\n",
       "\n",
       "binarize : float or None, default=0.0\n",
       "    Threshold for binarizing (mapping to booleans) of sample features.\n",
       "    If None, input is presumed to already consist of binary vectors.\n",
       "\n",
       "fit_prior : bool, default=True\n",
       "    Whether to learn class prior probabilities or not.\n",
       "    If false, a uniform prior will be used.\n",
       "\n",
       "class_prior : array-like of shape (n_classes,), default=None\n",
       "    Prior probabilities of the classes. If specified, the priors are not\n",
       "    adjusted according to the data.\n",
       "\n",
       "Attributes\n",
       "----------\n",
       "class_count_ : ndarray of shape (n_classes,)\n",
       "    Number of samples encountered for each class during fitting. This\n",
       "    value is weighted by the sample weight when provided.\n",
       "\n",
       "class_log_prior_ : ndarray of shape (n_classes,)\n",
       "    Log probability of each class (smoothed).\n",
       "\n",
       "classes_ : ndarray of shape (n_classes,)\n",
       "    Class labels known to the classifier\n",
       "\n",
       "feature_count_ : ndarray of shape (n_classes, n_features)\n",
       "    Number of samples encountered for each (class, feature)\n",
       "    during fitting. This value is weighted by the sample weight when\n",
       "    provided.\n",
       "\n",
       "feature_log_prob_ : ndarray of shape (n_classes, n_features)\n",
       "    Empirical log probability of features given a class, P(x_i|y).\n",
       "\n",
       "n_features_in_ : int\n",
       "    Number of features seen during :term:`fit`.\n",
       "\n",
       "    .. versionadded:: 0.24\n",
       "\n",
       "feature_names_in_ : ndarray of shape (`n_features_in_`,)\n",
       "    Names of features seen during :term:`fit`. Defined only when `X`\n",
       "    has feature names that are all strings.\n",
       "\n",
       "    .. versionadded:: 1.0\n",
       "\n",
       "See Also\n",
       "--------\n",
       "CategoricalNB : Naive Bayes classifier for categorical features.\n",
       "ComplementNB : The Complement Naive Bayes classifier\n",
       "    described in Rennie et al. (2003).\n",
       "GaussianNB : Gaussian Naive Bayes (GaussianNB).\n",
       "MultinomialNB : Naive Bayes classifier for multinomial models.\n",
       "\n",
       "References\n",
       "----------\n",
       "C.D. Manning, P. Raghavan and H. Schuetze (2008). Introduction to\n",
       "Information Retrieval. Cambridge University Press, pp. 234-265.\n",
       "https://nlp.stanford.edu/IR-book/html/htmledition/the-bernoulli-model-1.html\n",
       "\n",
       "A. McCallum and K. Nigam (1998). A comparison of event models for naive\n",
       "Bayes text classification. Proc. AAAI/ICML-98 Workshop on Learning for\n",
       "Text Categorization, pp. 41-48.\n",
       "\n",
       "V. Metsis, I. Androutsopoulos and G. Paliouras (2006). Spam filtering with\n",
       "naive Bayes -- Which naive Bayes? 3rd Conf. on Email and Anti-Spam (CEAS).\n",
       "\n",
       "Examples\n",
       "--------\n",
       ">>> import numpy as np\n",
       ">>> rng = np.random.RandomState(1)\n",
       ">>> X = rng.randint(5, size=(6, 100))\n",
       ">>> Y = np.array([1, 2, 3, 4, 4, 5])\n",
       ">>> from sklearn.naive_bayes import BernoulliNB\n",
       ">>> clf = BernoulliNB(force_alpha=True)\n",
       ">>> clf.fit(X, Y)\n",
       "BernoulliNB(force_alpha=True)\n",
       ">>> print(clf.predict(X[2:3]))\n",
       "[3]"
      ]
     },
     "metadata": {},
     "output_type": "display_data"
    }
   ],
   "source": [
    "Bnb?"
   ]
  },
  {
   "cell_type": "code",
   "execution_count": 279,
   "id": "3711225a-1172-4d75-9dbc-afe2f494046e",
   "metadata": {},
   "outputs": [],
   "source": [
    "# alpha is smoothing factor\n",
    "# what is binarize ?"
   ]
  },
  {
   "cell_type": "code",
   "execution_count": 280,
   "id": "3991991f-dcda-4efd-95d7-b5fcbb922055",
   "metadata": {},
   "outputs": [],
   "source": [
    "bnb = BernoulliNB(binarize = 0.0)"
   ]
  },
  {
   "cell_type": "code",
   "execution_count": 281,
   "id": "a2a2e133-b234-40bb-a600-b59d1c982df1",
   "metadata": {},
   "outputs": [
    {
     "data": {
      "text/html": [
       "<style>#sk-container-id-10 {color: black;background-color: white;}#sk-container-id-10 pre{padding: 0;}#sk-container-id-10 div.sk-toggleable {background-color: white;}#sk-container-id-10 label.sk-toggleable__label {cursor: pointer;display: block;width: 100%;margin-bottom: 0;padding: 0.3em;box-sizing: border-box;text-align: center;}#sk-container-id-10 label.sk-toggleable__label-arrow:before {content: \"▸\";float: left;margin-right: 0.25em;color: #696969;}#sk-container-id-10 label.sk-toggleable__label-arrow:hover:before {color: black;}#sk-container-id-10 div.sk-estimator:hover label.sk-toggleable__label-arrow:before {color: black;}#sk-container-id-10 div.sk-toggleable__content {max-height: 0;max-width: 0;overflow: hidden;text-align: left;background-color: #f0f8ff;}#sk-container-id-10 div.sk-toggleable__content pre {margin: 0.2em;color: black;border-radius: 0.25em;background-color: #f0f8ff;}#sk-container-id-10 input.sk-toggleable__control:checked~div.sk-toggleable__content {max-height: 200px;max-width: 100%;overflow: auto;}#sk-container-id-10 input.sk-toggleable__control:checked~label.sk-toggleable__label-arrow:before {content: \"▾\";}#sk-container-id-10 div.sk-estimator input.sk-toggleable__control:checked~label.sk-toggleable__label {background-color: #d4ebff;}#sk-container-id-10 div.sk-label input.sk-toggleable__control:checked~label.sk-toggleable__label {background-color: #d4ebff;}#sk-container-id-10 input.sk-hidden--visually {border: 0;clip: rect(1px 1px 1px 1px);clip: rect(1px, 1px, 1px, 1px);height: 1px;margin: -1px;overflow: hidden;padding: 0;position: absolute;width: 1px;}#sk-container-id-10 div.sk-estimator {font-family: monospace;background-color: #f0f8ff;border: 1px dotted black;border-radius: 0.25em;box-sizing: border-box;margin-bottom: 0.5em;}#sk-container-id-10 div.sk-estimator:hover {background-color: #d4ebff;}#sk-container-id-10 div.sk-parallel-item::after {content: \"\";width: 100%;border-bottom: 1px solid gray;flex-grow: 1;}#sk-container-id-10 div.sk-label:hover label.sk-toggleable__label {background-color: #d4ebff;}#sk-container-id-10 div.sk-serial::before {content: \"\";position: absolute;border-left: 1px solid gray;box-sizing: border-box;top: 0;bottom: 0;left: 50%;z-index: 0;}#sk-container-id-10 div.sk-serial {display: flex;flex-direction: column;align-items: center;background-color: white;padding-right: 0.2em;padding-left: 0.2em;position: relative;}#sk-container-id-10 div.sk-item {position: relative;z-index: 1;}#sk-container-id-10 div.sk-parallel {display: flex;align-items: stretch;justify-content: center;background-color: white;position: relative;}#sk-container-id-10 div.sk-item::before, #sk-container-id-10 div.sk-parallel-item::before {content: \"\";position: absolute;border-left: 1px solid gray;box-sizing: border-box;top: 0;bottom: 0;left: 50%;z-index: -1;}#sk-container-id-10 div.sk-parallel-item {display: flex;flex-direction: column;z-index: 1;position: relative;background-color: white;}#sk-container-id-10 div.sk-parallel-item:first-child::after {align-self: flex-end;width: 50%;}#sk-container-id-10 div.sk-parallel-item:last-child::after {align-self: flex-start;width: 50%;}#sk-container-id-10 div.sk-parallel-item:only-child::after {width: 0;}#sk-container-id-10 div.sk-dashed-wrapped {border: 1px dashed gray;margin: 0 0.4em 0.5em 0.4em;box-sizing: border-box;padding-bottom: 0.4em;background-color: white;}#sk-container-id-10 div.sk-label label {font-family: monospace;font-weight: bold;display: inline-block;line-height: 1.2em;}#sk-container-id-10 div.sk-label-container {text-align: center;}#sk-container-id-10 div.sk-container {/* jupyter's `normalize.less` sets `[hidden] { display: none; }` but bootstrap.min.css set `[hidden] { display: none !important; }` so we also need the `!important` here to be able to override the default hidden behavior on the sphinx rendered scikit-learn.org. See: https://github.com/scikit-learn/scikit-learn/issues/21755 */display: inline-block !important;position: relative;}#sk-container-id-10 div.sk-text-repr-fallback {display: none;}</style><div id=\"sk-container-id-10\" class=\"sk-top-container\"><div class=\"sk-text-repr-fallback\"><pre>BernoulliNB()</pre><b>In a Jupyter environment, please rerun this cell to show the HTML representation or trust the notebook. <br />On GitHub, the HTML representation is unable to render, please try loading this page with nbviewer.org.</b></div><div class=\"sk-container\" hidden><div class=\"sk-item\"><div class=\"sk-estimator sk-toggleable\"><input class=\"sk-toggleable__control sk-hidden--visually\" id=\"sk-estimator-id-10\" type=\"checkbox\" checked><label for=\"sk-estimator-id-10\" class=\"sk-toggleable__label sk-toggleable__label-arrow\">BernoulliNB</label><div class=\"sk-toggleable__content\"><pre>BernoulliNB()</pre></div></div></div></div></div>"
      ],
      "text/plain": [
       "BernoulliNB()"
      ]
     },
     "execution_count": 281,
     "metadata": {},
     "output_type": "execute_result"
    }
   ],
   "source": [
    "bnb.fit(x_vector, y)"
   ]
  },
  {
   "cell_type": "code",
   "execution_count": 284,
   "id": "aba27b1a-20f7-4952-8ba6-11b098810dbe",
   "metadata": {},
   "outputs": [
    {
     "data": {
      "text/plain": [
       "array([[9.17758552e-04, 9.99082241e-01],\n",
       "       [2.06259054e-03, 9.97937409e-01]])"
      ]
     },
     "execution_count": 284,
     "metadata": {},
     "output_type": "execute_result"
    }
   ],
   "source": [
    "bnb.predict_proba(test_x_vector)\n",
    "# answer is different  from mltinomial naive bayes \n",
    "# as it is not worried about the frequency of word appeared in the sentence\n",
    "# It is worried about the occurence fo the feature."
   ]
  },
  {
   "cell_type": "code",
   "execution_count": 283,
   "id": "32376cd7-4541-4640-a11a-2a9de8ef91cc",
   "metadata": {},
   "outputs": [
    {
     "data": {
      "text/plain": [
       "array([1, 1])"
      ]
     },
     "execution_count": 283,
     "metadata": {},
     "output_type": "execute_result"
    }
   ],
   "source": [
    "bnb.predict(test_x_vector)"
   ]
  },
  {
   "cell_type": "code",
   "execution_count": 287,
   "id": "42a3d22a-cc9c-4ffe-bb63-ffb30e5b4a93",
   "metadata": {},
   "outputs": [
    {
     "data": {
      "text/plain": [
       "array([1, 0])"
      ]
     },
     "execution_count": 287,
     "metadata": {},
     "output_type": "execute_result"
    }
   ],
   "source": [
    "mnb.predict(test_x_vector)"
   ]
  },
  {
   "cell_type": "code",
   "execution_count": 290,
   "id": "5c76cfc5-b7a3-4a5d-89a4-1a16be10f608",
   "metadata": {},
   "outputs": [
    {
     "data": {
      "text/plain": [
       "(1.0, 1.0)"
      ]
     },
     "execution_count": 290,
     "metadata": {},
     "output_type": "execute_result"
    }
   ],
   "source": [
    "bnb.score(x_vector, y), mnb.score(x_vector, y)\n",
    "# accuracy 100% for our small dataset\n",
    "# case of overfiting\n",
    "# score is checked on "
   ]
  },
  {
   "cell_type": "code",
   "execution_count": 295,
   "id": "1353a24e-087e-43c2-95f9-bff412812600",
   "metadata": {},
   "outputs": [
    {
     "data": {
      "text/plain": [
       "0.5"
      ]
     },
     "execution_count": 295,
     "metadata": {},
     "output_type": "execute_result"
    }
   ],
   "source": [
    "bnb.score(test_x_vector, [1,0])"
   ]
  },
  {
   "cell_type": "markdown",
   "id": "ff00cd72-4d77-474d-9be4-4aefb0763150",
   "metadata": {},
   "source": [
    "### Confusion Matrix "
   ]
  },
  {
   "cell_type": "code",
   "execution_count": null,
   "id": "fb859cc1-8817-44fd-b326-66fa2ecdcd96",
   "metadata": {},
   "outputs": [],
   "source": []
  }
 ],
 "metadata": {
  "kernelspec": {
   "display_name": "Python 3 (ipykernel)",
   "language": "python",
   "name": "python3"
  },
  "language_info": {
   "codemirror_mode": {
    "name": "ipython",
    "version": 3
   },
   "file_extension": ".py",
   "mimetype": "text/x-python",
   "name": "python",
   "nbconvert_exporter": "python",
   "pygments_lexer": "ipython3",
   "version": "3.11.7"
  }
 },
 "nbformat": 4,
 "nbformat_minor": 5
}
